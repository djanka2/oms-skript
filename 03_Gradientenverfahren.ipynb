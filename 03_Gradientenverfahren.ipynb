{
 "cells": [
  {
   "cell_type": "markdown",
   "id": "b3a922e1-ce4a-4473-9e0e-5cb2c9ce7e6e",
   "metadata": {},
   "source": [
    "# Gradientenverfahren"
   ]
  },
  {
   "cell_type": "code",
   "execution_count": null,
   "id": "5a75d2ab-7370-4c70-b63c-cd2b6ea30bec",
   "metadata": {},
   "outputs": [],
   "source": []
  }
 ],
 "metadata": {
  "kernelspec": {
   "display_name": "Python 3 (ipykernel)",
   "language": "python",
   "name": "python3"
  },
  "language_info": {
   "codemirror_mode": {
    "name": "ipython",
    "version": 3
   },
   "file_extension": ".py",
   "mimetype": "text/x-python",
   "name": "python",
   "nbconvert_exporter": "python",
   "pygments_lexer": "ipython3",
   "version": "3.9.6"
  }
 },
 "nbformat": 4,
 "nbformat_minor": 5
}
