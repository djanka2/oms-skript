{
 "cells": [
  {
   "cell_type": "markdown",
   "id": "c7c0dd88-a0d1-44bc-9dc3-c18672250864",
   "metadata": {},
   "source": [
    "# Optimierungsverfahren für Probleme des maschinellen Lernens"
   ]
  },
  {
   "cell_type": "code",
   "execution_count": null,
   "id": "01f27a5d-757b-49fa-911d-19236fb1bef0",
   "metadata": {},
   "outputs": [],
   "source": []
  }
 ],
 "metadata": {
  "kernelspec": {
   "display_name": "Python 3 (ipykernel)",
   "language": "python",
   "name": "python3"
  },
  "language_info": {
   "codemirror_mode": {
    "name": "ipython",
    "version": 3
   },
   "file_extension": ".py",
   "mimetype": "text/x-python",
   "name": "python",
   "nbconvert_exporter": "python",
   "pygments_lexer": "ipython3",
   "version": "3.9.6"
  }
 },
 "nbformat": 4,
 "nbformat_minor": 5
}
