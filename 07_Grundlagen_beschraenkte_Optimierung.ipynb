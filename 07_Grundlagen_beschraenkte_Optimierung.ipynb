{
 "cells": [
  {
   "cell_type": "markdown",
   "id": "f8186b51-2199-482d-9717-e1e96150ac0b",
   "metadata": {},
   "source": [
    "# Grundlagen der beschränkten Optimierung"
   ]
  },
  {
   "cell_type": "code",
   "execution_count": null,
   "id": "d954e907-9840-433f-baec-2a62bbf6d27f",
   "metadata": {},
   "outputs": [],
   "source": []
  }
 ],
 "metadata": {
  "kernelspec": {
   "display_name": "Python 3 (ipykernel)",
   "language": "python",
   "name": "python3"
  },
  "language_info": {
   "codemirror_mode": {
    "name": "ipython",
    "version": 3
   },
   "file_extension": ".py",
   "mimetype": "text/x-python",
   "name": "python",
   "nbconvert_exporter": "python",
   "pygments_lexer": "ipython3",
   "version": "3.9.6"
  }
 },
 "nbformat": 4,
 "nbformat_minor": 5
}
