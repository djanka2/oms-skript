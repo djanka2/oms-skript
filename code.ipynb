{
 "cells": [
  {
   "cell_type": "markdown",
   "id": "b829beb5-77c6-4659-a09c-f54ccf328ffd",
   "metadata": {},
   "source": [
    "### Formulierung und Lösung des Produktionsoptimierungsbeispiel mit Gurobi"
   ]
  },
  {
   "cell_type": "code",
   "execution_count": 5,
   "id": "2976f340-f7dc-49c7-a84a-88cf359a7f1f",
   "metadata": {
    "tags": []
   },
   "outputs": [],
   "source": [
    "import gurobipy as gp\n",
    "import numpy as np"
   ]
  },
  {
   "cell_type": "markdown",
   "id": "b7f8765e-7e13-4078-81f7-ace9c55ef46a",
   "metadata": {},
   "source": [
    "Formulierung in mathematischer Form\n",
    "\n",
    "\\begin{alignat}{5}\n",
    "\\max_{x_1, x_2} & \\quad  &   2x_1+2x_2 & & & \\\\[2mm]\n",
    "\\text{s.t. } & &  5x_1+10x_2&\\leq 50\\\\\n",
    "             & &  12x_1+8x_2&\\leq 72\\\\\n",
    "             & &  4x_1+0x_2&\\leq 20\\\\\n",
    "             & &  x_1+x_2&\\leq 30\\\\\n",
    "             & & x_1, x_2 &\\geq 0\n",
    "\\end{alignat}\n",
    "\n"
   ]
  },
  {
   "cell_type": "markdown",
   "id": "92e0c865-02af-491a-9129-1a2cb0d31c5d",
   "metadata": {},
   "source": [
    "Zuerst erzeugen wir ein leeres Modell:"
   ]
  },
  {
   "cell_type": "code",
   "execution_count": 6,
   "id": "b956733b-3ac8-4620-b825-26874dc2f3ea",
   "metadata": {},
   "outputs": [
    {
     "name": "stdout",
     "output_type": "stream",
     "text": [
      "Restricted license - for non-production use only - expires 2025-11-24\n"
     ]
    }
   ],
   "source": [
    "m = gp.Model(\"Production Optimization\")"
   ]
  },
  {
   "cell_type": "markdown",
   "id": "9fc550d3-01f4-4db1-aa76-b71007798d42",
   "metadata": {},
   "source": [
    "Danach können wir einzelne Variablen anlegen. Als Parameter geben wir an\n",
    "* Den Namen mit \"name=\"\n",
    "* Den Variablentyp mit \"vtype=\". Es gibt folgende Möglichkeiten\n",
    "  * GRB.CONTINUOUS \n",
    "  * GRB.BINARY\n",
    "  * GRB.INTEGER\n",
    "* Die untere Schranke für die Variable mit \"lb=\". Falls nichts angegeben wird, ist die Variable automatisch nichtnegativ. Falls die Variable nach unten unbeschränkt sein soll, können wir \"lb=-np.infty\" spezifizieren."
   ]
  },
  {
   "cell_type": "code",
   "execution_count": 14,
   "id": "28f80b9e-edb2-4517-b6a2-88922c0c3e7c",
   "metadata": {
    "tags": []
   },
   "outputs": [],
   "source": [
    "x1 = m.addVar(name=\"x1\", vtype=GRB.CONTINUOUS, lb=0)\n",
    "x2 = m.addVar(name=\"x2\", vtype=GRB.CONTINUOUS, lb=0)"
   ]
  },
  {
   "cell_type": "markdown",
   "id": "3fc6c812-fb1a-482d-816e-61e5b09723b7",
   "metadata": {},
   "source": [
    "Einzelne Nebenbedinungen können wir dann direkt mit dem Befehl addConstr angeben."
   ]
  },
  {
   "cell_type": "code",
   "execution_count": 15,
   "id": "2d873ae8-9329-4252-a525-52c0e329b39f",
   "metadata": {},
   "outputs": [
    {
     "data": {
      "text/plain": [
       "<gurobi.Constr *Awaiting Model Update*>"
      ]
     },
     "execution_count": 15,
     "metadata": {},
     "output_type": "execute_result"
    }
   ],
   "source": [
    "m.addConstr(5*x1+10*x2 <= 50)\n",
    "m.addConstr(12*x1+8*x2 <= 72)\n",
    "m.addConstr(4*x1 <= 20)\n",
    "m.addConstr(x1+x2 <= 30)\n",
    "#m.addConstr(x1 >= 0) # nicht nötig, da bereits über den Parameter lb=0 beim Anlegen der Variable spezifiziert\n",
    "#m.addConstr(x2 >= 0)"
   ]
  },
  {
   "cell_type": "markdown",
   "id": "e5b390af-7df0-4a48-9ceb-e23480690e34",
   "metadata": {},
   "source": [
    "Danach folgt die Zielfunktion"
   ]
  },
  {
   "cell_type": "code",
   "execution_count": 16,
   "id": "75e65cc1-b09c-4da2-ac13-242fc1f74e7e",
   "metadata": {},
   "outputs": [],
   "source": [
    "m.setObjective(2*x1+2*x2,GRB.MAXIMIZE)"
   ]
  },
  {
   "cell_type": "markdown",
   "id": "f872b1c0-d3a1-41d4-9948-ff00b6354961",
   "metadata": {},
   "source": [
    "Nun starten wir den Solver"
   ]
  },
  {
   "cell_type": "code",
   "execution_count": 17,
   "id": "8fab892b-c83d-4856-8330-1ac949a72808",
   "metadata": {
    "tags": []
   },
   "outputs": [
    {
     "name": "stdout",
     "output_type": "stream",
     "text": [
      "Gurobi Optimizer version 9.5.1 build v9.5.1rc2 (win64)\n",
      "Thread count: 4 physical cores, 8 logical processors, using up to 8 threads\n",
      "Optimize a model with 4 rows, 2 columns and 7 nonzeros\n",
      "Model fingerprint: 0xfa36184a\n",
      "Coefficient statistics:\n",
      "  Matrix range     [1e+00, 1e+01]\n",
      "  Objective range  [2e+00, 2e+00]\n",
      "  Bounds range     [0e+00, 0e+00]\n",
      "  RHS range        [2e+01, 7e+01]\n",
      "Presolve removed 2 rows and 0 columns\n",
      "Presolve time: 0.01s\n",
      "Presolved: 2 rows, 2 columns, 4 nonzeros\n",
      "\n",
      "Iteration    Objective       Primal Inf.    Dual Inf.      Time\n",
      "       0    2.0000000e+01   8.000000e+00   0.000000e+00      0s\n",
      "       2    1.4000000e+01   0.000000e+00   0.000000e+00      0s\n",
      "\n",
      "Solved in 2 iterations and 0.02 seconds (0.00 work units)\n",
      "Optimal objective  1.400000000e+01\n"
     ]
    }
   ],
   "source": [
    "m.optimize()"
   ]
  },
  {
   "cell_type": "markdown",
   "id": "f9c3e0df-048f-4f44-a531-4b353cd8d888",
   "metadata": {},
   "source": [
    "Die Lösung können wir wie folgt auslesen:"
   ]
  },
  {
   "cell_type": "code",
   "execution_count": 20,
   "id": "017cf928-97d8-4c48-9c8a-3c92d035e770",
   "metadata": {},
   "outputs": [
    {
     "name": "stdout",
     "output_type": "stream",
     "text": [
      "x1=4.0, x2=3.0\n"
     ]
    }
   ],
   "source": [
    "print(f\"x1={x1.x}, x2={x2.x}\")"
   ]
  },
  {
   "cell_type": "markdown",
   "id": "9ff748f0-a20d-42bd-8fe3-64b8dfcfc462",
   "metadata": {},
   "source": [
    "Bei Bedarf kann man sich das Model über den Befehl display ausgeben lassen."
   ]
  },
  {
   "cell_type": "code",
   "execution_count": 19,
   "id": "dd8ef03b-6f16-441b-8ff0-3825af6f2977",
   "metadata": {},
   "outputs": [
    {
     "name": "stdout",
     "output_type": "stream",
     "text": [
      "Maximize\n",
      "  <gurobi.LinExpr: 2.0 x1 + 2.0 x2>\n",
      "Subject To\n",
      "  R0: <gurobi.LinExpr: 5.0 x1 + 10.0 x2> <= 50\n",
      "  R1: <gurobi.LinExpr: 12.0 x1 + 8.0 x2> <= 72\n",
      "  R2: <gurobi.LinExpr: 4.0 x1> <= 20\n",
      "  R3: <gurobi.LinExpr: x1 + x2> <= 30\n"
     ]
    }
   ],
   "source": [
    "m.display()"
   ]
  },
  {
   "cell_type": "markdown",
   "id": "336fa13d",
   "metadata": {},
   "source": [
    "# Autograd"
   ]
  },
  {
   "cell_type": "code",
   "execution_count": 16,
   "id": "7bed3a1f",
   "metadata": {},
   "outputs": [
    {
     "name": "stdout",
     "output_type": "stream",
     "text": [
      "-0.9999999999999994\n"
     ]
    },
    {
     "data": {
      "text/plain": [
       "-3.544907701811034"
      ]
     },
     "execution_count": 16,
     "metadata": {},
     "output_type": "execute_result"
    }
   ],
   "source": [
    "import autograd.numpy as np\n",
    "from autograd import grad\n",
    "\n",
    "def f(x):\n",
    "    return np.sin (x**2) + np.cos(x**2)\n",
    "\n",
    "x_0 = np.sqrt(np.pi)\n",
    "\n",
    "print(f(x_0))\n",
    "grad_f = grad(f)\n",
    "grad_f(x_0)"
   ]
  },
  {
   "cell_type": "code",
   "execution_count": 15,
   "id": "bd3729ea",
   "metadata": {},
   "outputs": [
    {
     "name": "stdout",
     "output_type": "stream",
     "text": [
      "1.0\n",
      "[ 7.  1. -1.]\n"
     ]
    }
   ],
   "source": [
    "import autograd.numpy as np\n",
    "from autograd import grad\n",
    "\n",
    "def g(x):\n",
    "    return x[0]*x[1]**2 + x[2]*(x[0]-x[1])\n",
    "\n",
    "x0 = np.array([1.,2.,3.])\n",
    "\n",
    "print(g(x0))\n",
    "\n",
    "grad_g = grad(g)\n",
    "\n",
    "print(grad_g(x0))"
   ]
  },
  {
   "cell_type": "code",
   "execution_count": 43,
   "id": "8561f9a2",
   "metadata": {},
   "outputs": [],
   "source": []
  },
  {
   "cell_type": "markdown",
   "id": "c6a29ee4",
   "metadata": {},
   "source": [
    "# SGD Beispiel Umsatzmaximierung"
   ]
  },
  {
   "cell_type": "code",
   "execution_count": 30,
   "id": "75cfb01a",
   "metadata": {},
   "outputs": [],
   "source": [
    "prng = np.random.default_rng(42)"
   ]
  },
  {
   "cell_type": "code",
   "execution_count": 99,
   "id": "d498af9d",
   "metadata": {},
   "outputs": [
    {
     "name": "stdout",
     "output_type": "stream",
     "text": [
      "Optimum: 2.5\n",
      "Umsatz: 12.5\n"
     ]
    },
    {
     "data": {
      "image/png": "[encoded data removed]",
      "text/plain": [
       "<Figure size 640x480 with 1 Axes>"
      ]
     },
     "metadata": {},
     "output_type": "display_data"
    }
   ],
   "source": [
    "import autograd.numpy as np\n",
    "from autograd import grad\n",
    "import seaborn as sns\n",
    "\n",
    "M = 10\n",
    "k = 2\n",
    "\n",
    "def umsatz_sample(p):\n",
    "    #M = 10 # maximum demand\n",
    "    M_sample = prng.normal(10,2)\n",
    "    #k = 2  # (negative) price elasticity\n",
    "    k_sample = prng.normal(2,0.2)\n",
    "    #def umsatz(p, M_sample, k_sample):\n",
    "    #    return p*(M_sample - k_sample*p)\n",
    "\n",
    "    return p*(M_sample - k_sample*p)\n",
    "\n",
    "grad_u = grad(umsatz_sample)\n",
    "\n",
    "p = np.linspace(0,5,20)\n",
    "\n",
    "sns.lineplot(x=p,y=umsatz_sample(p))\n",
    "\n",
    "print(f\"Optimum: {M/(2*k)}\")\n",
    "print(f\"Umsatz: {M**2/(4*k)}\")"
   ]
  },
  {
   "cell_type": "code",
   "execution_count": 87,
   "id": "a0f6c301",
   "metadata": {},
   "outputs": [
    {
     "data": {
      "application/vnd.plotly.v1+json": {
       "config": {
        "plotlyServerURL": "https://plot.ly"
       },
       "data": [
        {
         "hovertemplate": "Tag=Montag<br>p=%{x}<br>p(M-kp)=%{y}<extra></extra>",
         "legendgroup": "Montag",
         "line": {
          "color": "rgb(76,114,176)",
          "dash": "solid"
         },
         "marker": {
          "symbol": "circle"
         },
         "mode": "lines",
         "name": "Montag",
         "orientation": "v",
         "showlegend": true,
         "type": "scatter",
         "x": [
          0,
          0.2631578947368421,
          0.5263157894736842,
          0.7894736842105263,
          1.0526315789473684,
          1.3157894736842104,
          1.5789473684210527,
          1.8421052631578947,
          2.1052631578947367,
          2.3684210526315788,
          2.631578947368421,
          2.894736842105263,
          3.1578947368421053,
          3.4210526315789473,
          3.6842105263157894,
          3.9473684210526314,
          4.2105263157894735,
          4.473684210526316,
          4.7368421052631575,
          5
         ],
         "xaxis": "x",
         "y": [
          0,
          2.4973426763756015,
          4.7300645891890705,
          6.698165738440407,
          8.401646124129611,
          9.840505746256682,
          11.01474460482162,
          11.924362699824428,
          12.5693600312651,
          12.949736599143641,
          13.06549240346005,
          12.916627444214328,
          12.50314172140647,
          11.825035235036482,
          10.882307985104362,
          9.674959971610104,
          8.202991194553718,
          6.466401653935197,
          4.465191349754549,
          2.199360282011762
         ],
         "yaxis": "y"
        },
        {
         "hovertemplate": "Tag=Dienstag<br>p=%{x}<br>p(M-kp)=%{y}<extra></extra>",
         "legendgroup": "Dienstag",
         "line": {
          "color": "rgb(221,132,82)",
          "dash": "solid"
         },
         "marker": {
          "symbol": "circle"
         },
         "mode": "lines",
         "name": "Dienstag",
         "orientation": "v",
         "showlegend": true,
         "type": "scatter",
         "x": [
          0,
          0.2631578947368421,
          0.5263157894736842,
          0.7894736842105263,
          1.0526315789473684,
          1.3157894736842104,
          1.5789473684210527,
          1.8421052631578947,
          2.1052631578947367,
          2.3684210526315788,
          2.631578947368421,
          2.894736842105263,
          3.1578947368421053,
          3.4210526315789473,
          3.6842105263157894,
          3.9473684210526314,
          4.2105263157894735,
          4.473684210526316,
          4.7368421052631575,
          5
         ],
         "xaxis": "x",
         "y": [
          0,
          3.610640076177821,
          6.893736030884726,
          9.849287864120717,
          12.47729557588579,
          14.777759166179948,
          16.75067863500319,
          18.396053982355518,
          19.713885208236928,
          20.704172312647422,
          21.366915295587,
          21.702114157055664,
          21.70976889705341,
          21.38987951558024,
          20.742446012636158,
          19.767468388221157,
          18.464946642335246,
          16.834880774978412,
          14.877270786150667,
          12.592116675852001
         ],
         "yaxis": "y"
        },
        {
         "hovertemplate": "Tag=Mittwoch<br>p=%{x}<br>p(M-kp)=%{y}<extra></extra>",
         "legendgroup": "Mittwoch",
         "line": {
          "color": "rgb(85,168,104)",
          "dash": "solid"
         },
         "marker": {
          "symbol": "circle"
         },
         "mode": "lines",
         "name": "Mittwoch",
         "orientation": "v",
         "showlegend": true,
         "type": "scatter",
         "x": [
          0,
          0.2631578947368421,
          0.5263157894736842,
          0.7894736842105263,
          1.0526315789473684,
          1.3157894736842104,
          1.5789473684210527,
          1.8421052631578947,
          2.1052631578947367,
          2.3684210526315788,
          2.631578947368421,
          2.894736842105263,
          3.1578947368421053,
          3.4210526315789473,
          3.6842105263157894,
          3.9473684210526314,
          4.2105263157894735,
          4.473684210526316,
          4.7368421052631575,
          5
         ],
         "xaxis": "x",
         "y": [
          0,
          3.049476075426446,
          5.847576160993402,
          8.394300256700866,
          10.689648362548839,
          12.73362047853732,
          14.526216604666313,
          16.067436740935815,
          17.357280887345826,
          18.39574904389634,
          19.18284121058737,
          19.718557387418908,
          20.002897574390953,
          20.03586177150351,
          19.817449978756574,
          19.347662196150146,
          18.62649842368423,
          17.653958661358818,
          16.430042909173924,
          14.95475116712953
         ],
         "yaxis": "y"
        }
       ],
       "layout": {
        "legend": {
         "title": {
          "text": "Tag"
         },
         "tracegroupgap": 0
        },
        "margin": {
         "t": 60
        },
        "template": {
         "data": {
          "bar": [
           {
            "error_x": {
             "color": "rgb(36,36,36)"
            },
            "error_y": {
             "color": "rgb(36,36,36)"
            },
            "marker": {
             "line": {
              "color": "rgb(234,234,242)",
              "width": 0.5
             },
             "pattern": {
              "fillmode": "overlay",
              "size": 10,
              "solidity": 0.2
             }
            },
            "type": "bar"
           }
          ],
          "barpolar": [
           {
            "marker": {
             "line": {
              "color": "rgb(234,234,242)",
              "width": 0.5
             },
             "pattern": {
              "fillmode": "overlay",
              "size": 10,
              "solidity": 0.2
             }
            },
            "type": "barpolar"
           }
          ],
          "carpet": [
           {
            "aaxis": {
             "endlinecolor": "rgb(36,36,36)",
             "gridcolor": "white",
             "linecolor": "white",
             "minorgridcolor": "white",
             "startlinecolor": "rgb(36,36,36)"
            },
            "baxis": {
             "endlinecolor": "rgb(36,36,36)",
             "gridcolor": "white",
             "linecolor": "white",
             "minorgridcolor": "white",
             "startlinecolor": "rgb(36,36,36)"
            },
            "type": "carpet"
           }
          ],
          "choropleth": [
           {
            "colorbar": {
             "outlinewidth": 0,
             "tickcolor": "rgb(36,36,36)",
             "ticklen": 8,
             "ticks": "outside",
             "tickwidth": 2
            },
            "type": "choropleth"
           }
          ],
          "contour": [
           {
            "colorbar": {
             "outlinewidth": 0,
             "tickcolor": "rgb(36,36,36)",
             "ticklen": 8,
             "ticks": "outside",
             "tickwidth": 2
            },
            "colorscale": [
             [
              0,
              "rgb(2,4,25)"
             ],
             [
              0.06274509803921569,
              "rgb(24,15,41)"
             ],
             [
              0.12549019607843137,
              "rgb(47,23,57)"
             ],
             [
              0.18823529411764706,
              "rgb(71,28,72)"
             ],
             [
              0.25098039215686274,
              "rgb(97,30,82)"
             ],
             [
              0.3137254901960784,
              "rgb(123,30,89)"
             ],
             [
              0.3764705882352941,
              "rgb(150,27,91)"
             ],
             [
              0.4392156862745098,
              "rgb(177,22,88)"
             ],
             [
              0.5019607843137255,
              "rgb(203,26,79)"
             ],
             [
              0.5647058823529412,
              "rgb(223,47,67)"
             ],
             [
              0.6274509803921569,
              "rgb(236,76,61)"
             ],
             [
              0.6901960784313725,
              "rgb(242,107,73)"
             ],
             [
              0.7529411764705882,
              "rgb(244,135,95)"
             ],
             [
              0.8156862745098039,
              "rgb(245,162,122)"
             ],
             [
              0.8784313725490196,
              "rgb(246,188,153)"
             ],
             [
              0.9411764705882353,
              "rgb(247,212,187)"
             ],
             [
              1,
              "rgb(250,234,220)"
             ]
            ],
            "type": "contour"
           }
          ],
          "contourcarpet": [
           {
            "colorbar": {
             "outlinewidth": 0,
             "tickcolor": "rgb(36,36,36)",
             "ticklen": 8,
             "ticks": "outside",
             "tickwidth": 2
            },
            "type": "contourcarpet"
           }
          ],
          "heatmap": [
           {
            "colorbar": {
             "outlinewidth": 0,
             "tickcolor": "rgb(36,36,36)",
             "ticklen": 8,
             "ticks": "outside",
             "tickwidth": 2
            },
            "colorscale": [
             [
              0,
              "rgb(2,4,25)"
             ],
             [
              0.06274509803921569,
              "rgb(24,15,41)"
             ],
             [
              0.12549019607843137,
              "rgb(47,23,57)"
             ],
             [
              0.18823529411764706,
              "rgb(71,28,72)"
             ],
             [
              0.25098039215686274,
              "rgb(97,30,82)"
             ],
             [
              0.3137254901960784,
              "rgb(123,30,89)"
             ],
             [
              0.3764705882352941,
              "rgb(150,27,91)"
             ],
             [
              0.4392156862745098,
              "rgb(177,22,88)"
             ],
             [
              0.5019607843137255,
              "rgb(203,26,79)"
             ],
             [
              0.5647058823529412,
              "rgb(223,47,67)"
             ],
             [
              0.6274509803921569,
              "rgb(236,76,61)"
             ],
             [
              0.6901960784313725,
              "rgb(242,107,73)"
             ],
             [
              0.7529411764705882,
              "rgb(244,135,95)"
             ],
             [
              0.8156862745098039,
              "rgb(245,162,122)"
             ],
             [
              0.8784313725490196,
              "rgb(246,188,153)"
             ],
             [
              0.9411764705882353,
              "rgb(247,212,187)"
             ],
             [
              1,
              "rgb(250,234,220)"
             ]
            ],
            "type": "heatmap"
           }
          ],
          "heatmapgl": [
           {
            "colorbar": {
             "outlinewidth": 0,
             "tickcolor": "rgb(36,36,36)",
             "ticklen": 8,
             "ticks": "outside",
             "tickwidth": 2
            },
            "colorscale": [
             [
              0,
              "rgb(2,4,25)"
             ],
             [
              0.06274509803921569,
              "rgb(24,15,41)"
             ],
             [
              0.12549019607843137,
              "rgb(47,23,57)"
             ],
             [
              0.18823529411764706,
              "rgb(71,28,72)"
             ],
             [
              0.25098039215686274,
              "rgb(97,30,82)"
             ],
             [
              0.3137254901960784,
              "rgb(123,30,89)"
             ],
             [
              0.3764705882352941,
              "rgb(150,27,91)"
             ],
             [
              0.4392156862745098,
              "rgb(177,22,88)"
             ],
             [
              0.5019607843137255,
              "rgb(203,26,79)"
             ],
             [
              0.5647058823529412,
              "rgb(223,47,67)"
             ],
             [
              0.6274509803921569,
              "rgb(236,76,61)"
             ],
             [
              0.6901960784313725,
              "rgb(242,107,73)"
             ],
             [
              0.7529411764705882,
              "rgb(244,135,95)"
             ],
             [
              0.8156862745098039,
              "rgb(245,162,122)"
             ],
             [
              0.8784313725490196,
              "rgb(246,188,153)"
             ],
             [
              0.9411764705882353,
              "rgb(247,212,187)"
             ],
             [
              1,
              "rgb(250,234,220)"
             ]
            ],
            "type": "heatmapgl"
           }
          ],
          "histogram": [
           {
            "marker": {
             "pattern": {
              "fillmode": "overlay",
              "size": 10,
              "solidity": 0.2
             }
            },
            "type": "histogram"
           }
          ],
          "histogram2d": [
           {
            "colorbar": {
             "outlinewidth": 0,
             "tickcolor": "rgb(36,36,36)",
             "ticklen": 8,
             "ticks": "outside",
             "tickwidth": 2
            },
            "colorscale": [
             [
              0,
              "rgb(2,4,25)"
             ],
             [
              0.06274509803921569,
              "rgb(24,15,41)"
             ],
             [
              0.12549019607843137,
              "rgb(47,23,57)"
             ],
             [
              0.18823529411764706,
              "rgb(71,28,72)"
             ],
             [
              0.25098039215686274,
              "rgb(97,30,82)"
             ],
             [
              0.3137254901960784,
              "rgb(123,30,89)"
             ],
             [
              0.3764705882352941,
              "rgb(150,27,91)"
             ],
             [
              0.4392156862745098,
              "rgb(177,22,88)"
             ],
             [
              0.5019607843137255,
              "rgb(203,26,79)"
             ],
             [
              0.5647058823529412,
              "rgb(223,47,67)"
             ],
             [
              0.6274509803921569,
              "rgb(236,76,61)"
             ],
             [
              0.6901960784313725,
              "rgb(242,107,73)"
             ],
             [
              0.7529411764705882,
              "rgb(244,135,95)"
             ],
             [
              0.8156862745098039,
              "rgb(245,162,122)"
             ],
             [
              0.8784313725490196,
              "rgb(246,188,153)"
             ],
             [
              0.9411764705882353,
              "rgb(247,212,187)"
             ],
             [
              1,
              "rgb(250,234,220)"
             ]
            ],
            "type": "histogram2d"
           }
          ],
          "histogram2dcontour": [
           {
            "colorbar": {
             "outlinewidth": 0,
             "tickcolor": "rgb(36,36,36)",
             "ticklen": 8,
             "ticks": "outside",
             "tickwidth": 2
            },
            "colorscale": [
             [
              0,
              "rgb(2,4,25)"
             ],
             [
              0.06274509803921569,
              "rgb(24,15,41)"
             ],
             [
              0.12549019607843137,
              "rgb(47,23,57)"
             ],
             [
              0.18823529411764706,
              "rgb(71,28,72)"
             ],
             [
              0.25098039215686274,
              "rgb(97,30,82)"
             ],
             [
              0.3137254901960784,
              "rgb(123,30,89)"
             ],
             [
              0.3764705882352941,
              "rgb(150,27,91)"
             ],
             [
              0.4392156862745098,
              "rgb(177,22,88)"
             ],
             [
              0.5019607843137255,
              "rgb(203,26,79)"
             ],
             [
              0.5647058823529412,
              "rgb(223,47,67)"
             ],
             [
              0.6274509803921569,
              "rgb(236,76,61)"
             ],
             [
              0.6901960784313725,
              "rgb(242,107,73)"
             ],
             [
              0.7529411764705882,
              "rgb(244,135,95)"
             ],
             [
              0.8156862745098039,
              "rgb(245,162,122)"
             ],
             [
              0.8784313725490196,
              "rgb(246,188,153)"
             ],
             [
              0.9411764705882353,
              "rgb(247,212,187)"
             ],
             [
              1,
              "rgb(250,234,220)"
             ]
            ],
            "type": "histogram2dcontour"
           }
          ],
          "mesh3d": [
           {
            "colorbar": {
             "outlinewidth": 0,
             "tickcolor": "rgb(36,36,36)",
             "ticklen": 8,
             "ticks": "outside",
             "tickwidth": 2
            },
            "type": "mesh3d"
           }
          ],
          "parcoords": [
           {
            "line": {
             "colorbar": {
              "outlinewidth": 0,
              "tickcolor": "rgb(36,36,36)",
              "ticklen": 8,
              "ticks": "outside",
              "tickwidth": 2
             }
            },
            "type": "parcoords"
           }
          ],
          "pie": [
           {
            "automargin": true,
            "type": "pie"
           }
          ],
          "scatter": [
           {
            "fillpattern": {
             "fillmode": "overlay",
             "size": 10,
             "solidity": 0.2
            },
            "type": "scatter"
           }
          ],
          "scatter3d": [
           {
            "line": {
             "colorbar": {
              "outlinewidth": 0,
              "tickcolor": "rgb(36,36,36)",
              "ticklen": 8,
              "ticks": "outside",
              "tickwidth": 2
             }
            },
            "marker": {
             "colorbar": {
              "outlinewidth": 0,
              "tickcolor": "rgb(36,36,36)",
              "ticklen": 8,
              "ticks": "outside",
              "tickwidth": 2
             }
            },
            "type": "scatter3d"
           }
          ],
          "scattercarpet": [
           {
            "marker": {
             "colorbar": {
              "outlinewidth": 0,
              "tickcolor": "rgb(36,36,36)",
              "ticklen": 8,
              "ticks": "outside",
              "tickwidth": 2
             }
            },
            "type": "scattercarpet"
           }
          ],
          "scattergeo": [
           {
            "marker": {
             "colorbar": {
              "outlinewidth": 0,
              "tickcolor": "rgb(36,36,36)",
              "ticklen": 8,
              "ticks": "outside",
              "tickwidth": 2
             }
            },
            "type": "scattergeo"
           }
          ],
          "scattergl": [
           {
            "marker": {
             "colorbar": {
              "outlinewidth": 0,
              "tickcolor": "rgb(36,36,36)",
              "ticklen": 8,
              "ticks": "outside",
              "tickwidth": 2
             }
            },
            "type": "scattergl"
           }
          ],
          "scattermapbox": [
           {
            "marker": {
             "colorbar": {
              "outlinewidth": 0,
              "tickcolor": "rgb(36,36,36)",
              "ticklen": 8,
              "ticks": "outside",
              "tickwidth": 2
             }
            },
            "type": "scattermapbox"
           }
          ],
          "scatterpolar": [
           {
            "marker": {
             "colorbar": {
              "outlinewidth": 0,
              "tickcolor": "rgb(36,36,36)",
              "ticklen": 8,
              "ticks": "outside",
              "tickwidth": 2
             }
            },
            "type": "scatterpolar"
           }
          ],
          "scatterpolargl": [
           {
            "marker": {
             "colorbar": {
              "outlinewidth": 0,
              "tickcolor": "rgb(36,36,36)",
              "ticklen": 8,
              "ticks": "outside",
              "tickwidth": 2
             }
            },
            "type": "scatterpolargl"
           }
          ],
          "scatterternary": [
           {
            "marker": {
             "colorbar": {
              "outlinewidth": 0,
              "tickcolor": "rgb(36,36,36)",
              "ticklen": 8,
              "ticks": "outside",
              "tickwidth": 2
             }
            },
            "type": "scatterternary"
           }
          ],
          "surface": [
           {
            "colorbar": {
             "outlinewidth": 0,
             "tickcolor": "rgb(36,36,36)",
             "ticklen": 8,
             "ticks": "outside",
             "tickwidth": 2
            },
            "colorscale": [
             [
              0,
              "rgb(2,4,25)"
             ],
             [
              0.06274509803921569,
              "rgb(24,15,41)"
             ],
             [
              0.12549019607843137,
              "rgb(47,23,57)"
             ],
             [
              0.18823529411764706,
              "rgb(71,28,72)"
             ],
             [
              0.25098039215686274,
              "rgb(97,30,82)"
             ],
             [
              0.3137254901960784,
              "rgb(123,30,89)"
             ],
             [
              0.3764705882352941,
              "rgb(150,27,91)"
             ],
             [
              0.4392156862745098,
              "rgb(177,22,88)"
             ],
             [
              0.5019607843137255,
              "rgb(203,26,79)"
             ],
             [
              0.5647058823529412,
              "rgb(223,47,67)"
             ],
             [
              0.6274509803921569,
              "rgb(236,76,61)"
             ],
             [
              0.6901960784313725,
              "rgb(242,107,73)"
             ],
             [
              0.7529411764705882,
              "rgb(244,135,95)"
             ],
             [
              0.8156862745098039,
              "rgb(245,162,122)"
             ],
             [
              0.8784313725490196,
              "rgb(246,188,153)"
             ],
             [
              0.9411764705882353,
              "rgb(247,212,187)"
             ],
             [
              1,
              "rgb(250,234,220)"
             ]
            ],
            "type": "surface"
           }
          ],
          "table": [
           {
            "cells": {
             "fill": {
              "color": "rgb(231,231,240)"
             },
             "line": {
              "color": "white"
             }
            },
            "header": {
             "fill": {
              "color": "rgb(183,183,191)"
             },
             "line": {
              "color": "white"
             }
            },
            "type": "table"
           }
          ]
         },
         "layout": {
          "annotationdefaults": {
           "arrowcolor": "rgb(67,103,167)"
          },
          "autotypenumbers": "strict",
          "coloraxis": {
           "colorbar": {
            "outlinewidth": 0,
            "tickcolor": "rgb(36,36,36)",
            "ticklen": 8,
            "ticks": "outside",
            "tickwidth": 2
           }
          },
          "colorscale": {
           "sequential": [
            [
             0,
             "rgb(2,4,25)"
            ],
            [
             0.06274509803921569,
             "rgb(24,15,41)"
            ],
            [
             0.12549019607843137,
             "rgb(47,23,57)"
            ],
            [
             0.18823529411764706,
             "rgb(71,28,72)"
            ],
            [
             0.25098039215686274,
             "rgb(97,30,82)"
            ],
            [
             0.3137254901960784,
             "rgb(123,30,89)"
            ],
            [
             0.3764705882352941,
             "rgb(150,27,91)"
            ],
            [
             0.4392156862745098,
             "rgb(177,22,88)"
            ],
            [
             0.5019607843137255,
             "rgb(203,26,79)"
            ],
            [
             0.5647058823529412,
             "rgb(223,47,67)"
            ],
            [
             0.6274509803921569,
             "rgb(236,76,61)"
            ],
            [
             0.6901960784313725,
             "rgb(242,107,73)"
            ],
            [
             0.7529411764705882,
             "rgb(244,135,95)"
            ],
            [
             0.8156862745098039,
             "rgb(245,162,122)"
            ],
            [
             0.8784313725490196,
             "rgb(246,188,153)"
            ],
            [
             0.9411764705882353,
             "rgb(247,212,187)"
            ],
            [
             1,
             "rgb(250,234,220)"
            ]
           ],
           "sequentialminus": [
            [
             0,
             "rgb(2,4,25)"
            ],
            [
             0.06274509803921569,
             "rgb(24,15,41)"
            ],
            [
             0.12549019607843137,
             "rgb(47,23,57)"
            ],
            [
             0.18823529411764706,
             "rgb(71,28,72)"
            ],
            [
             0.25098039215686274,
             "rgb(97,30,82)"
            ],
            [
             0.3137254901960784,
             "rgb(123,30,89)"
            ],
            [
             0.3764705882352941,
             "rgb(150,27,91)"
            ],
            [
             0.4392156862745098,
             "rgb(177,22,88)"
            ],
            [
             0.5019607843137255,
             "rgb(203,26,79)"
            ],
            [
             0.5647058823529412,
             "rgb(223,47,67)"
            ],
            [
             0.6274509803921569,
             "rgb(236,76,61)"
            ],
            [
             0.6901960784313725,
             "rgb(242,107,73)"
            ],
            [
             0.7529411764705882,
             "rgb(244,135,95)"
            ],
            [
             0.8156862745098039,
             "rgb(245,162,122)"
            ],
            [
             0.8784313725490196,
             "rgb(246,188,153)"
            ],
            [
             0.9411764705882353,
             "rgb(247,212,187)"
            ],
            [
             1,
             "rgb(250,234,220)"
            ]
           ]
          },
          "colorway": [
           "rgb(76,114,176)",
           "rgb(221,132,82)",
           "rgb(85,168,104)",
           "rgb(196,78,82)",
           "rgb(129,114,179)",
           "rgb(147,120,96)",
           "rgb(218,139,195)",
           "rgb(140,140,140)",
           "rgb(204,185,116)",
           "rgb(100,181,205)"
          ],
          "font": {
           "color": "rgb(36,36,36)"
          },
          "geo": {
           "bgcolor": "white",
           "lakecolor": "white",
           "landcolor": "rgb(234,234,242)",
           "showlakes": true,
           "showland": true,
           "subunitcolor": "white"
          },
          "hoverlabel": {
           "align": "left"
          },
          "hovermode": "closest",
          "paper_bgcolor": "white",
          "plot_bgcolor": "rgb(234,234,242)",
          "polar": {
           "angularaxis": {
            "gridcolor": "white",
            "linecolor": "white",
            "showgrid": true,
            "ticks": ""
           },
           "bgcolor": "rgb(234,234,242)",
           "radialaxis": {
            "gridcolor": "white",
            "linecolor": "white",
            "showgrid": true,
            "ticks": ""
           }
          },
          "scene": {
           "xaxis": {
            "backgroundcolor": "rgb(234,234,242)",
            "gridcolor": "white",
            "gridwidth": 2,
            "linecolor": "white",
            "showbackground": true,
            "showgrid": true,
            "ticks": "",
            "zerolinecolor": "white"
           },
           "yaxis": {
            "backgroundcolor": "rgb(234,234,242)",
            "gridcolor": "white",
            "gridwidth": 2,
            "linecolor": "white",
            "showbackground": true,
            "showgrid": true,
            "ticks": "",
            "zerolinecolor": "white"
           },
           "zaxis": {
            "backgroundcolor": "rgb(234,234,242)",
            "gridcolor": "white",
            "gridwidth": 2,
            "linecolor": "white",
            "showbackground": true,
            "showgrid": true,
            "ticks": "",
            "zerolinecolor": "white"
           }
          },
          "shapedefaults": {
           "fillcolor": "rgb(67,103,167)",
           "line": {
            "width": 0
           },
           "opacity": 0.5
          },
          "ternary": {
           "aaxis": {
            "gridcolor": "white",
            "linecolor": "white",
            "showgrid": true,
            "ticks": ""
           },
           "baxis": {
            "gridcolor": "white",
            "linecolor": "white",
            "showgrid": true,
            "ticks": ""
           },
           "bgcolor": "rgb(234,234,242)",
           "caxis": {
            "gridcolor": "white",
            "linecolor": "white",
            "showgrid": true,
            "ticks": ""
           }
          },
          "xaxis": {
           "automargin": true,
           "gridcolor": "white",
           "linecolor": "white",
           "showgrid": true,
           "ticks": "",
           "title": {
            "standoff": 15
           },
           "zerolinecolor": "white"
          },
          "yaxis": {
           "automargin": true,
           "gridcolor": "white",
           "linecolor": "white",
           "showgrid": true,
           "ticks": "",
           "title": {
            "standoff": 15
           },
           "zerolinecolor": "white"
          }
         }
        },
        "xaxis": {
         "anchor": "y",
         "domain": [
          0,
          1
         ],
         "title": {
          "text": "p"
         }
        },
        "yaxis": {
         "anchor": "x",
         "domain": [
          0,
          1
         ],
         "title": {
          "text": "p(M-kp)"
         }
        }
       }
      }
     },
     "metadata": {},
     "output_type": "display_data"
    }
   ],
   "source": [
    "import pandas as pd\n",
    "import plotly.express as px\n",
    "\n",
    "p = np.linspace(0,5,20)\n",
    "df1 = pd.concat([ pd.DataFrame({\"p\": p, \"p(M-kp)\": umsatz_sample(p), \"Tag\":\"Montag\"}),\n",
    "                 pd.DataFrame({\"p\": p, \"p(M-kp)\": umsatz_sample(p), \"Tag\":\"Dienstag\"}),\n",
    "                 pd.DataFrame({\"p\": p, \"p(M-kp)\": umsatz_sample(p), \"Tag\":\"Mittwoch\"})])\n",
    "\n",
    "#sns.lineplot(x=p,y=umsatz_sample(p))\n",
    "px.line(data_frame=df1, x=\"p\", y=\"p(M-kp)\", color=\"Tag\", template=\"seaborn\")"
   ]
  },
  {
   "cell_type": "code",
   "execution_count": 132,
   "id": "cbf0e459",
   "metadata": {},
   "outputs": [
    {
     "name": "stdout",
     "output_type": "stream",
     "text": [
      "Lösung nach 150 Iterationen: 2.518360177464754\n"
     ]
    },
    {
     "data": {
      "application/vnd.plotly.v1+json": {
       "config": {
        "plotlyServerURL": "https://plot.ly"
       },
       "data": [
        {
         "hovertemplate": "variable=0<br>p=%{x}<br>f(p) (sample)=%{y}<extra></extra>",
         "legendgroup": "0",
         "line": {
          "color": "#636efa",
          "dash": "solid"
         },
         "marker": {
          "symbol": "circle"
         },
         "mode": "lines+markers",
         "name": "0",
         "orientation": "v",
         "showlegend": true,
         "type": "scatter",
         "x": [
          0,
          1,
          2,
          3,
          4,
          5,
          6,
          7,
          8,
          9,
          10,
          11,
          12,
          13,
          14,
          15,
          16,
          17,
          18,
          19,
          20,
          21,
          22,
          23,
          24,
          25,
          26,
          27,
          28,
          29,
          30,
          31,
          32,
          33,
          34,
          35,
          36,
          37,
          38,
          39,
          40,
          41,
          42,
          43,
          44,
          45,
          46,
          47,
          48,
          49,
          50,
          51,
          52,
          53,
          54,
          55,
          56,
          57,
          58,
          59,
          60,
          61,
          62,
          63,
          64,
          65,
          66,
          67,
          68,
          69,
          70,
          71,
          72,
          73,
          74,
          75,
          76,
          77,
          78,
          79,
          80,
          81,
          82,
          83,
          84,
          85,
          86,
          87,
          88,
          89,
          90,
          91,
          92,
          93,
          94,
          95,
          96,
          97,
          98,
          99,
          100,
          101,
          102,
          103,
          104,
          105,
          106,
          107,
          108,
          109,
          110,
          111,
          112,
          113,
          114,
          115,
          116,
          117,
          118,
          119,
          120,
          121,
          122,
          123,
          124,
          125,
          126,
          127,
          128,
          129,
          130,
          131,
          132,
          133,
          134,
          135,
          136,
          137,
          138,
          139,
          140,
          141,
          142,
          143,
          144,
          145,
          146,
          147,
          148,
          149
         ],
         "xaxis": "x",
         "y": [
          3.5732540143671585,
          2.7975014242622076,
          2.67789800890698,
          2.8898270203951864,
          2.5981336153931833,
          2.6169636822457094,
          2.353040621130031,
          2.382919505742219,
          2.3471005905578184,
          2.1761635337746448,
          2.238578155007829,
          2.317998170713129,
          2.38962073150489,
          2.5847771876105337,
          2.5358023569603017,
          2.4658028378891466,
          2.39873191441682,
          2.4532821638691455,
          2.5573999810169274,
          2.557202448273679,
          2.551264460541249,
          2.5565422699637184,
          2.606089954093683,
          2.583191677426643,
          2.588382502146444,
          2.6160887252251737,
          2.625923923272026,
          2.637377214800201,
          2.622420671455053,
          2.623096962015638,
          2.6539636192384264,
          2.6194651269794784,
          2.5935199038829784,
          2.556751094024077,
          2.529272994456138,
          2.5552263314101564,
          2.5406199045436675,
          2.5322611865141926,
          2.5359267725722376,
          2.5354065340705865,
          2.4898474072033236,
          2.4602724421367546,
          2.473770504493693,
          2.4513328145059408,
          2.455174554812808,
          2.5115719929740408,
          2.5052990671619186,
          2.5194742179184884,
          2.521795109017475,
          2.521478882239992,
          2.5016421804304594,
          2.5157749962264666,
          2.554695337836268,
          2.5563878753773657,
          2.544576358130569,
          2.5479924628175596,
          2.5255805191049503,
          2.566134802724047,
          2.563655769128431,
          2.557084637447394,
          2.5309787453553736,
          2.528461128481366,
          2.5388844062025373,
          2.5621039435821666,
          2.558293580525527,
          2.584285916284861,
          2.5712950261626557,
          2.56219271575807,
          2.570979164732945,
          2.5600008488087758,
          2.5630194446174177,
          2.5672292756997583,
          2.5611189804117336,
          2.5539421537060214,
          2.5579370905365906,
          2.549609602044726,
          2.551409885743701,
          2.5582770823966294,
          2.550252312048714,
          2.5449529107558484,
          2.524192027811159,
          2.542813460159491,
          2.545995649197204,
          2.5489637797764684,
          2.529596859091345,
          2.512579513153374,
          2.5093602364365464,
          2.511020329702796,
          2.5003073876731374,
          2.481918482721292,
          2.480812772031196,
          2.471847694286508,
          2.4764060546884594,
          2.4954603537872444,
          2.4826020673787395,
          2.4790789735503522,
          2.461923476769226,
          2.4691465192606183,
          2.4732997575170876,
          2.4576349838138327,
          2.4677780557139095,
          2.4650171106018712,
          2.4834622252370084,
          2.4982360661453695,
          2.5107748370159113,
          2.4949773236477175,
          2.5073024563645134,
          2.5045279363669497,
          2.4820388398915907,
          2.477094096776281,
          2.4801123235846805,
          2.471539700438352,
          2.4657185042067353,
          2.470619602918109,
          2.4736985171381027,
          2.4746955629155214,
          2.4828205582024077,
          2.479330246375947,
          2.4810318503217417,
          2.4962750655377843,
          2.4985914109214646,
          2.497855070298487,
          2.481924140996282,
          2.487958235657868,
          2.4779809909537227,
          2.478397423248587,
          2.4860963654858472,
          2.4805299409056953,
          2.484449832394919,
          2.4753216016737585,
          2.475562629435038,
          2.4659424157798764,
          2.4601727271000584,
          2.471381926175692,
          2.490545004280007,
          2.49427621754423,
          2.4927208056154484,
          2.500483957914667,
          2.5034364553207946,
          2.5065818951311787,
          2.506134571948227,
          2.5120639432923575,
          2.512400058598858,
          2.5230269996377217,
          2.5300901392388453,
          2.53840012787278,
          2.5357704315037504,
          2.5337943904201823,
          2.535417819634393,
          2.518360177464754
         ],
         "yaxis": "y"
        }
       ],
       "layout": {
        "legend": {
         "title": {
          "text": "variable"
         },
         "tracegroupgap": 0
        },
        "margin": {
         "t": 60
        },
        "template": {
         "data": {
          "bar": [
           {
            "error_x": {
             "color": "#2a3f5f"
            },
            "error_y": {
             "color": "#2a3f5f"
            },
            "marker": {
             "line": {
              "color": "#E5ECF6",
              "width": 0.5
             },
             "pattern": {
              "fillmode": "overlay",
              "size": 10,
              "solidity": 0.2
             }
            },
            "type": "bar"
           }
          ],
          "barpolar": [
           {
            "marker": {
             "line": {
              "color": "#E5ECF6",
              "width": 0.5
             },
             "pattern": {
              "fillmode": "overlay",
              "size": 10,
              "solidity": 0.2
             }
            },
            "type": "barpolar"
           }
          ],
          "carpet": [
           {
            "aaxis": {
             "endlinecolor": "#2a3f5f",
             "gridcolor": "white",
             "linecolor": "white",
             "minorgridcolor": "white",
             "startlinecolor": "#2a3f5f"
            },
            "baxis": {
             "endlinecolor": "#2a3f5f",
             "gridcolor": "white",
             "linecolor": "white",
             "minorgridcolor": "white",
             "startlinecolor": "#2a3f5f"
            },
            "type": "carpet"
           }
          ],
          "choropleth": [
           {
            "colorbar": {
             "outlinewidth": 0,
             "ticks": ""
            },
            "type": "choropleth"
           }
          ],
          "contour": [
           {
            "colorbar": {
             "outlinewidth": 0,
             "ticks": ""
            },
            "colorscale": [
             [
              0,
              "#0d0887"
             ],
             [
              0.1111111111111111,
              "#46039f"
             ],
             [
              0.2222222222222222,
              "#7201a8"
             ],
             [
              0.3333333333333333,
              "#9c179e"
             ],
             [
              0.4444444444444444,
              "#bd3786"
             ],
             [
              0.5555555555555556,
              "#d8576b"
             ],
             [
              0.6666666666666666,
              "#ed7953"
             ],
             [
              0.7777777777777778,
              "#fb9f3a"
             ],
             [
              0.8888888888888888,
              "#fdca26"
             ],
             [
              1,
              "#f0f921"
             ]
            ],
            "type": "contour"
           }
          ],
          "contourcarpet": [
           {
            "colorbar": {
             "outlinewidth": 0,
             "ticks": ""
            },
            "type": "contourcarpet"
           }
          ],
          "heatmap": [
           {
            "colorbar": {
             "outlinewidth": 0,
             "ticks": ""
            },
            "colorscale": [
             [
              0,
              "#0d0887"
             ],
             [
              0.1111111111111111,
              "#46039f"
             ],
             [
              0.2222222222222222,
              "#7201a8"
             ],
             [
              0.3333333333333333,
              "#9c179e"
             ],
             [
              0.4444444444444444,
              "#bd3786"
             ],
             [
              0.5555555555555556,
              "#d8576b"
             ],
             [
              0.6666666666666666,
              "#ed7953"
             ],
             [
              0.7777777777777778,
              "#fb9f3a"
             ],
             [
              0.8888888888888888,
              "#fdca26"
             ],
             [
              1,
              "#f0f921"
             ]
            ],
            "type": "heatmap"
           }
          ],
          "heatmapgl": [
           {
            "colorbar": {
             "outlinewidth": 0,
             "ticks": ""
            },
            "colorscale": [
             [
              0,
              "#0d0887"
             ],
             [
              0.1111111111111111,
              "#46039f"
             ],
             [
              0.2222222222222222,
              "#7201a8"
             ],
             [
              0.3333333333333333,
              "#9c179e"
             ],
             [
              0.4444444444444444,
              "#bd3786"
             ],
             [
              0.5555555555555556,
              "#d8576b"
             ],
             [
              0.6666666666666666,
              "#ed7953"
             ],
             [
              0.7777777777777778,
              "#fb9f3a"
             ],
             [
              0.8888888888888888,
              "#fdca26"
             ],
             [
              1,
              "#f0f921"
             ]
            ],
            "type": "heatmapgl"
           }
          ],
          "histogram": [
           {
            "marker": {
             "pattern": {
              "fillmode": "overlay",
              "size": 10,
              "solidity": 0.2
             }
            },
            "type": "histogram"
           }
          ],
          "histogram2d": [
           {
            "colorbar": {
             "outlinewidth": 0,
             "ticks": ""
            },
            "colorscale": [
             [
              0,
              "#0d0887"
             ],
             [
              0.1111111111111111,
              "#46039f"
             ],
             [
              0.2222222222222222,
              "#7201a8"
             ],
             [
              0.3333333333333333,
              "#9c179e"
             ],
             [
              0.4444444444444444,
              "#bd3786"
             ],
             [
              0.5555555555555556,
              "#d8576b"
             ],
             [
              0.6666666666666666,
              "#ed7953"
             ],
             [
              0.7777777777777778,
              "#fb9f3a"
             ],
             [
              0.8888888888888888,
              "#fdca26"
             ],
             [
              1,
              "#f0f921"
             ]
            ],
            "type": "histogram2d"
           }
          ],
          "histogram2dcontour": [
           {
            "colorbar": {
             "outlinewidth": 0,
             "ticks": ""
            },
            "colorscale": [
             [
              0,
              "#0d0887"
             ],
             [
              0.1111111111111111,
              "#46039f"
             ],
             [
              0.2222222222222222,
              "#7201a8"
             ],
             [
              0.3333333333333333,
              "#9c179e"
             ],
             [
              0.4444444444444444,
              "#bd3786"
             ],
             [
              0.5555555555555556,
              "#d8576b"
             ],
             [
              0.6666666666666666,
              "#ed7953"
             ],
             [
              0.7777777777777778,
              "#fb9f3a"
             ],
             [
              0.8888888888888888,
              "#fdca26"
             ],
             [
              1,
              "#f0f921"
             ]
            ],
            "type": "histogram2dcontour"
           }
          ],
          "mesh3d": [
           {
            "colorbar": {
             "outlinewidth": 0,
             "ticks": ""
            },
            "type": "mesh3d"
           }
          ],
          "parcoords": [
           {
            "line": {
             "colorbar": {
              "outlinewidth": 0,
              "ticks": ""
             }
            },
            "type": "parcoords"
           }
          ],
          "pie": [
           {
            "automargin": true,
            "type": "pie"
           }
          ],
          "scatter": [
           {
            "fillpattern": {
             "fillmode": "overlay",
             "size": 10,
             "solidity": 0.2
            },
            "type": "scatter"
           }
          ],
          "scatter3d": [
           {
            "line": {
             "colorbar": {
              "outlinewidth": 0,
              "ticks": ""
             }
            },
            "marker": {
             "colorbar": {
              "outlinewidth": 0,
              "ticks": ""
             }
            },
            "type": "scatter3d"
           }
          ],
          "scattercarpet": [
           {
            "marker": {
             "colorbar": {
              "outlinewidth": 0,
              "ticks": ""
             }
            },
            "type": "scattercarpet"
           }
          ],
          "scattergeo": [
           {
            "marker": {
             "colorbar": {
              "outlinewidth": 0,
              "ticks": ""
             }
            },
            "type": "scattergeo"
           }
          ],
          "scattergl": [
           {
            "marker": {
             "colorbar": {
              "outlinewidth": 0,
              "ticks": ""
             }
            },
            "type": "scattergl"
           }
          ],
          "scattermapbox": [
           {
            "marker": {
             "colorbar": {
              "outlinewidth": 0,
              "ticks": ""
             }
            },
            "type": "scattermapbox"
           }
          ],
          "scatterpolar": [
           {
            "marker": {
             "colorbar": {
              "outlinewidth": 0,
              "ticks": ""
             }
            },
            "type": "scatterpolar"
           }
          ],
          "scatterpolargl": [
           {
            "marker": {
             "colorbar": {
              "outlinewidth": 0,
              "ticks": ""
             }
            },
            "type": "scatterpolargl"
           }
          ],
          "scatterternary": [
           {
            "marker": {
             "colorbar": {
              "outlinewidth": 0,
              "ticks": ""
             }
            },
            "type": "scatterternary"
           }
          ],
          "surface": [
           {
            "colorbar": {
             "outlinewidth": 0,
             "ticks": ""
            },
            "colorscale": [
             [
              0,
              "#0d0887"
             ],
             [
              0.1111111111111111,
              "#46039f"
             ],
             [
              0.2222222222222222,
              "#7201a8"
             ],
             [
              0.3333333333333333,
              "#9c179e"
             ],
             [
              0.4444444444444444,
              "#bd3786"
             ],
             [
              0.5555555555555556,
              "#d8576b"
             ],
             [
              0.6666666666666666,
              "#ed7953"
             ],
             [
              0.7777777777777778,
              "#fb9f3a"
             ],
             [
              0.8888888888888888,
              "#fdca26"
             ],
             [
              1,
              "#f0f921"
             ]
            ],
            "type": "surface"
           }
          ],
          "table": [
           {
            "cells": {
             "fill": {
              "color": "#EBF0F8"
             },
             "line": {
              "color": "white"
             }
            },
            "header": {
             "fill": {
              "color": "#C8D4E3"
             },
             "line": {
              "color": "white"
             }
            },
            "type": "table"
           }
          ]
         },
         "layout": {
          "annotationdefaults": {
           "arrowcolor": "#2a3f5f",
           "arrowhead": 0,
           "arrowwidth": 1
          },
          "autotypenumbers": "strict",
          "coloraxis": {
           "colorbar": {
            "outlinewidth": 0,
            "ticks": ""
           }
          },
          "colorscale": {
           "diverging": [
            [
             0,
             "#8e0152"
            ],
            [
             0.1,
             "#c51b7d"
            ],
            [
             0.2,
             "#de77ae"
            ],
            [
             0.3,
             "#f1b6da"
            ],
            [
             0.4,
             "#fde0ef"
            ],
            [
             0.5,
             "#f7f7f7"
            ],
            [
             0.6,
             "#e6f5d0"
            ],
            [
             0.7,
             "#b8e186"
            ],
            [
             0.8,
             "#7fbc41"
            ],
            [
             0.9,
             "#4d9221"
            ],
            [
             1,
             "#276419"
            ]
           ],
           "sequential": [
            [
             0,
             "#0d0887"
            ],
            [
             0.1111111111111111,
             "#46039f"
            ],
            [
             0.2222222222222222,
             "#7201a8"
            ],
            [
             0.3333333333333333,
             "#9c179e"
            ],
            [
             0.4444444444444444,
             "#bd3786"
            ],
            [
             0.5555555555555556,
             "#d8576b"
            ],
            [
             0.6666666666666666,
             "#ed7953"
            ],
            [
             0.7777777777777778,
             "#fb9f3a"
            ],
            [
             0.8888888888888888,
             "#fdca26"
            ],
            [
             1,
             "#f0f921"
            ]
           ],
           "sequentialminus": [
            [
             0,
             "#0d0887"
            ],
            [
             0.1111111111111111,
             "#46039f"
            ],
            [
             0.2222222222222222,
             "#7201a8"
            ],
            [
             0.3333333333333333,
             "#9c179e"
            ],
            [
             0.4444444444444444,
             "#bd3786"
            ],
            [
             0.5555555555555556,
             "#d8576b"
            ],
            [
             0.6666666666666666,
             "#ed7953"
            ],
            [
             0.7777777777777778,
             "#fb9f3a"
            ],
            [
             0.8888888888888888,
             "#fdca26"
            ],
            [
             1,
             "#f0f921"
            ]
           ]
          },
          "colorway": [
           "#636efa",
           "#EF553B",
           "#00cc96",
           "#ab63fa",
           "#FFA15A",
           "#19d3f3",
           "#FF6692",
           "#B6E880",
           "#FF97FF",
           "#FECB52"
          ],
          "font": {
           "color": "#2a3f5f"
          },
          "geo": {
           "bgcolor": "white",
           "lakecolor": "white",
           "landcolor": "#E5ECF6",
           "showlakes": true,
           "showland": true,
           "subunitcolor": "white"
          },
          "hoverlabel": {
           "align": "left"
          },
          "hovermode": "closest",
          "mapbox": {
           "style": "light"
          },
          "paper_bgcolor": "white",
          "plot_bgcolor": "#E5ECF6",
          "polar": {
           "angularaxis": {
            "gridcolor": "white",
            "linecolor": "white",
            "ticks": ""
           },
           "bgcolor": "#E5ECF6",
           "radialaxis": {
            "gridcolor": "white",
            "linecolor": "white",
            "ticks": ""
           }
          },
          "scene": {
           "xaxis": {
            "backgroundcolor": "#E5ECF6",
            "gridcolor": "white",
            "gridwidth": 2,
            "linecolor": "white",
            "showbackground": true,
            "ticks": "",
            "zerolinecolor": "white"
           },
           "yaxis": {
            "backgroundcolor": "#E5ECF6",
            "gridcolor": "white",
            "gridwidth": 2,
            "linecolor": "white",
            "showbackground": true,
            "ticks": "",
            "zerolinecolor": "white"
           },
           "zaxis": {
            "backgroundcolor": "#E5ECF6",
            "gridcolor": "white",
            "gridwidth": 2,
            "linecolor": "white",
            "showbackground": true,
            "ticks": "",
            "zerolinecolor": "white"
           }
          },
          "shapedefaults": {
           "line": {
            "color": "#2a3f5f"
           }
          },
          "ternary": {
           "aaxis": {
            "gridcolor": "white",
            "linecolor": "white",
            "ticks": ""
           },
           "baxis": {
            "gridcolor": "white",
            "linecolor": "white",
            "ticks": ""
           },
           "bgcolor": "#E5ECF6",
           "caxis": {
            "gridcolor": "white",
            "linecolor": "white",
            "ticks": ""
           }
          },
          "title": {
           "x": 0.05
          },
          "xaxis": {
           "automargin": true,
           "gridcolor": "white",
           "linecolor": "white",
           "ticks": "",
           "title": {
            "standoff": 15
           },
           "zerolinecolor": "white",
           "zerolinewidth": 2
          },
          "yaxis": {
           "automargin": true,
           "gridcolor": "white",
           "linecolor": "white",
           "ticks": "",
           "title": {
            "standoff": 15
           },
           "zerolinecolor": "white",
           "zerolinewidth": 2
          }
         }
        },
        "xaxis": {
         "anchor": "y",
         "domain": [
          0,
          1
         ],
         "title": {
          "text": "p"
         }
        },
        "yaxis": {
         "anchor": "x",
         "domain": [
          0,
          1
         ],
         "title": {
          "text": "f(p) (sample)"
         }
        }
       }
      }
     },
     "metadata": {},
     "output_type": "display_data"
    }
   ],
   "source": [
    "import autograd.numpy as np\n",
    "from autograd import grad\n",
    "import plotly.express as px\n",
    "\n",
    "M = 10\n",
    "eta = 2\n",
    "\n",
    "def umsatz_sample(p):\n",
    "    # maximum demand: normally distributed around M\n",
    "    M_sample = prng.normal(M, 2)\n",
    "    # (negative) price elasticity: normally distributed around eta\n",
    "    eta_sample = prng.normal(eta, 0.2)\n",
    "    \n",
    "    return p*(M_sample - eta_sample*p)\n",
    "\n",
    "grad_u = grad(umsatz_sample)\n",
    "\n",
    "# Startwert für p\n",
    "p = 1.8\n",
    "\n",
    "# Startschrittweite\n",
    "alpha0 = 0.5\n",
    "\n",
    "all_p = []\n",
    "for k in range(150):\n",
    "    # Harmonische Schrittweite\n",
    "    alpha = 1/(k+1) * alpha0\n",
    "    p = p + alpha * grad_u(p)\n",
    "    all_p.append(p)\n",
    "\n",
    "\n",
    "print(f\"Lösung nach {k+1} Iterationen: {p}\")\n",
    "\n",
    "# Verlauf der Zielfunktion über die Iterationen\n",
    "px.line(all_p, markers=True, labels={\"index\":\"p\", \"value\":\"f(p) (sample)\"})"
   ]
  },
  {
   "cell_type": "code",
   "execution_count": 109,
   "id": "64cc9757",
   "metadata": {},
   "outputs": [
    {
     "name": "stdout",
     "output_type": "stream",
     "text": [
      "2.2878136591107725\n",
      "2.4041445169300886\n",
      "2.50088609179047\n",
      "2.491910879527978\n",
      "2.436576736726319\n",
      "2.4736769203422524\n",
      "2.4515708072385207\n",
      "2.4645970450548185\n",
      "2.462497782732709\n",
      "2.461866445623776\n",
      "2.471847941757725\n",
      "2.4774370653275373\n",
      "2.4699207308210043\n",
      "2.434111966318297\n",
      "2.4274853604659934\n",
      "2.418037918589103\n",
      "2.436374052884379\n",
      "2.4472062552961917\n",
      "2.455770403245075\n",
      "2.4570137764371522\n",
      "2.462374100073484\n",
      "2.4487388337307086\n",
      "2.4563786126997047\n",
      "2.445740738421941\n",
      "2.4525871197462124\n",
      "2.4574705144994375\n",
      "2.4576524342443893\n",
      "2.4602587554810063\n",
      "2.454416533449108\n",
      "2.446071159752554\n",
      "2.441606041880691\n",
      "2.435801862132404\n",
      "2.4405674504597337\n",
      "2.43833008717877\n",
      "2.4256911827324803\n",
      "2.4159361372335164\n",
      "2.4152548974212813\n",
      "2.4175306073806957\n",
      "2.420854879189305\n",
      "2.4219238977546427\n",
      "2.4233498507650135\n",
      "2.4229349912794618\n",
      "2.4124520451712494\n",
      "2.4191520058901554\n",
      "2.4251522737033633\n",
      "2.4267277730854824\n",
      "2.4295560694436897\n",
      "2.4340894540639626\n",
      "2.428257346580376\n",
      "2.434657163030148\n",
      "2.4322760103309933\n",
      "2.4357353549373575\n",
      "2.4419196498331748\n",
      "2.4450508315783104\n",
      "2.4463900927699203\n",
      "2.4419685026048685\n",
      "2.442726161417473\n",
      "2.4471326583864452\n",
      "2.449110212810603\n",
      "2.4478547421236554\n",
      "2.443253316910967\n",
      "2.4412904254769816\n",
      "2.4400800293866793\n",
      "2.4402725668911738\n",
      "2.440327974787356\n",
      "2.436121942740315\n",
      "2.4360521032384534\n",
      "2.4435749595019867\n",
      "2.4452434935394187\n",
      "2.4439689935783178\n",
      "2.446630139293601\n",
      "2.4451930481853137\n",
      "2.4459750787658887\n",
      "2.448466413478668\n",
      "2.4528367283289776\n",
      "2.4539700759346075\n",
      "2.4493895930126586\n",
      "2.449274964318919\n",
      "2.4482567852292885\n",
      "2.4445703482594836\n",
      "2.443053564194668\n",
      "2.440368177583025\n",
      "2.4416269938997934\n",
      "2.442702198216269\n",
      "2.4433271613810432\n",
      "2.4462055734544537\n",
      "2.4419922028492254\n",
      "2.4445081206884014\n",
      "2.453321061661336\n",
      "2.4557741601625604\n",
      "2.4604561163239214\n",
      "2.4619442649181686\n",
      "2.4672411016238516\n",
      "2.468397217344645\n",
      "2.4696846188462898\n",
      "2.4696148743647477\n",
      "2.4682124868710353\n",
      "2.4687912704992687\n",
      "2.469610837803873\n",
      "2.4698994233586764\n"
     ]
    }
   ],
   "source": [
    "pk = 1.8\n",
    "alpha0 = 0.1\n",
    "\n",
    "for k in range(100):\n",
    "    alpha = 1/(k+1) * alpha0\n",
    "    pk = pk + alpha * grad_u(pk)\n",
    "    print(pk)\n"
   ]
  },
  {
   "cell_type": "markdown",
   "id": "807dbdb9",
   "metadata": {},
   "source": [
    "# Stromkosten Forecast für Batteriebeispiel"
   ]
  },
  {
   "cell_type": "code",
   "execution_count": 31,
   "id": "7a084dc5",
   "metadata": {},
   "outputs": [],
   "source": [
    "import pandas as pd\n",
    "import numpy as np\n",
    "\n",
    "df = pd.read_pickle(\"../4 Projekt/energy_2020_corrected.pkl\")\n",
    "\n",
    "# Extract two days (actuals)\n",
    "df_small = df[df[\"Datum (MEZ)\"].between(\"2020-05-01\",\"2020-05-03\")]\n",
    "df_small = df_small.reset_index(drop=True)\n",
    "\n",
    "# For each hour (one week): Create a one week forecast with increasing noise\n",
    "dfs = []\n",
    "for i in df.index:\n",
    "    # Get next week of data\n",
    "    df_temp = pd.DataFrame(df_small.loc[i:i+23,])\n",
    "\n",
    "    errors = np.random.randn(24)\n",
    "    factors = np.linspace(0.0, 0.1, 24)\n",
    "\n",
    "    df_temp.loc[:,\"Preis Forecast [EUR/kWh]\"] = df_temp[\"Preis [EUR/kWh]\"] + errors*factors\n",
    "    df_temp[\"tau\"] = df_small.loc[i,\"Datum (MEZ)\"]\n",
    "\n",
    "    dfs.append(df_temp)\n",
    "    if i >= 24:\n",
    "        break\n",
    "\n",
    "\n",
    "df_small_forecast = pd.concat(dfs).drop(\"Solar [kWh]\", axis=1)"
   ]
  },
  {
   "cell_type": "code",
   "execution_count": 32,
   "id": "7b520d5c",
   "metadata": {},
   "outputs": [
    {
     "data": {
      "text/html": [
       "<div>\n",
       "<style scoped>\n",
       "    .dataframe tbody tr th:only-of-type {\n",
       "        vertical-align: middle;\n",
       "    }\n",
       "\n",
       "    .dataframe tbody tr th {\n",
       "        vertical-align: top;\n",
       "    }\n",
       "\n",
       "    .dataframe thead th {\n",
       "        text-align: right;\n",
       "    }\n",
       "</style>\n",
       "<table border=\"1\" class=\"dataframe\">\n",
       "  <thead>\n",
       "    <tr style=\"text-align: right;\">\n",
       "      <th></th>\n",
       "      <th>Datum (MEZ)</th>\n",
       "      <th>Preis [EUR/kWh]</th>\n",
       "      <th>Last [kWh]</th>\n",
       "      <th>Preis Forecast [EUR/kWh]</th>\n",
       "      <th>tau</th>\n",
       "    </tr>\n",
       "  </thead>\n",
       "  <tbody>\n",
       "    <tr>\n",
       "      <th>0</th>\n",
       "      <td>2020-05-01 00:00:00+01:00</td>\n",
       "      <td>0.02675</td>\n",
       "      <td>87.8690</td>\n",
       "      <td>0.026750</td>\n",
       "      <td>2020-05-01 00:00:00+01:00</td>\n",
       "    </tr>\n",
       "    <tr>\n",
       "      <th>1</th>\n",
       "      <td>2020-05-01 01:00:00+01:00</td>\n",
       "      <td>0.01910</td>\n",
       "      <td>84.6616</td>\n",
       "      <td>0.020823</td>\n",
       "      <td>2020-05-01 00:00:00+01:00</td>\n",
       "    </tr>\n",
       "    <tr>\n",
       "      <th>2</th>\n",
       "      <td>2020-05-01 02:00:00+01:00</td>\n",
       "      <td>0.01315</td>\n",
       "      <td>83.2734</td>\n",
       "      <td>0.004483</td>\n",
       "      <td>2020-05-01 00:00:00+01:00</td>\n",
       "    </tr>\n",
       "    <tr>\n",
       "      <th>3</th>\n",
       "      <td>2020-05-01 03:00:00+01:00</td>\n",
       "      <td>0.00780</td>\n",
       "      <td>82.9602</td>\n",
       "      <td>-0.001073</td>\n",
       "      <td>2020-05-01 00:00:00+01:00</td>\n",
       "    </tr>\n",
       "    <tr>\n",
       "      <th>4</th>\n",
       "      <td>2020-05-01 04:00:00+01:00</td>\n",
       "      <td>0.01230</td>\n",
       "      <td>82.4234</td>\n",
       "      <td>0.027619</td>\n",
       "      <td>2020-05-01 00:00:00+01:00</td>\n",
       "    </tr>\n",
       "    <tr>\n",
       "      <th>...</th>\n",
       "      <td>...</td>\n",
       "      <td>...</td>\n",
       "      <td>...</td>\n",
       "      <td>...</td>\n",
       "      <td>...</td>\n",
       "    </tr>\n",
       "    <tr>\n",
       "      <th>21</th>\n",
       "      <td>2020-05-01 21:00:00+01:00</td>\n",
       "      <td>0.10455</td>\n",
       "      <td>97.6116</td>\n",
       "      <td>0.058989</td>\n",
       "      <td>2020-05-01 02:00:00+01:00</td>\n",
       "    </tr>\n",
       "    <tr>\n",
       "      <th>22</th>\n",
       "      <td>2020-05-01 22:00:00+01:00</td>\n",
       "      <td>0.08000</td>\n",
       "      <td>90.3670</td>\n",
       "      <td>-0.000132</td>\n",
       "      <td>2020-05-01 02:00:00+01:00</td>\n",
       "    </tr>\n",
       "    <tr>\n",
       "      <th>23</th>\n",
       "      <td>2020-05-01 23:00:00+01:00</td>\n",
       "      <td>0.06100</td>\n",
       "      <td>82.9468</td>\n",
       "      <td>0.190867</td>\n",
       "      <td>2020-05-01 02:00:00+01:00</td>\n",
       "    </tr>\n",
       "    <tr>\n",
       "      <th>24</th>\n",
       "      <td>2020-05-02 00:00:00+01:00</td>\n",
       "      <td>0.05000</td>\n",
       "      <td>79.2734</td>\n",
       "      <td>0.048916</td>\n",
       "      <td>2020-05-01 02:00:00+01:00</td>\n",
       "    </tr>\n",
       "    <tr>\n",
       "      <th>25</th>\n",
       "      <td>2020-05-02 01:00:00+01:00</td>\n",
       "      <td>0.05000</td>\n",
       "      <td>77.1338</td>\n",
       "      <td>0.075897</td>\n",
       "      <td>2020-05-01 02:00:00+01:00</td>\n",
       "    </tr>\n",
       "  </tbody>\n",
       "</table>\n",
       "<p>72 rows × 5 columns</p>\n",
       "</div>"
      ],
      "text/plain": [
       "                 Datum (MEZ)  Preis [EUR/kWh]  Last [kWh]  \\\n",
       "0  2020-05-01 00:00:00+01:00          0.02675     87.8690   \n",
       "1  2020-05-01 01:00:00+01:00          0.01910     84.6616   \n",
       "2  2020-05-01 02:00:00+01:00          0.01315     83.2734   \n",
       "3  2020-05-01 03:00:00+01:00          0.00780     82.9602   \n",
       "4  2020-05-01 04:00:00+01:00          0.01230     82.4234   \n",
       "..                       ...              ...         ...   \n",
       "21 2020-05-01 21:00:00+01:00          0.10455     97.6116   \n",
       "22 2020-05-01 22:00:00+01:00          0.08000     90.3670   \n",
       "23 2020-05-01 23:00:00+01:00          0.06100     82.9468   \n",
       "24 2020-05-02 00:00:00+01:00          0.05000     79.2734   \n",
       "25 2020-05-02 01:00:00+01:00          0.05000     77.1338   \n",
       "\n",
       "    Preis Forecast [EUR/kWh]                       tau  \n",
       "0                   0.026750 2020-05-01 00:00:00+01:00  \n",
       "1                   0.020823 2020-05-01 00:00:00+01:00  \n",
       "2                   0.004483 2020-05-01 00:00:00+01:00  \n",
       "3                  -0.001073 2020-05-01 00:00:00+01:00  \n",
       "4                   0.027619 2020-05-01 00:00:00+01:00  \n",
       "..                       ...                       ...  \n",
       "21                  0.058989 2020-05-01 02:00:00+01:00  \n",
       "22                 -0.000132 2020-05-01 02:00:00+01:00  \n",
       "23                  0.190867 2020-05-01 02:00:00+01:00  \n",
       "24                  0.048916 2020-05-01 02:00:00+01:00  \n",
       "25                  0.075897 2020-05-01 02:00:00+01:00  \n",
       "\n",
       "[72 rows x 5 columns]"
      ]
     },
     "execution_count": 32,
     "metadata": {},
     "output_type": "execute_result"
    }
   ],
   "source": [
    "tmp = df_small_forecast[df_small_forecast.tau < \"2020-05-01 03:00:00\"]\n",
    "tmp"
   ]
  },
  {
   "cell_type": "code",
   "execution_count": 33,
   "id": "ac760589",
   "metadata": {},
   "outputs": [
    {
     "data": {
      "application/vnd.plotly.v1+json": {
       "config": {
        "plotlyServerURL": "https://plot.ly"
       },
       "data": [
        {
         "hovertemplate": "tau=2020-05-01 00:00:00+01:00<br>Datum (MEZ)=%{x}<br>Preis Forecast [EUR/kWh]=%{y}<extra></extra>",
         "legendgroup": "",
         "line": {
          "color": "#636efa",
          "dash": "solid"
         },
         "marker": {
          "symbol": "circle"
         },
         "mode": "lines",
         "name": "",
         "orientation": "v",
         "showlegend": false,
         "type": "scatter",
         "x": [
          "2020-05-01T00:00:00+01:00",
          "2020-05-01T01:00:00+01:00",
          "2020-05-01T02:00:00+01:00",
          "2020-05-01T03:00:00+01:00",
          "2020-05-01T04:00:00+01:00",
          "2020-05-01T05:00:00+01:00",
          "2020-05-01T06:00:00+01:00",
          "2020-05-01T07:00:00+01:00",
          "2020-05-01T08:00:00+01:00",
          "2020-05-01T09:00:00+01:00",
          "2020-05-01T10:00:00+01:00",
          "2020-05-01T11:00:00+01:00",
          "2020-05-01T12:00:00+01:00",
          "2020-05-01T13:00:00+01:00",
          "2020-05-01T14:00:00+01:00",
          "2020-05-01T15:00:00+01:00",
          "2020-05-01T16:00:00+01:00",
          "2020-05-01T17:00:00+01:00",
          "2020-05-01T18:00:00+01:00",
          "2020-05-01T19:00:00+01:00",
          "2020-05-01T20:00:00+01:00",
          "2020-05-01T21:00:00+01:00",
          "2020-05-01T22:00:00+01:00",
          "2020-05-01T23:00:00+01:00"
         ],
         "xaxis": "x3",
         "y": [
          0.02675,
          0.020823337292685925,
          0.004483336695401354,
          -0.0010727075162447683,
          0.027619490955782512,
          -0.0014842647161702489,
          0.018220137739220404,
          0.004905070120390325,
          -0.022397610091850984,
          -0.04523105585220463,
          0.004644314044144461,
          -0.002168656239648751,
          -0.03488481838261816,
          0.0055187429218863035,
          -0.05964889712889102,
          -0.0019908669021989553,
          0.07087037745000198,
          0.1032457906130883,
          0.1851889874512233,
          0.27634385827540087,
          0.007243232443806119,
          0.2417391179860526,
          0.054946905881097546,
          0.05561173987041792
         ],
         "yaxis": "y3"
        },
        {
         "hovertemplate": "tau=2020-05-01 01:00:00+01:00<br>Datum (MEZ)=%{x}<br>Preis Forecast [EUR/kWh]=%{y}<extra></extra>",
         "legendgroup": "",
         "line": {
          "color": "#636efa",
          "dash": "solid"
         },
         "marker": {
          "symbol": "circle"
         },
         "mode": "lines",
         "name": "",
         "orientation": "v",
         "showlegend": false,
         "type": "scatter",
         "x": [
          "2020-05-01T01:00:00+01:00",
          "2020-05-01T02:00:00+01:00",
          "2020-05-01T03:00:00+01:00",
          "2020-05-01T04:00:00+01:00",
          "2020-05-01T05:00:00+01:00",
          "2020-05-01T06:00:00+01:00",
          "2020-05-01T07:00:00+01:00",
          "2020-05-01T08:00:00+01:00",
          "2020-05-01T09:00:00+01:00",
          "2020-05-01T10:00:00+01:00",
          "2020-05-01T11:00:00+01:00",
          "2020-05-01T12:00:00+01:00",
          "2020-05-01T13:00:00+01:00",
          "2020-05-01T14:00:00+01:00",
          "2020-05-01T15:00:00+01:00",
          "2020-05-01T16:00:00+01:00",
          "2020-05-01T17:00:00+01:00",
          "2020-05-01T18:00:00+01:00",
          "2020-05-01T19:00:00+01:00",
          "2020-05-01T20:00:00+01:00",
          "2020-05-01T21:00:00+01:00",
          "2020-05-01T22:00:00+01:00",
          "2020-05-01T23:00:00+01:00",
          "2020-05-02T00:00:00+01:00"
         ],
         "xaxis": "x2",
         "y": [
          0.0191,
          0.008137482675731153,
          0.001240251099941513,
          0.015751894799726166,
          -0.003842891855720317,
          0.00043195802968266656,
          0.023582719510293722,
          -0.05238119622420574,
          -0.034999367546099405,
          0.04800267817478639,
          -0.01685155288971708,
          -0.00031453828639543477,
          -0.0270167075192157,
          0.08436502663977594,
          0.1363413514823833,
          -0.0950223871839117,
          0.1273170796409397,
          0.07103935717907331,
          0.010098841106201711,
          0.08147477256833582,
          0.04532686704250629,
          0.021722932178718672,
          0.24617885230016062,
          -0.11624708405392252
         ],
         "yaxis": "y2"
        },
        {
         "hovertemplate": "tau=2020-05-01 02:00:00+01:00<br>Datum (MEZ)=%{x}<br>Preis Forecast [EUR/kWh]=%{y}<extra></extra>",
         "legendgroup": "",
         "line": {
          "color": "#636efa",
          "dash": "solid"
         },
         "marker": {
          "symbol": "circle"
         },
         "mode": "lines",
         "name": "",
         "orientation": "v",
         "showlegend": false,
         "type": "scatter",
         "x": [
          "2020-05-01T02:00:00+01:00",
          "2020-05-01T03:00:00+01:00",
          "2020-05-01T04:00:00+01:00",
          "2020-05-01T05:00:00+01:00",
          "2020-05-01T06:00:00+01:00",
          "2020-05-01T07:00:00+01:00",
          "2020-05-01T08:00:00+01:00",
          "2020-05-01T09:00:00+01:00",
          "2020-05-01T10:00:00+01:00",
          "2020-05-01T11:00:00+01:00",
          "2020-05-01T12:00:00+01:00",
          "2020-05-01T13:00:00+01:00",
          "2020-05-01T14:00:00+01:00",
          "2020-05-01T15:00:00+01:00",
          "2020-05-01T16:00:00+01:00",
          "2020-05-01T17:00:00+01:00",
          "2020-05-01T18:00:00+01:00",
          "2020-05-01T19:00:00+01:00",
          "2020-05-01T20:00:00+01:00",
          "2020-05-01T21:00:00+01:00",
          "2020-05-01T22:00:00+01:00",
          "2020-05-01T23:00:00+01:00",
          "2020-05-02T00:00:00+01:00",
          "2020-05-02T01:00:00+01:00"
         ],
         "xaxis": "x",
         "y": [
          0.01315,
          0.012586299908848696,
          0.018437240184307757,
          0.031456757142689876,
          0.012784751958337087,
          -0.012226153925445318,
          0.04504861078911389,
          -0.0222583057584861,
          0.009973947009749613,
          -0.0023607199120504324,
          -0.01000897346824779,
          -0.04701596153546721,
          -0.05284721791940569,
          -0.04513469132712687,
          0.014577675018463035,
          0.15284012655441664,
          0.02513954254256323,
          0.17081819441782345,
          0.14512331122151975,
          0.05898910572817219,
          -0.00013237565193598144,
          0.1908667026488774,
          0.04891593905788622,
          0.0758973275873019
         ],
         "yaxis": "y"
        }
       ],
       "layout": {
        "annotations": [
         {
          "font": {},
          "showarrow": false,
          "text": "tau=2020-05-01 02:00:00+01:00",
          "x": 0.5,
          "xanchor": "center",
          "xref": "paper",
          "y": 0.2866666666666666,
          "yanchor": "bottom",
          "yref": "paper"
         },
         {
          "font": {},
          "showarrow": false,
          "text": "tau=2020-05-01 01:00:00+01:00",
          "x": 0.5,
          "xanchor": "center",
          "xref": "paper",
          "y": 0.6433333333333333,
          "yanchor": "bottom",
          "yref": "paper"
         },
         {
          "font": {},
          "showarrow": false,
          "text": "tau=2020-05-01 00:00:00+01:00",
          "x": 0.5,
          "xanchor": "center",
          "xref": "paper",
          "y": 0.9999999999999999,
          "yanchor": "bottom",
          "yref": "paper"
         }
        ],
        "height": 400,
        "legend": {
         "tracegroupgap": 0
        },
        "margin": {
         "t": 60
        },
        "template": {
         "data": {
          "bar": [
           {
            "error_x": {
             "color": "#2a3f5f"
            },
            "error_y": {
             "color": "#2a3f5f"
            },
            "marker": {
             "line": {
              "color": "#E5ECF6",
              "width": 0.5
             },
             "pattern": {
              "fillmode": "overlay",
              "size": 10,
              "solidity": 0.2
             }
            },
            "type": "bar"
           }
          ],
          "barpolar": [
           {
            "marker": {
             "line": {
              "color": "#E5ECF6",
              "width": 0.5
             },
             "pattern": {
              "fillmode": "overlay",
              "size": 10,
              "solidity": 0.2
             }
            },
            "type": "barpolar"
           }
          ],
          "carpet": [
           {
            "aaxis": {
             "endlinecolor": "#2a3f5f",
             "gridcolor": "white",
             "linecolor": "white",
             "minorgridcolor": "white",
             "startlinecolor": "#2a3f5f"
            },
            "baxis": {
             "endlinecolor": "#2a3f5f",
             "gridcolor": "white",
             "linecolor": "white",
             "minorgridcolor": "white",
             "startlinecolor": "#2a3f5f"
            },
            "type": "carpet"
           }
          ],
          "choropleth": [
           {
            "colorbar": {
             "outlinewidth": 0,
             "ticks": ""
            },
            "type": "choropleth"
           }
          ],
          "contour": [
           {
            "colorbar": {
             "outlinewidth": 0,
             "ticks": ""
            },
            "colorscale": [
             [
              0,
              "#0d0887"
             ],
             [
              0.1111111111111111,
              "#46039f"
             ],
             [
              0.2222222222222222,
              "#7201a8"
             ],
             [
              0.3333333333333333,
              "#9c179e"
             ],
             [
              0.4444444444444444,
              "#bd3786"
             ],
             [
              0.5555555555555556,
              "#d8576b"
             ],
             [
              0.6666666666666666,
              "#ed7953"
             ],
             [
              0.7777777777777778,
              "#fb9f3a"
             ],
             [
              0.8888888888888888,
              "#fdca26"
             ],
             [
              1,
              "#f0f921"
             ]
            ],
            "type": "contour"
           }
          ],
          "contourcarpet": [
           {
            "colorbar": {
             "outlinewidth": 0,
             "ticks": ""
            },
            "type": "contourcarpet"
           }
          ],
          "heatmap": [
           {
            "colorbar": {
             "outlinewidth": 0,
             "ticks": ""
            },
            "colorscale": [
             [
              0,
              "#0d0887"
             ],
             [
              0.1111111111111111,
              "#46039f"
             ],
             [
              0.2222222222222222,
              "#7201a8"
             ],
             [
              0.3333333333333333,
              "#9c179e"
             ],
             [
              0.4444444444444444,
              "#bd3786"
             ],
             [
              0.5555555555555556,
              "#d8576b"
             ],
             [
              0.6666666666666666,
              "#ed7953"
             ],
             [
              0.7777777777777778,
              "#fb9f3a"
             ],
             [
              0.8888888888888888,
              "#fdca26"
             ],
             [
              1,
              "#f0f921"
             ]
            ],
            "type": "heatmap"
           }
          ],
          "heatmapgl": [
           {
            "colorbar": {
             "outlinewidth": 0,
             "ticks": ""
            },
            "colorscale": [
             [
              0,
              "#0d0887"
             ],
             [
              0.1111111111111111,
              "#46039f"
             ],
             [
              0.2222222222222222,
              "#7201a8"
             ],
             [
              0.3333333333333333,
              "#9c179e"
             ],
             [
              0.4444444444444444,
              "#bd3786"
             ],
             [
              0.5555555555555556,
              "#d8576b"
             ],
             [
              0.6666666666666666,
              "#ed7953"
             ],
             [
              0.7777777777777778,
              "#fb9f3a"
             ],
             [
              0.8888888888888888,
              "#fdca26"
             ],
             [
              1,
              "#f0f921"
             ]
            ],
            "type": "heatmapgl"
           }
          ],
          "histogram": [
           {
            "marker": {
             "pattern": {
              "fillmode": "overlay",
              "size": 10,
              "solidity": 0.2
             }
            },
            "type": "histogram"
           }
          ],
          "histogram2d": [
           {
            "colorbar": {
             "outlinewidth": 0,
             "ticks": ""
            },
            "colorscale": [
             [
              0,
              "#0d0887"
             ],
             [
              0.1111111111111111,
              "#46039f"
             ],
             [
              0.2222222222222222,
              "#7201a8"
             ],
             [
              0.3333333333333333,
              "#9c179e"
             ],
             [
              0.4444444444444444,
              "#bd3786"
             ],
             [
              0.5555555555555556,
              "#d8576b"
             ],
             [
              0.6666666666666666,
              "#ed7953"
             ],
             [
              0.7777777777777778,
              "#fb9f3a"
             ],
             [
              0.8888888888888888,
              "#fdca26"
             ],
             [
              1,
              "#f0f921"
             ]
            ],
            "type": "histogram2d"
           }
          ],
          "histogram2dcontour": [
           {
            "colorbar": {
             "outlinewidth": 0,
             "ticks": ""
            },
            "colorscale": [
             [
              0,
              "#0d0887"
             ],
             [
              0.1111111111111111,
              "#46039f"
             ],
             [
              0.2222222222222222,
              "#7201a8"
             ],
             [
              0.3333333333333333,
              "#9c179e"
             ],
             [
              0.4444444444444444,
              "#bd3786"
             ],
             [
              0.5555555555555556,
              "#d8576b"
             ],
             [
              0.6666666666666666,
              "#ed7953"
             ],
             [
              0.7777777777777778,
              "#fb9f3a"
             ],
             [
              0.8888888888888888,
              "#fdca26"
             ],
             [
              1,
              "#f0f921"
             ]
            ],
            "type": "histogram2dcontour"
           }
          ],
          "mesh3d": [
           {
            "colorbar": {
             "outlinewidth": 0,
             "ticks": ""
            },
            "type": "mesh3d"
           }
          ],
          "parcoords": [
           {
            "line": {
             "colorbar": {
              "outlinewidth": 0,
              "ticks": ""
             }
            },
            "type": "parcoords"
           }
          ],
          "pie": [
           {
            "automargin": true,
            "type": "pie"
           }
          ],
          "scatter": [
           {
            "fillpattern": {
             "fillmode": "overlay",
             "size": 10,
             "solidity": 0.2
            },
            "type": "scatter"
           }
          ],
          "scatter3d": [
           {
            "line": {
             "colorbar": {
              "outlinewidth": 0,
              "ticks": ""
             }
            },
            "marker": {
             "colorbar": {
              "outlinewidth": 0,
              "ticks": ""
             }
            },
            "type": "scatter3d"
           }
          ],
          "scattercarpet": [
           {
            "marker": {
             "colorbar": {
              "outlinewidth": 0,
              "ticks": ""
             }
            },
            "type": "scattercarpet"
           }
          ],
          "scattergeo": [
           {
            "marker": {
             "colorbar": {
              "outlinewidth": 0,
              "ticks": ""
             }
            },
            "type": "scattergeo"
           }
          ],
          "scattergl": [
           {
            "marker": {
             "colorbar": {
              "outlinewidth": 0,
              "ticks": ""
             }
            },
            "type": "scattergl"
           }
          ],
          "scattermapbox": [
           {
            "marker": {
             "colorbar": {
              "outlinewidth": 0,
              "ticks": ""
             }
            },
            "type": "scattermapbox"
           }
          ],
          "scatterpolar": [
           {
            "marker": {
             "colorbar": {
              "outlinewidth": 0,
              "ticks": ""
             }
            },
            "type": "scatterpolar"
           }
          ],
          "scatterpolargl": [
           {
            "marker": {
             "colorbar": {
              "outlinewidth": 0,
              "ticks": ""
             }
            },
            "type": "scatterpolargl"
           }
          ],
          "scatterternary": [
           {
            "marker": {
             "colorbar": {
              "outlinewidth": 0,
              "ticks": ""
             }
            },
            "type": "scatterternary"
           }
          ],
          "surface": [
           {
            "colorbar": {
             "outlinewidth": 0,
             "ticks": ""
            },
            "colorscale": [
             [
              0,
              "#0d0887"
             ],
             [
              0.1111111111111111,
              "#46039f"
             ],
             [
              0.2222222222222222,
              "#7201a8"
             ],
             [
              0.3333333333333333,
              "#9c179e"
             ],
             [
              0.4444444444444444,
              "#bd3786"
             ],
             [
              0.5555555555555556,
              "#d8576b"
             ],
             [
              0.6666666666666666,
              "#ed7953"
             ],
             [
              0.7777777777777778,
              "#fb9f3a"
             ],
             [
              0.8888888888888888,
              "#fdca26"
             ],
             [
              1,
              "#f0f921"
             ]
            ],
            "type": "surface"
           }
          ],
          "table": [
           {
            "cells": {
             "fill": {
              "color": "#EBF0F8"
             },
             "line": {
              "color": "white"
             }
            },
            "header": {
             "fill": {
              "color": "#C8D4E3"
             },
             "line": {
              "color": "white"
             }
            },
            "type": "table"
           }
          ]
         },
         "layout": {
          "annotationdefaults": {
           "arrowcolor": "#2a3f5f",
           "arrowhead": 0,
           "arrowwidth": 1
          },
          "autotypenumbers": "strict",
          "coloraxis": {
           "colorbar": {
            "outlinewidth": 0,
            "ticks": ""
           }
          },
          "colorscale": {
           "diverging": [
            [
             0,
             "#8e0152"
            ],
            [
             0.1,
             "#c51b7d"
            ],
            [
             0.2,
             "#de77ae"
            ],
            [
             0.3,
             "#f1b6da"
            ],
            [
             0.4,
             "#fde0ef"
            ],
            [
             0.5,
             "#f7f7f7"
            ],
            [
             0.6,
             "#e6f5d0"
            ],
            [
             0.7,
             "#b8e186"
            ],
            [
             0.8,
             "#7fbc41"
            ],
            [
             0.9,
             "#4d9221"
            ],
            [
             1,
             "#276419"
            ]
           ],
           "sequential": [
            [
             0,
             "#0d0887"
            ],
            [
             0.1111111111111111,
             "#46039f"
            ],
            [
             0.2222222222222222,
             "#7201a8"
            ],
            [
             0.3333333333333333,
             "#9c179e"
            ],
            [
             0.4444444444444444,
             "#bd3786"
            ],
            [
             0.5555555555555556,
             "#d8576b"
            ],
            [
             0.6666666666666666,
             "#ed7953"
            ],
            [
             0.7777777777777778,
             "#fb9f3a"
            ],
            [
             0.8888888888888888,
             "#fdca26"
            ],
            [
             1,
             "#f0f921"
            ]
           ],
           "sequentialminus": [
            [
             0,
             "#0d0887"
            ],
            [
             0.1111111111111111,
             "#46039f"
            ],
            [
             0.2222222222222222,
             "#7201a8"
            ],
            [
             0.3333333333333333,
             "#9c179e"
            ],
            [
             0.4444444444444444,
             "#bd3786"
            ],
            [
             0.5555555555555556,
             "#d8576b"
            ],
            [
             0.6666666666666666,
             "#ed7953"
            ],
            [
             0.7777777777777778,
             "#fb9f3a"
            ],
            [
             0.8888888888888888,
             "#fdca26"
            ],
            [
             1,
             "#f0f921"
            ]
           ]
          },
          "colorway": [
           "#636efa",
           "#EF553B",
           "#00cc96",
           "#ab63fa",
           "#FFA15A",
           "#19d3f3",
           "#FF6692",
           "#B6E880",
           "#FF97FF",
           "#FECB52"
          ],
          "font": {
           "color": "#2a3f5f"
          },
          "geo": {
           "bgcolor": "white",
           "lakecolor": "white",
           "landcolor": "#E5ECF6",
           "showlakes": true,
           "showland": true,
           "subunitcolor": "white"
          },
          "hoverlabel": {
           "align": "left"
          },
          "hovermode": "closest",
          "mapbox": {
           "style": "light"
          },
          "paper_bgcolor": "white",
          "plot_bgcolor": "#E5ECF6",
          "polar": {
           "angularaxis": {
            "gridcolor": "white",
            "linecolor": "white",
            "ticks": ""
           },
           "bgcolor": "#E5ECF6",
           "radialaxis": {
            "gridcolor": "white",
            "linecolor": "white",
            "ticks": ""
           }
          },
          "scene": {
           "xaxis": {
            "backgroundcolor": "#E5ECF6",
            "gridcolor": "white",
            "gridwidth": 2,
            "linecolor": "white",
            "showbackground": true,
            "ticks": "",
            "zerolinecolor": "white"
           },
           "yaxis": {
            "backgroundcolor": "#E5ECF6",
            "gridcolor": "white",
            "gridwidth": 2,
            "linecolor": "white",
            "showbackground": true,
            "ticks": "",
            "zerolinecolor": "white"
           },
           "zaxis": {
            "backgroundcolor": "#E5ECF6",
            "gridcolor": "white",
            "gridwidth": 2,
            "linecolor": "white",
            "showbackground": true,
            "ticks": "",
            "zerolinecolor": "white"
           }
          },
          "shapedefaults": {
           "line": {
            "color": "#2a3f5f"
           }
          },
          "ternary": {
           "aaxis": {
            "gridcolor": "white",
            "linecolor": "white",
            "ticks": ""
           },
           "baxis": {
            "gridcolor": "white",
            "linecolor": "white",
            "ticks": ""
           },
           "bgcolor": "#E5ECF6",
           "caxis": {
            "gridcolor": "white",
            "linecolor": "white",
            "ticks": ""
           }
          },
          "title": {
           "x": 0.05
          },
          "xaxis": {
           "automargin": true,
           "gridcolor": "white",
           "linecolor": "white",
           "ticks": "",
           "title": {
            "standoff": 15
           },
           "zerolinecolor": "white",
           "zerolinewidth": 2
          },
          "yaxis": {
           "automargin": true,
           "gridcolor": "white",
           "linecolor": "white",
           "ticks": "",
           "title": {
            "standoff": 15
           },
           "zerolinecolor": "white",
           "zerolinewidth": 2
          }
         }
        },
        "width": 700,
        "xaxis": {
         "anchor": "y",
         "domain": [
          0,
          1
         ],
         "title": {
          "text": "Datum (MEZ)"
         }
        },
        "xaxis2": {
         "anchor": "y2",
         "domain": [
          0,
          1
         ],
         "matches": "x",
         "showticklabels": false
        },
        "xaxis3": {
         "anchor": "y3",
         "domain": [
          0,
          1
         ],
         "matches": "x",
         "showticklabels": false
        },
        "yaxis": {
         "anchor": "x",
         "domain": [
          0,
          0.2866666666666666
         ],
         "title": {
          "text": "Preis Forecast [EUR/kWh]"
         }
        },
        "yaxis2": {
         "anchor": "x2",
         "domain": [
          0.35666666666666663,
          0.6433333333333333
         ],
         "matches": "y",
         "title": {
          "text": "Preis Forecast [EUR/kWh]"
         }
        },
        "yaxis3": {
         "anchor": "x3",
         "domain": [
          0.7133333333333333,
          0.9999999999999999
         ],
         "matches": "y",
         "title": {
          "text": "Preis Forecast [EUR/kWh]"
         }
        }
       }
      }
     },
     "metadata": {},
     "output_type": "display_data"
    }
   ],
   "source": [
    "import plotly.express as px\n",
    "\n",
    "px.line(data_frame=tmp, x=\"Datum (MEZ)\", y=\"Preis Forecast [EUR/kWh]\", facet_col=\"tau\", facet_col_wrap=1, width=700, height=400)"
   ]
  },
  {
   "cell_type": "code",
   "execution_count": null,
   "id": "a2b2387a",
   "metadata": {},
   "outputs": [],
   "source": []
  }
 ],
 "metadata": {
  "kernelspec": {
   "display_name": "Python 3 (ipykernel)",
   "language": "python",
   "name": "python3"
  },
  "language_info": {
   "codemirror_mode": {
    "name": "ipython",
    "version": 3
   },
   "file_extension": ".py",
   "mimetype": "text/x-python",
   "name": "python",
   "nbconvert_exporter": "python",
   "pygments_lexer": "ipython3",
   "version": "3.10.12"
  }
 },
 "nbformat": 4,
 "nbformat_minor": 5
}
