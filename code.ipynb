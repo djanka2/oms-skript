{
 "cells": [
  {
   "cell_type": "markdown",
   "id": "b829beb5-77c6-4659-a09c-f54ccf328ffd",
   "metadata": {},
   "source": [
    "### Formulierung und Lösung des Produktionsoptimierungsbeispiel mit Gurobi"
   ]
  },
  {
   "cell_type": "code",
   "execution_count": 5,
   "id": "2976f340-f7dc-49c7-a84a-88cf359a7f1f",
   "metadata": {
    "tags": []
   },
   "outputs": [],
   "source": [
    "import gurobipy as gp\n",
    "import numpy as np"
   ]
  },
  {
   "cell_type": "markdown",
   "id": "b7f8765e-7e13-4078-81f7-ace9c55ef46a",
   "metadata": {},
   "source": [
    "Formulierung in mathematischer Form\n",
    "\n",
    "\\begin{alignat}{5}\n",
    "\\max_{x_1, x_2} & \\quad  &   2x_1+2x_2 & & & \\\\[2mm]\n",
    "\\text{s.t. } & &  5x_1+10x_2&\\leq 50\\\\\n",
    "             & &  12x_1+8x_2&\\leq 72\\\\\n",
    "             & &  4x_1+0x_2&\\leq 20\\\\\n",
    "             & &  x_1+x_2&\\leq 30\\\\\n",
    "             & & x_1, x_2 &\\geq 0\n",
    "\\end{alignat}\n",
    "\n"
   ]
  },
  {
   "cell_type": "markdown",
   "id": "92e0c865-02af-491a-9129-1a2cb0d31c5d",
   "metadata": {},
   "source": [
    "Zuerst erzeugen wir ein leeres Modell:"
   ]
  },
  {
   "cell_type": "code",
   "execution_count": 6,
   "id": "b956733b-3ac8-4620-b825-26874dc2f3ea",
   "metadata": {},
   "outputs": [
    {
     "name": "stdout",
     "output_type": "stream",
     "text": [
      "Restricted license - for non-production use only - expires 2025-11-24\n"
     ]
    }
   ],
   "source": [
    "m = gp.Model(\"Production Optimization\")"
   ]
  },
  {
   "cell_type": "markdown",
   "id": "9fc550d3-01f4-4db1-aa76-b71007798d42",
   "metadata": {},
   "source": [
    "Danach können wir einzelne Variablen anlegen. Als Parameter geben wir an\n",
    "* Den Namen mit \"name=\"\n",
    "* Den Variablentyp mit \"vtype=\". Es gibt folgende Möglichkeiten\n",
    "  * GRB.CONTINUOUS \n",
    "  * GRB.BINARY\n",
    "  * GRB.INTEGER\n",
    "* Die untere Schranke für die Variable mit \"lb=\". Falls nichts angegeben wird, ist die Variable automatisch nichtnegativ. Falls die Variable nach unten unbeschränkt sein soll, können wir \"lb=-np.infty\" spezifizieren."
   ]
  },
  {
   "cell_type": "code",
   "execution_count": 14,
   "id": "28f80b9e-edb2-4517-b6a2-88922c0c3e7c",
   "metadata": {
    "tags": []
   },
   "outputs": [],
   "source": [
    "x1 = m.addVar(name=\"x1\", vtype=GRB.CONTINUOUS, lb=0)\n",
    "x2 = m.addVar(name=\"x2\", vtype=GRB.CONTINUOUS, lb=0)"
   ]
  },
  {
   "cell_type": "markdown",
   "id": "3fc6c812-fb1a-482d-816e-61e5b09723b7",
   "metadata": {},
   "source": [
    "Einzelne Nebenbedinungen können wir dann direkt mit dem Befehl addConstr angeben."
   ]
  },
  {
   "cell_type": "code",
   "execution_count": 15,
   "id": "2d873ae8-9329-4252-a525-52c0e329b39f",
   "metadata": {},
   "outputs": [
    {
     "data": {
      "text/plain": [
       "<gurobi.Constr *Awaiting Model Update*>"
      ]
     },
     "execution_count": 15,
     "metadata": {},
     "output_type": "execute_result"
    }
   ],
   "source": [
    "m.addConstr(5*x1+10*x2 <= 50)\n",
    "m.addConstr(12*x1+8*x2 <= 72)\n",
    "m.addConstr(4*x1 <= 20)\n",
    "m.addConstr(x1+x2 <= 30)\n",
    "#m.addConstr(x1 >= 0) # nicht nötig, da bereits über den Parameter lb=0 beim Anlegen der Variable spezifiziert\n",
    "#m.addConstr(x2 >= 0)"
   ]
  },
  {
   "cell_type": "markdown",
   "id": "e5b390af-7df0-4a48-9ceb-e23480690e34",
   "metadata": {},
   "source": [
    "Danach folgt die Zielfunktion"
   ]
  },
  {
   "cell_type": "code",
   "execution_count": 16,
   "id": "75e65cc1-b09c-4da2-ac13-242fc1f74e7e",
   "metadata": {},
   "outputs": [],
   "source": [
    "m.setObjective(2*x1+2*x2,GRB.MAXIMIZE)"
   ]
  },
  {
   "cell_type": "markdown",
   "id": "f872b1c0-d3a1-41d4-9948-ff00b6354961",
   "metadata": {},
   "source": [
    "Nun starten wir den Solver"
   ]
  },
  {
   "cell_type": "code",
   "execution_count": 17,
   "id": "8fab892b-c83d-4856-8330-1ac949a72808",
   "metadata": {
    "tags": []
   },
   "outputs": [
    {
     "name": "stdout",
     "output_type": "stream",
     "text": [
      "Gurobi Optimizer version 9.5.1 build v9.5.1rc2 (win64)\n",
      "Thread count: 4 physical cores, 8 logical processors, using up to 8 threads\n",
      "Optimize a model with 4 rows, 2 columns and 7 nonzeros\n",
      "Model fingerprint: 0xfa36184a\n",
      "Coefficient statistics:\n",
      "  Matrix range     [1e+00, 1e+01]\n",
      "  Objective range  [2e+00, 2e+00]\n",
      "  Bounds range     [0e+00, 0e+00]\n",
      "  RHS range        [2e+01, 7e+01]\n",
      "Presolve removed 2 rows and 0 columns\n",
      "Presolve time: 0.01s\n",
      "Presolved: 2 rows, 2 columns, 4 nonzeros\n",
      "\n",
      "Iteration    Objective       Primal Inf.    Dual Inf.      Time\n",
      "       0    2.0000000e+01   8.000000e+00   0.000000e+00      0s\n",
      "       2    1.4000000e+01   0.000000e+00   0.000000e+00      0s\n",
      "\n",
      "Solved in 2 iterations and 0.02 seconds (0.00 work units)\n",
      "Optimal objective  1.400000000e+01\n"
     ]
    }
   ],
   "source": [
    "m.optimize()"
   ]
  },
  {
   "cell_type": "markdown",
   "id": "f9c3e0df-048f-4f44-a531-4b353cd8d888",
   "metadata": {},
   "source": [
    "Die Lösung können wir wie folgt auslesen:"
   ]
  },
  {
   "cell_type": "code",
   "execution_count": 20,
   "id": "017cf928-97d8-4c48-9c8a-3c92d035e770",
   "metadata": {},
   "outputs": [
    {
     "name": "stdout",
     "output_type": "stream",
     "text": [
      "x1=4.0, x2=3.0\n"
     ]
    }
   ],
   "source": [
    "print(f\"x1={x1.x}, x2={x2.x}\")"
   ]
  },
  {
   "cell_type": "markdown",
   "id": "9ff748f0-a20d-42bd-8fe3-64b8dfcfc462",
   "metadata": {},
   "source": [
    "Bei Bedarf kann man sich das Model über den Befehl display ausgeben lassen."
   ]
  },
  {
   "cell_type": "code",
   "execution_count": 19,
   "id": "dd8ef03b-6f16-441b-8ff0-3825af6f2977",
   "metadata": {},
   "outputs": [
    {
     "name": "stdout",
     "output_type": "stream",
     "text": [
      "Maximize\n",
      "  <gurobi.LinExpr: 2.0 x1 + 2.0 x2>\n",
      "Subject To\n",
      "  R0: <gurobi.LinExpr: 5.0 x1 + 10.0 x2> <= 50\n",
      "  R1: <gurobi.LinExpr: 12.0 x1 + 8.0 x2> <= 72\n",
      "  R2: <gurobi.LinExpr: 4.0 x1> <= 20\n",
      "  R3: <gurobi.LinExpr: x1 + x2> <= 30\n"
     ]
    }
   ],
   "source": [
    "m.display()"
   ]
  },
  {
   "cell_type": "code",
   "execution_count": 27,
   "id": "7bed3a1f",
   "metadata": {},
   "outputs": [
    {
     "name": "stdout",
     "output_type": "stream",
     "text": [
      "-0.9999999999999994\n"
     ]
    }
   ],
   "source": [
    "import autograd.numpy as np\n",
    "from autograd import grad\n",
    "\n",
    "def f(x):\n",
    "    return np.sin (x**2) + np.cos(x**2)\n",
    "\n",
    "x_0 = np.sqrt(np.pi)\n",
    "\n",
    "print(f(x_0))"
   ]
  },
  {
   "cell_type": "code",
   "execution_count": 29,
   "id": "d650785c",
   "metadata": {},
   "outputs": [
    {
     "data": {
      "text/plain": [
       "<function autograd.wrap_util.unary_to_nary.<locals>.nary_operator.<locals>.nary_f(*args, **kwargs)>"
      ]
     },
     "execution_count": 29,
     "metadata": {},
     "output_type": "execute_result"
    }
   ],
   "source": [
    "grad(f)"
   ]
  },
  {
   "cell_type": "code",
   "execution_count": 28,
   "id": "cc432dfb",
   "metadata": {},
   "outputs": [
    {
     "data": {
      "text/plain": [
       "-3.544907701811034"
      ]
     },
     "execution_count": 28,
     "metadata": {},
     "output_type": "execute_result"
    }
   ],
   "source": [
    "grad_f = grad(f)\n",
    "grad_f(x_0)"
   ]
  },
  {
   "cell_type": "code",
   "execution_count": 33,
   "id": "bd3729ea",
   "metadata": {},
   "outputs": [
    {
     "name": "stdout",
     "output_type": "stream",
     "text": [
      "1.0\n",
      "[ 7.  1. -1.]\n"
     ]
    }
   ],
   "source": [
    "import autograd.numpy as np\n",
    "from autograd import grad\n",
    "\n",
    "def g(x):\n",
    "    return x[0]*x[1]**2 + x[2]*(x[0]-x[1])\n",
    "\n",
    "x0 = np.array([1.,2.,3.])\n",
    "\n",
    "print(g(x0))\n",
    "\n",
    "grad_g = grad(g)\n",
    "\n",
    "print(grad_g(x0))"
   ]
  },
  {
   "cell_type": "code",
   "execution_count": 43,
   "id": "8561f9a2",
   "metadata": {},
   "outputs": [],
   "source": [
    "prng = np.random.default_rng(42)"
   ]
  },
  {
   "cell_type": "code",
   "execution_count": 66,
   "id": "d498af9d",
   "metadata": {},
   "outputs": [
    {
     "name": "stdout",
     "output_type": "stream",
     "text": [
      "Optimum: 2.5\n",
      "Umsatz: 12.5\n"
     ]
    },
    {
     "data": {
      "image/png": "[encoded data removed]",
      "text/plain": [
       "<Figure size 640x480 with 1 Axes>"
      ]
     },
     "metadata": {},
     "output_type": "display_data"
    }
   ],
   "source": [
    "import autograd.numpy as np\n",
    "from autograd import grad\n",
    "\n",
    "def umsatz_sample(p):\n",
    "    #M = prng.normal(10,2) # maximum demand\n",
    "    M = 10\n",
    "    #k = 2  # reduction of demand rate (per increase in price)\n",
    "    k = prng.normal(2,0.1)\n",
    "    def umsatz(p, M, k):\n",
    "        return p*(M-k*p)\n",
    "    \n",
    "    return umsatz(p, M, k)\n",
    "\n",
    "grad_u = grad(umsatz_sample)\n",
    "\n",
    "p = np.linspace(0,5,20)\n",
    "sns.lineplot(x=p,y=umsatz_sample(p))\n",
    "\n",
    "M = 10\n",
    "k = 2\n",
    "print(f\"Optimum: {M/(2*k)}\")\n",
    "print(f\"Umsatz: {M**2/(4*k)}\")"
   ]
  },
  {
   "cell_type": "code",
   "execution_count": 70,
   "id": "64cc9757",
   "metadata": {},
   "outputs": [
    {
     "name": "stdout",
     "output_type": "stream",
     "text": [
      "2.1200819695091866\n",
      "2.183778404323424\n",
      "2.2183052312199134\n",
      "2.26304994711797\n",
      "2.275676682841784\n",
      "2.275060746150219\n",
      "2.286796645792428\n",
      "2.2993852986257055\n",
      "2.3090271078058215\n",
      "2.313824734387206\n",
      "2.3278755999875336\n",
      "2.332975278144073\n",
      "2.3395159507259526\n",
      "2.3379254720024094\n",
      "2.3427903965768664\n",
      "2.341836247815069\n",
      "2.3485986654832494\n",
      "2.350430655033126\n",
      "2.352789243167965\n",
      "2.3577781433211866\n",
      "2.3600887875609726\n",
      "2.3600311258675797\n",
      "2.363129852809373\n",
      "2.3687429614676265\n",
      "2.370876355541426\n",
      "2.374508668208587\n",
      "2.3769699409213043\n",
      "2.3788660358196343\n",
      "2.3833351374811564\n",
      "2.3874577725082524\n",
      "2.388167404983408\n",
      "2.39034552476622\n",
      "2.395390200320351\n",
      "2.395515016955364\n",
      "2.3963362934250605\n",
      "2.398438492470227\n",
      "2.4012436635063596\n",
      "2.401226899461591\n",
      "2.401809767101864\n",
      "2.3999303907140104\n",
      "2.4004147657373314\n",
      "2.4009200306612577\n",
      "2.4020281143811877\n",
      "2.4020269867067388\n",
      "2.4022305372593946\n",
      "2.401773344744171\n",
      "2.4031421245718745\n",
      "2.4043852510502695\n",
      "2.405635962714297\n",
      "2.405629922588645\n",
      "2.4049565371609614\n",
      "2.4061120605072284\n",
      "2.4072063291786567\n",
      "2.4076136716732037\n",
      "2.4085007354237264\n",
      "2.408335365197932\n",
      "2.4108814450504195\n",
      "2.412183327449431\n",
      "2.4134184681568605\n",
      "2.4158623417201452\n",
      "2.417177348603549\n",
      "2.418425267204061\n",
      "2.419097600929064\n",
      "2.4187618743237476\n",
      "2.419444183823293\n",
      "2.42068815733349\n",
      "2.4212028158519234\n",
      "2.4209191927802793\n",
      "2.4220624778741024\n",
      "2.4231379692175765\n",
      "2.4231897437034258\n",
      "2.4237655851393787\n",
      "2.4237533487522462\n",
      "2.4241744323961028\n",
      "2.4241252474030994\n",
      "2.42518489320342\n",
      "2.4255811554497737\n",
      "2.4260938279163082\n",
      "2.4272148377664506\n",
      "2.4285274877960155\n",
      "2.428469238379271\n",
      "2.4290260413784828\n",
      "2.429966432847914\n",
      "2.4303555716410834\n",
      "2.4300382543828016\n",
      "2.4316525602257824\n",
      "2.432803423236707\n",
      "2.4336191352436085\n",
      "2.4331183856807015\n",
      "2.433262844503522\n",
      "2.4331458463889652\n",
      "2.434039598753489\n",
      "2.4349093197594165\n",
      "2.4349543044003625\n",
      "2.4351983083117403\n",
      "2.4351899220597324\n",
      "2.435551409908099\n",
      "2.435676213674775\n",
      "2.435858304348002\n",
      "2.4357359648998993\n"
     ]
    }
   ],
   "source": [
    "pk = 1.8\n",
    "alpha0 = 0.1\n",
    "for k in range(100):\n",
    "    alpha = 1/(k+1) * alpha0\n",
    "    pk = pk + alpha * grad_u(pk)\n",
    "    print(pk)\n"
   ]
  },
  {
   "cell_type": "markdown",
   "id": "807dbdb9",
   "metadata": {},
   "source": [
    "# Stromkosten Forecast für Batteriebeispiel"
   ]
  },
  {
   "cell_type": "code",
   "execution_count": 31,
   "id": "7a084dc5",
   "metadata": {},
   "outputs": [],
   "source": [
    "import pandas as pd\n",
    "import numpy as np\n",
    "\n",
    "df = pd.read_pickle(\"../4 Projekt/energy_2020_corrected.pkl\")\n",
    "\n",
    "# Extract two days (actuals)\n",
    "df_small = df[df[\"Datum (MEZ)\"].between(\"2020-05-01\",\"2020-05-03\")]\n",
    "df_small = df_small.reset_index(drop=True)\n",
    "\n",
    "# For each hour (one week): Create a one week forecast with increasing noise\n",
    "dfs = []\n",
    "for i in df.index:\n",
    "    # Get next week of data\n",
    "    df_temp = pd.DataFrame(df_small.loc[i:i+23,])\n",
    "\n",
    "    errors = np.random.randn(24)\n",
    "    factors = np.linspace(0.0, 0.1, 24)\n",
    "\n",
    "    df_temp.loc[:,\"Preis Forecast [EUR/kWh]\"] = df_temp[\"Preis [EUR/kWh]\"] + errors*factors\n",
    "    df_temp[\"tau\"] = df_small.loc[i,\"Datum (MEZ)\"]\n",
    "\n",
    "    dfs.append(df_temp)\n",
    "    if i >= 24:\n",
    "        break\n",
    "\n",
    "\n",
    "df_small_forecast = pd.concat(dfs).drop(\"Solar [kWh]\", axis=1)"
   ]
  },
  {
   "cell_type": "code",
   "execution_count": 32,
   "id": "7b520d5c",
   "metadata": {},
   "outputs": [
    {
     "data": {
      "text/html": [
       "<div>\n",
       "<style scoped>\n",
       "    .dataframe tbody tr th:only-of-type {\n",
       "        vertical-align: middle;\n",
       "    }\n",
       "\n",
       "    .dataframe tbody tr th {\n",
       "        vertical-align: top;\n",
       "    }\n",
       "\n",
       "    .dataframe thead th {\n",
       "        text-align: right;\n",
       "    }\n",
       "</style>\n",
       "<table border=\"1\" class=\"dataframe\">\n",
       "  <thead>\n",
       "    <tr style=\"text-align: right;\">\n",
       "      <th></th>\n",
       "      <th>Datum (MEZ)</th>\n",
       "      <th>Preis [EUR/kWh]</th>\n",
       "      <th>Last [kWh]</th>\n",
       "      <th>Preis Forecast [EUR/kWh]</th>\n",
       "      <th>tau</th>\n",
       "    </tr>\n",
       "  </thead>\n",
       "  <tbody>\n",
       "    <tr>\n",
       "      <th>0</th>\n",
       "      <td>2020-05-01 00:00:00+01:00</td>\n",
       "      <td>0.02675</td>\n",
       "      <td>87.8690</td>\n",
       "      <td>0.026750</td>\n",
       "      <td>2020-05-01 00:00:00+01:00</td>\n",
       "    </tr>\n",
       "    <tr>\n",
       "      <th>1</th>\n",
       "      <td>2020-05-01 01:00:00+01:00</td>\n",
       "      <td>0.01910</td>\n",
       "      <td>84.6616</td>\n",
       "      <td>0.020823</td>\n",
       "      <td>2020-05-01 00:00:00+01:00</td>\n",
       "    </tr>\n",
       "    <tr>\n",
       "      <th>2</th>\n",
       "      <td>2020-05-01 02:00:00+01:00</td>\n",
       "      <td>0.01315</td>\n",
       "      <td>83.2734</td>\n",
       "      <td>0.004483</td>\n",
       "      <td>2020-05-01 00:00:00+01:00</td>\n",
       "    </tr>\n",
       "    <tr>\n",
       "      <th>3</th>\n",
       "      <td>2020-05-01 03:00:00+01:00</td>\n",
       "      <td>0.00780</td>\n",
       "      <td>82.9602</td>\n",
       "      <td>-0.001073</td>\n",
       "      <td>2020-05-01 00:00:00+01:00</td>\n",
       "    </tr>\n",
       "    <tr>\n",
       "      <th>4</th>\n",
       "      <td>2020-05-01 04:00:00+01:00</td>\n",
       "      <td>0.01230</td>\n",
       "      <td>82.4234</td>\n",
       "      <td>0.027619</td>\n",
       "      <td>2020-05-01 00:00:00+01:00</td>\n",
       "    </tr>\n",
       "    <tr>\n",
       "      <th>...</th>\n",
       "      <td>...</td>\n",
       "      <td>...</td>\n",
       "      <td>...</td>\n",
       "      <td>...</td>\n",
       "      <td>...</td>\n",
       "    </tr>\n",
       "    <tr>\n",
       "      <th>21</th>\n",
       "      <td>2020-05-01 21:00:00+01:00</td>\n",
       "      <td>0.10455</td>\n",
       "      <td>97.6116</td>\n",
       "      <td>0.058989</td>\n",
       "      <td>2020-05-01 02:00:00+01:00</td>\n",
       "    </tr>\n",
       "    <tr>\n",
       "      <th>22</th>\n",
       "      <td>2020-05-01 22:00:00+01:00</td>\n",
       "      <td>0.08000</td>\n",
       "      <td>90.3670</td>\n",
       "      <td>-0.000132</td>\n",
       "      <td>2020-05-01 02:00:00+01:00</td>\n",
       "    </tr>\n",
       "    <tr>\n",
       "      <th>23</th>\n",
       "      <td>2020-05-01 23:00:00+01:00</td>\n",
       "      <td>0.06100</td>\n",
       "      <td>82.9468</td>\n",
       "      <td>0.190867</td>\n",
       "      <td>2020-05-01 02:00:00+01:00</td>\n",
       "    </tr>\n",
       "    <tr>\n",
       "      <th>24</th>\n",
       "      <td>2020-05-02 00:00:00+01:00</td>\n",
       "      <td>0.05000</td>\n",
       "      <td>79.2734</td>\n",
       "      <td>0.048916</td>\n",
       "      <td>2020-05-01 02:00:00+01:00</td>\n",
       "    </tr>\n",
       "    <tr>\n",
       "      <th>25</th>\n",
       "      <td>2020-05-02 01:00:00+01:00</td>\n",
       "      <td>0.05000</td>\n",
       "      <td>77.1338</td>\n",
       "      <td>0.075897</td>\n",
       "      <td>2020-05-01 02:00:00+01:00</td>\n",
       "    </tr>\n",
       "  </tbody>\n",
       "</table>\n",
       "<p>72 rows × 5 columns</p>\n",
       "</div>"
      ],
      "text/plain": [
       "                 Datum (MEZ)  Preis [EUR/kWh]  Last [kWh]  \\\n",
       "0  2020-05-01 00:00:00+01:00          0.02675     87.8690   \n",
       "1  2020-05-01 01:00:00+01:00          0.01910     84.6616   \n",
       "2  2020-05-01 02:00:00+01:00          0.01315     83.2734   \n",
       "3  2020-05-01 03:00:00+01:00          0.00780     82.9602   \n",
       "4  2020-05-01 04:00:00+01:00          0.01230     82.4234   \n",
       "..                       ...              ...         ...   \n",
       "21 2020-05-01 21:00:00+01:00          0.10455     97.6116   \n",
       "22 2020-05-01 22:00:00+01:00          0.08000     90.3670   \n",
       "23 2020-05-01 23:00:00+01:00          0.06100     82.9468   \n",
       "24 2020-05-02 00:00:00+01:00          0.05000     79.2734   \n",
       "25 2020-05-02 01:00:00+01:00          0.05000     77.1338   \n",
       "\n",
       "    Preis Forecast [EUR/kWh]                       tau  \n",
       "0                   0.026750 2020-05-01 00:00:00+01:00  \n",
       "1                   0.020823 2020-05-01 00:00:00+01:00  \n",
       "2                   0.004483 2020-05-01 00:00:00+01:00  \n",
       "3                  -0.001073 2020-05-01 00:00:00+01:00  \n",
       "4                   0.027619 2020-05-01 00:00:00+01:00  \n",
       "..                       ...                       ...  \n",
       "21                  0.058989 2020-05-01 02:00:00+01:00  \n",
       "22                 -0.000132 2020-05-01 02:00:00+01:00  \n",
       "23                  0.190867 2020-05-01 02:00:00+01:00  \n",
       "24                  0.048916 2020-05-01 02:00:00+01:00  \n",
       "25                  0.075897 2020-05-01 02:00:00+01:00  \n",
       "\n",
       "[72 rows x 5 columns]"
      ]
     },
     "execution_count": 32,
     "metadata": {},
     "output_type": "execute_result"
    }
   ],
   "source": [
    "tmp = df_small_forecast[df_small_forecast.tau < \"2020-05-01 03:00:00\"]\n",
    "tmp"
   ]
  },
  {
   "cell_type": "code",
   "execution_count": 33,
   "id": "ac760589",
   "metadata": {},
   "outputs": [
    {
     "data": {
      "application/vnd.plotly.v1+json": {
       "config": {
        "plotlyServerURL": "https://plot.ly"
       },
       "data": [
        {
         "hovertemplate": "tau=2020-05-01 00:00:00+01:00<br>Datum (MEZ)=%{x}<br>Preis Forecast [EUR/kWh]=%{y}<extra></extra>",
         "legendgroup": "",
         "line": {
          "color": "#636efa",
          "dash": "solid"
         },
         "marker": {
          "symbol": "circle"
         },
         "mode": "lines",
         "name": "",
         "orientation": "v",
         "showlegend": false,
         "type": "scatter",
         "x": [
          "2020-05-01T00:00:00+01:00",
          "2020-05-01T01:00:00+01:00",
          "2020-05-01T02:00:00+01:00",
          "2020-05-01T03:00:00+01:00",
          "2020-05-01T04:00:00+01:00",
          "2020-05-01T05:00:00+01:00",
          "2020-05-01T06:00:00+01:00",
          "2020-05-01T07:00:00+01:00",
          "2020-05-01T08:00:00+01:00",
          "2020-05-01T09:00:00+01:00",
          "2020-05-01T10:00:00+01:00",
          "2020-05-01T11:00:00+01:00",
          "2020-05-01T12:00:00+01:00",
          "2020-05-01T13:00:00+01:00",
          "2020-05-01T14:00:00+01:00",
          "2020-05-01T15:00:00+01:00",
          "2020-05-01T16:00:00+01:00",
          "2020-05-01T17:00:00+01:00",
          "2020-05-01T18:00:00+01:00",
          "2020-05-01T19:00:00+01:00",
          "2020-05-01T20:00:00+01:00",
          "2020-05-01T21:00:00+01:00",
          "2020-05-01T22:00:00+01:00",
          "2020-05-01T23:00:00+01:00"
         ],
         "xaxis": "x3",
         "y": [
          0.02675,
          0.020823337292685925,
          0.004483336695401354,
          -0.0010727075162447683,
          0.027619490955782512,
          -0.0014842647161702489,
          0.018220137739220404,
          0.004905070120390325,
          -0.022397610091850984,
          -0.04523105585220463,
          0.004644314044144461,
          -0.002168656239648751,
          -0.03488481838261816,
          0.0055187429218863035,
          -0.05964889712889102,
          -0.0019908669021989553,
          0.07087037745000198,
          0.1032457906130883,
          0.1851889874512233,
          0.27634385827540087,
          0.007243232443806119,
          0.2417391179860526,
          0.054946905881097546,
          0.05561173987041792
         ],
         "yaxis": "y3"
        },
        {
         "hovertemplate": "tau=2020-05-01 01:00:00+01:00<br>Datum (MEZ)=%{x}<br>Preis Forecast [EUR/kWh]=%{y}<extra></extra>",
         "legendgroup": "",
         "line": {
          "color": "#636efa",
          "dash": "solid"
         },
         "marker": {
          "symbol": "circle"
         },
         "mode": "lines",
         "name": "",
         "orientation": "v",
         "showlegend": false,
         "type": "scatter",
         "x": [
          "2020-05-01T01:00:00+01:00",
          "2020-05-01T02:00:00+01:00",
          "2020-05-01T03:00:00+01:00",
          "2020-05-01T04:00:00+01:00",
          "2020-05-01T05:00:00+01:00",
          "2020-05-01T06:00:00+01:00",
          "2020-05-01T07:00:00+01:00",
          "2020-05-01T08:00:00+01:00",
          "2020-05-01T09:00:00+01:00",
          "2020-05-01T10:00:00+01:00",
          "2020-05-01T11:00:00+01:00",
          "2020-05-01T12:00:00+01:00",
          "2020-05-01T13:00:00+01:00",
          "2020-05-01T14:00:00+01:00",
          "2020-05-01T15:00:00+01:00",
          "2020-05-01T16:00:00+01:00",
          "2020-05-01T17:00:00+01:00",
          "2020-05-01T18:00:00+01:00",
          "2020-05-01T19:00:00+01:00",
          "2020-05-01T20:00:00+01:00",
          "2020-05-01T21:00:00+01:00",
          "2020-05-01T22:00:00+01:00",
          "2020-05-01T23:00:00+01:00",
          "2020-05-02T00:00:00+01:00"
         ],
         "xaxis": "x2",
         "y": [
          0.0191,
          0.008137482675731153,
          0.001240251099941513,
          0.015751894799726166,
          -0.003842891855720317,
          0.00043195802968266656,
          0.023582719510293722,
          -0.05238119622420574,
          -0.034999367546099405,
          0.04800267817478639,
          -0.01685155288971708,
          -0.00031453828639543477,
          -0.0270167075192157,
          0.08436502663977594,
          0.1363413514823833,
          -0.0950223871839117,
          0.1273170796409397,
          0.07103935717907331,
          0.010098841106201711,
          0.08147477256833582,
          0.04532686704250629,
          0.021722932178718672,
          0.24617885230016062,
          -0.11624708405392252
         ],
         "yaxis": "y2"
        },
        {
         "hovertemplate": "tau=2020-05-01 02:00:00+01:00<br>Datum (MEZ)=%{x}<br>Preis Forecast [EUR/kWh]=%{y}<extra></extra>",
         "legendgroup": "",
         "line": {
          "color": "#636efa",
          "dash": "solid"
         },
         "marker": {
          "symbol": "circle"
         },
         "mode": "lines",
         "name": "",
         "orientation": "v",
         "showlegend": false,
         "type": "scatter",
         "x": [
          "2020-05-01T02:00:00+01:00",
          "2020-05-01T03:00:00+01:00",
          "2020-05-01T04:00:00+01:00",
          "2020-05-01T05:00:00+01:00",
          "2020-05-01T06:00:00+01:00",
          "2020-05-01T07:00:00+01:00",
          "2020-05-01T08:00:00+01:00",
          "2020-05-01T09:00:00+01:00",
          "2020-05-01T10:00:00+01:00",
          "2020-05-01T11:00:00+01:00",
          "2020-05-01T12:00:00+01:00",
          "2020-05-01T13:00:00+01:00",
          "2020-05-01T14:00:00+01:00",
          "2020-05-01T15:00:00+01:00",
          "2020-05-01T16:00:00+01:00",
          "2020-05-01T17:00:00+01:00",
          "2020-05-01T18:00:00+01:00",
          "2020-05-01T19:00:00+01:00",
          "2020-05-01T20:00:00+01:00",
          "2020-05-01T21:00:00+01:00",
          "2020-05-01T22:00:00+01:00",
          "2020-05-01T23:00:00+01:00",
          "2020-05-02T00:00:00+01:00",
          "2020-05-02T01:00:00+01:00"
         ],
         "xaxis": "x",
         "y": [
          0.01315,
          0.012586299908848696,
          0.018437240184307757,
          0.031456757142689876,
          0.012784751958337087,
          -0.012226153925445318,
          0.04504861078911389,
          -0.0222583057584861,
          0.009973947009749613,
          -0.0023607199120504324,
          -0.01000897346824779,
          -0.04701596153546721,
          -0.05284721791940569,
          -0.04513469132712687,
          0.014577675018463035,
          0.15284012655441664,
          0.02513954254256323,
          0.17081819441782345,
          0.14512331122151975,
          0.05898910572817219,
          -0.00013237565193598144,
          0.1908667026488774,
          0.04891593905788622,
          0.0758973275873019
         ],
         "yaxis": "y"
        }
       ],
       "layout": {
        "annotations": [
         {
          "font": {},
          "showarrow": false,
          "text": "tau=2020-05-01 02:00:00+01:00",
          "x": 0.5,
          "xanchor": "center",
          "xref": "paper",
          "y": 0.2866666666666666,
          "yanchor": "bottom",
          "yref": "paper"
         },
         {
          "font": {},
          "showarrow": false,
          "text": "tau=2020-05-01 01:00:00+01:00",
          "x": 0.5,
          "xanchor": "center",
          "xref": "paper",
          "y": 0.6433333333333333,
          "yanchor": "bottom",
          "yref": "paper"
         },
         {
          "font": {},
          "showarrow": false,
          "text": "tau=2020-05-01 00:00:00+01:00",
          "x": 0.5,
          "xanchor": "center",
          "xref": "paper",
          "y": 0.9999999999999999,
          "yanchor": "bottom",
          "yref": "paper"
         }
        ],
        "height": 400,
        "legend": {
         "tracegroupgap": 0
        },
        "margin": {
         "t": 60
        },
        "template": {
         "data": {
          "bar": [
           {
            "error_x": {
             "color": "#2a3f5f"
            },
            "error_y": {
             "color": "#2a3f5f"
            },
            "marker": {
             "line": {
              "color": "#E5ECF6",
              "width": 0.5
             },
             "pattern": {
              "fillmode": "overlay",
              "size": 10,
              "solidity": 0.2
             }
            },
            "type": "bar"
           }
          ],
          "barpolar": [
           {
            "marker": {
             "line": {
              "color": "#E5ECF6",
              "width": 0.5
             },
             "pattern": {
              "fillmode": "overlay",
              "size": 10,
              "solidity": 0.2
             }
            },
            "type": "barpolar"
           }
          ],
          "carpet": [
           {
            "aaxis": {
             "endlinecolor": "#2a3f5f",
             "gridcolor": "white",
             "linecolor": "white",
             "minorgridcolor": "white",
             "startlinecolor": "#2a3f5f"
            },
            "baxis": {
             "endlinecolor": "#2a3f5f",
             "gridcolor": "white",
             "linecolor": "white",
             "minorgridcolor": "white",
             "startlinecolor": "#2a3f5f"
            },
            "type": "carpet"
           }
          ],
          "choropleth": [
           {
            "colorbar": {
             "outlinewidth": 0,
             "ticks": ""
            },
            "type": "choropleth"
           }
          ],
          "contour": [
           {
            "colorbar": {
             "outlinewidth": 0,
             "ticks": ""
            },
            "colorscale": [
             [
              0,
              "#0d0887"
             ],
             [
              0.1111111111111111,
              "#46039f"
             ],
             [
              0.2222222222222222,
              "#7201a8"
             ],
             [
              0.3333333333333333,
              "#9c179e"
             ],
             [
              0.4444444444444444,
              "#bd3786"
             ],
             [
              0.5555555555555556,
              "#d8576b"
             ],
             [
              0.6666666666666666,
              "#ed7953"
             ],
             [
              0.7777777777777778,
              "#fb9f3a"
             ],
             [
              0.8888888888888888,
              "#fdca26"
             ],
             [
              1,
              "#f0f921"
             ]
            ],
            "type": "contour"
           }
          ],
          "contourcarpet": [
           {
            "colorbar": {
             "outlinewidth": 0,
             "ticks": ""
            },
            "type": "contourcarpet"
           }
          ],
          "heatmap": [
           {
            "colorbar": {
             "outlinewidth": 0,
             "ticks": ""
            },
            "colorscale": [
             [
              0,
              "#0d0887"
             ],
             [
              0.1111111111111111,
              "#46039f"
             ],
             [
              0.2222222222222222,
              "#7201a8"
             ],
             [
              0.3333333333333333,
              "#9c179e"
             ],
             [
              0.4444444444444444,
              "#bd3786"
             ],
             [
              0.5555555555555556,
              "#d8576b"
             ],
             [
              0.6666666666666666,
              "#ed7953"
             ],
             [
              0.7777777777777778,
              "#fb9f3a"
             ],
             [
              0.8888888888888888,
              "#fdca26"
             ],
             [
              1,
              "#f0f921"
             ]
            ],
            "type": "heatmap"
           }
          ],
          "heatmapgl": [
           {
            "colorbar": {
             "outlinewidth": 0,
             "ticks": ""
            },
            "colorscale": [
             [
              0,
              "#0d0887"
             ],
             [
              0.1111111111111111,
              "#46039f"
             ],
             [
              0.2222222222222222,
              "#7201a8"
             ],
             [
              0.3333333333333333,
              "#9c179e"
             ],
             [
              0.4444444444444444,
              "#bd3786"
             ],
             [
              0.5555555555555556,
              "#d8576b"
             ],
             [
              0.6666666666666666,
              "#ed7953"
             ],
             [
              0.7777777777777778,
              "#fb9f3a"
             ],
             [
              0.8888888888888888,
              "#fdca26"
             ],
             [
              1,
              "#f0f921"
             ]
            ],
            "type": "heatmapgl"
           }
          ],
          "histogram": [
           {
            "marker": {
             "pattern": {
              "fillmode": "overlay",
              "size": 10,
              "solidity": 0.2
             }
            },
            "type": "histogram"
           }
          ],
          "histogram2d": [
           {
            "colorbar": {
             "outlinewidth": 0,
             "ticks": ""
            },
            "colorscale": [
             [
              0,
              "#0d0887"
             ],
             [
              0.1111111111111111,
              "#46039f"
             ],
             [
              0.2222222222222222,
              "#7201a8"
             ],
             [
              0.3333333333333333,
              "#9c179e"
             ],
             [
              0.4444444444444444,
              "#bd3786"
             ],
             [
              0.5555555555555556,
              "#d8576b"
             ],
             [
              0.6666666666666666,
              "#ed7953"
             ],
             [
              0.7777777777777778,
              "#fb9f3a"
             ],
             [
              0.8888888888888888,
              "#fdca26"
             ],
             [
              1,
              "#f0f921"
             ]
            ],
            "type": "histogram2d"
           }
          ],
          "histogram2dcontour": [
           {
            "colorbar": {
             "outlinewidth": 0,
             "ticks": ""
            },
            "colorscale": [
             [
              0,
              "#0d0887"
             ],
             [
              0.1111111111111111,
              "#46039f"
             ],
             [
              0.2222222222222222,
              "#7201a8"
             ],
             [
              0.3333333333333333,
              "#9c179e"
             ],
             [
              0.4444444444444444,
              "#bd3786"
             ],
             [
              0.5555555555555556,
              "#d8576b"
             ],
             [
              0.6666666666666666,
              "#ed7953"
             ],
             [
              0.7777777777777778,
              "#fb9f3a"
             ],
             [
              0.8888888888888888,
              "#fdca26"
             ],
             [
              1,
              "#f0f921"
             ]
            ],
            "type": "histogram2dcontour"
           }
          ],
          "mesh3d": [
           {
            "colorbar": {
             "outlinewidth": 0,
             "ticks": ""
            },
            "type": "mesh3d"
           }
          ],
          "parcoords": [
           {
            "line": {
             "colorbar": {
              "outlinewidth": 0,
              "ticks": ""
             }
            },
            "type": "parcoords"
           }
          ],
          "pie": [
           {
            "automargin": true,
            "type": "pie"
           }
          ],
          "scatter": [
           {
            "fillpattern": {
             "fillmode": "overlay",
             "size": 10,
             "solidity": 0.2
            },
            "type": "scatter"
           }
          ],
          "scatter3d": [
           {
            "line": {
             "colorbar": {
              "outlinewidth": 0,
              "ticks": ""
             }
            },
            "marker": {
             "colorbar": {
              "outlinewidth": 0,
              "ticks": ""
             }
            },
            "type": "scatter3d"
           }
          ],
          "scattercarpet": [
           {
            "marker": {
             "colorbar": {
              "outlinewidth": 0,
              "ticks": ""
             }
            },
            "type": "scattercarpet"
           }
          ],
          "scattergeo": [
           {
            "marker": {
             "colorbar": {
              "outlinewidth": 0,
              "ticks": ""
             }
            },
            "type": "scattergeo"
           }
          ],
          "scattergl": [
           {
            "marker": {
             "colorbar": {
              "outlinewidth": 0,
              "ticks": ""
             }
            },
            "type": "scattergl"
           }
          ],
          "scattermapbox": [
           {
            "marker": {
             "colorbar": {
              "outlinewidth": 0,
              "ticks": ""
             }
            },
            "type": "scattermapbox"
           }
          ],
          "scatterpolar": [
           {
            "marker": {
             "colorbar": {
              "outlinewidth": 0,
              "ticks": ""
             }
            },
            "type": "scatterpolar"
           }
          ],
          "scatterpolargl": [
           {
            "marker": {
             "colorbar": {
              "outlinewidth": 0,
              "ticks": ""
             }
            },
            "type": "scatterpolargl"
           }
          ],
          "scatterternary": [
           {
            "marker": {
             "colorbar": {
              "outlinewidth": 0,
              "ticks": ""
             }
            },
            "type": "scatterternary"
           }
          ],
          "surface": [
           {
            "colorbar": {
             "outlinewidth": 0,
             "ticks": ""
            },
            "colorscale": [
             [
              0,
              "#0d0887"
             ],
             [
              0.1111111111111111,
              "#46039f"
             ],
             [
              0.2222222222222222,
              "#7201a8"
             ],
             [
              0.3333333333333333,
              "#9c179e"
             ],
             [
              0.4444444444444444,
              "#bd3786"
             ],
             [
              0.5555555555555556,
              "#d8576b"
             ],
             [
              0.6666666666666666,
              "#ed7953"
             ],
             [
              0.7777777777777778,
              "#fb9f3a"
             ],
             [
              0.8888888888888888,
              "#fdca26"
             ],
             [
              1,
              "#f0f921"
             ]
            ],
            "type": "surface"
           }
          ],
          "table": [
           {
            "cells": {
             "fill": {
              "color": "#EBF0F8"
             },
             "line": {
              "color": "white"
             }
            },
            "header": {
             "fill": {
              "color": "#C8D4E3"
             },
             "line": {
              "color": "white"
             }
            },
            "type": "table"
           }
          ]
         },
         "layout": {
          "annotationdefaults": {
           "arrowcolor": "#2a3f5f",
           "arrowhead": 0,
           "arrowwidth": 1
          },
          "autotypenumbers": "strict",
          "coloraxis": {
           "colorbar": {
            "outlinewidth": 0,
            "ticks": ""
           }
          },
          "colorscale": {
           "diverging": [
            [
             0,
             "#8e0152"
            ],
            [
             0.1,
             "#c51b7d"
            ],
            [
             0.2,
             "#de77ae"
            ],
            [
             0.3,
             "#f1b6da"
            ],
            [
             0.4,
             "#fde0ef"
            ],
            [
             0.5,
             "#f7f7f7"
            ],
            [
             0.6,
             "#e6f5d0"
            ],
            [
             0.7,
             "#b8e186"
            ],
            [
             0.8,
             "#7fbc41"
            ],
            [
             0.9,
             "#4d9221"
            ],
            [
             1,
             "#276419"
            ]
           ],
           "sequential": [
            [
             0,
             "#0d0887"
            ],
            [
             0.1111111111111111,
             "#46039f"
            ],
            [
             0.2222222222222222,
             "#7201a8"
            ],
            [
             0.3333333333333333,
             "#9c179e"
            ],
            [
             0.4444444444444444,
             "#bd3786"
            ],
            [
             0.5555555555555556,
             "#d8576b"
            ],
            [
             0.6666666666666666,
             "#ed7953"
            ],
            [
             0.7777777777777778,
             "#fb9f3a"
            ],
            [
             0.8888888888888888,
             "#fdca26"
            ],
            [
             1,
             "#f0f921"
            ]
           ],
           "sequentialminus": [
            [
             0,
             "#0d0887"
            ],
            [
             0.1111111111111111,
             "#46039f"
            ],
            [
             0.2222222222222222,
             "#7201a8"
            ],
            [
             0.3333333333333333,
             "#9c179e"
            ],
            [
             0.4444444444444444,
             "#bd3786"
            ],
            [
             0.5555555555555556,
             "#d8576b"
            ],
            [
             0.6666666666666666,
             "#ed7953"
            ],
            [
             0.7777777777777778,
             "#fb9f3a"
            ],
            [
             0.8888888888888888,
             "#fdca26"
            ],
            [
             1,
             "#f0f921"
            ]
           ]
          },
          "colorway": [
           "#636efa",
           "#EF553B",
           "#00cc96",
           "#ab63fa",
           "#FFA15A",
           "#19d3f3",
           "#FF6692",
           "#B6E880",
           "#FF97FF",
           "#FECB52"
          ],
          "font": {
           "color": "#2a3f5f"
          },
          "geo": {
           "bgcolor": "white",
           "lakecolor": "white",
           "landcolor": "#E5ECF6",
           "showlakes": true,
           "showland": true,
           "subunitcolor": "white"
          },
          "hoverlabel": {
           "align": "left"
          },
          "hovermode": "closest",
          "mapbox": {
           "style": "light"
          },
          "paper_bgcolor": "white",
          "plot_bgcolor": "#E5ECF6",
          "polar": {
           "angularaxis": {
            "gridcolor": "white",
            "linecolor": "white",
            "ticks": ""
           },
           "bgcolor": "#E5ECF6",
           "radialaxis": {
            "gridcolor": "white",
            "linecolor": "white",
            "ticks": ""
           }
          },
          "scene": {
           "xaxis": {
            "backgroundcolor": "#E5ECF6",
            "gridcolor": "white",
            "gridwidth": 2,
            "linecolor": "white",
            "showbackground": true,
            "ticks": "",
            "zerolinecolor": "white"
           },
           "yaxis": {
            "backgroundcolor": "#E5ECF6",
            "gridcolor": "white",
            "gridwidth": 2,
            "linecolor": "white",
            "showbackground": true,
            "ticks": "",
            "zerolinecolor": "white"
           },
           "zaxis": {
            "backgroundcolor": "#E5ECF6",
            "gridcolor": "white",
            "gridwidth": 2,
            "linecolor": "white",
            "showbackground": true,
            "ticks": "",
            "zerolinecolor": "white"
           }
          },
          "shapedefaults": {
           "line": {
            "color": "#2a3f5f"
           }
          },
          "ternary": {
           "aaxis": {
            "gridcolor": "white",
            "linecolor": "white",
            "ticks": ""
           },
           "baxis": {
            "gridcolor": "white",
            "linecolor": "white",
            "ticks": ""
           },
           "bgcolor": "#E5ECF6",
           "caxis": {
            "gridcolor": "white",
            "linecolor": "white",
            "ticks": ""
           }
          },
          "title": {
           "x": 0.05
          },
          "xaxis": {
           "automargin": true,
           "gridcolor": "white",
           "linecolor": "white",
           "ticks": "",
           "title": {
            "standoff": 15
           },
           "zerolinecolor": "white",
           "zerolinewidth": 2
          },
          "yaxis": {
           "automargin": true,
           "gridcolor": "white",
           "linecolor": "white",
           "ticks": "",
           "title": {
            "standoff": 15
           },
           "zerolinecolor": "white",
           "zerolinewidth": 2
          }
         }
        },
        "width": 700,
        "xaxis": {
         "anchor": "y",
         "domain": [
          0,
          1
         ],
         "title": {
          "text": "Datum (MEZ)"
         }
        },
        "xaxis2": {
         "anchor": "y2",
         "domain": [
          0,
          1
         ],
         "matches": "x",
         "showticklabels": false
        },
        "xaxis3": {
         "anchor": "y3",
         "domain": [
          0,
          1
         ],
         "matches": "x",
         "showticklabels": false
        },
        "yaxis": {
         "anchor": "x",
         "domain": [
          0,
          0.2866666666666666
         ],
         "title": {
          "text": "Preis Forecast [EUR/kWh]"
         }
        },
        "yaxis2": {
         "anchor": "x2",
         "domain": [
          0.35666666666666663,
          0.6433333333333333
         ],
         "matches": "y",
         "title": {
          "text": "Preis Forecast [EUR/kWh]"
         }
        },
        "yaxis3": {
         "anchor": "x3",
         "domain": [
          0.7133333333333333,
          0.9999999999999999
         ],
         "matches": "y",
         "title": {
          "text": "Preis Forecast [EUR/kWh]"
         }
        }
       }
      }
     },
     "metadata": {},
     "output_type": "display_data"
    }
   ],
   "source": [
    "import plotly.express as px\n",
    "\n",
    "px.line(data_frame=tmp, x=\"Datum (MEZ)\", y=\"Preis Forecast [EUR/kWh]\", facet_col=\"tau\", facet_col_wrap=1, width=700, height=400)"
   ]
  },
  {
   "cell_type": "code",
   "execution_count": null,
   "id": "a2b2387a",
   "metadata": {},
   "outputs": [],
   "source": []
  }
 ],
 "metadata": {
  "kernelspec": {
   "display_name": "Python 3 (ipykernel)",
   "language": "python",
   "name": "python3"
  },
  "language_info": {
   "codemirror_mode": {
    "name": "ipython",
    "version": 3
   },
   "file_extension": ".py",
   "mimetype": "text/x-python",
   "name": "python",
   "nbconvert_exporter": "python",
   "pygments_lexer": "ipython3",
   "version": "3.10.12"
  }
 },
 "nbformat": 4,
 "nbformat_minor": 5
}
