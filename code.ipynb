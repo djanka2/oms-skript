{
 "cells": [
  {
   "cell_type": "markdown",
   "id": "b829beb5-77c6-4659-a09c-f54ccf328ffd",
   "metadata": {},
   "source": [
    "### Formulierung und Lösung des Produktionsoptimierungsbeispiel mit Gurobi"
   ]
  },
  {
   "cell_type": "code",
   "execution_count": 12,
   "id": "2976f340-f7dc-49c7-a84a-88cf359a7f1f",
   "metadata": {
    "tags": []
   },
   "outputs": [],
   "source": [
    "from gurobipy import *\n",
    "import numpy as np"
   ]
  },
  {
   "cell_type": "markdown",
   "id": "b7f8765e-7e13-4078-81f7-ace9c55ef46a",
   "metadata": {},
   "source": [
    "Formulierung in mathematischer Form\n",
    "\n",
    "\\begin{alignat}{5}\n",
    "\\max_{x_1, x_2} & \\quad  &   2x_1+2x_2 & & & \\\\[2mm]\n",
    "\\text{s.t. } & &  5x_1+10x_2&\\leq 50\\\\\n",
    "             & &  12x_1+8x_2&\\leq 72\\\\\n",
    "             & &  4x_1+0x_2&\\leq 20\\\\\n",
    "             & &  x_1+x_2&\\leq 30\\\\\n",
    "             & & x_1, x_2 &\\geq 0\n",
    "\\end{alignat}\n",
    "\n"
   ]
  },
  {
   "cell_type": "markdown",
   "id": "92e0c865-02af-491a-9129-1a2cb0d31c5d",
   "metadata": {},
   "source": [
    "Zuerst erzeugen wir ein leeres Modell:"
   ]
  },
  {
   "cell_type": "code",
   "execution_count": 13,
   "id": "b956733b-3ac8-4620-b825-26874dc2f3ea",
   "metadata": {},
   "outputs": [],
   "source": [
    "m = Model(\"Production Optimization\")"
   ]
  },
  {
   "cell_type": "markdown",
   "id": "9fc550d3-01f4-4db1-aa76-b71007798d42",
   "metadata": {},
   "source": [
    "Danach können wir einzelne Variablen anlegen. Als Parameter geben wir an\n",
    "* Den Namen mit \"name=\"\n",
    "* Den Variablentyp mit \"vtype=\". Es gibt folgende Möglichkeiten\n",
    "  * GRB.CONTINUOUS \n",
    "  * GRB.BINARY\n",
    "  * GRB.INTEGER\n",
    "* Die untere Schranke für die Variable mit \"lb=\". Falls nichts angegeben wird, ist die Variable automatisch nichtnegativ. Falls die Variable nach unten unbeschränkt sein soll, können wir \"lb=-np.infty\" spezifizieren."
   ]
  },
  {
   "cell_type": "code",
   "execution_count": 14,
   "id": "28f80b9e-edb2-4517-b6a2-88922c0c3e7c",
   "metadata": {
    "tags": []
   },
   "outputs": [],
   "source": [
    "x1 = m.addVar(name=\"x1\", vtype=GRB.CONTINUOUS, lb=0)\n",
    "x2 = m.addVar(name=\"x2\", vtype=GRB.CONTINUOUS, lb=0)"
   ]
  },
  {
   "cell_type": "markdown",
   "id": "3fc6c812-fb1a-482d-816e-61e5b09723b7",
   "metadata": {},
   "source": [
    "Einzelne Nebenbedinungen können wir dann direkt mit dem Befehl addConstr angeben."
   ]
  },
  {
   "cell_type": "code",
   "execution_count": 15,
   "id": "2d873ae8-9329-4252-a525-52c0e329b39f",
   "metadata": {},
   "outputs": [
    {
     "data": {
      "text/plain": [
       "<gurobi.Constr *Awaiting Model Update*>"
      ]
     },
     "execution_count": 15,
     "metadata": {},
     "output_type": "execute_result"
    }
   ],
   "source": [
    "m.addConstr(5*x1+10*x2 <= 50)\n",
    "m.addConstr(12*x1+8*x2 <= 72)\n",
    "m.addConstr(4*x1 <= 20)\n",
    "m.addConstr(x1+x2 <= 30)\n",
    "#m.addConstr(x1 >= 0) # nicht nötig, da bereits über den Parameter lb=0 beim Anlegen der Variable spezifiziert\n",
    "#m.addConstr(x2 >= 0)"
   ]
  },
  {
   "cell_type": "markdown",
   "id": "e5b390af-7df0-4a48-9ceb-e23480690e34",
   "metadata": {},
   "source": [
    "Danach folgt die Zielfunktion"
   ]
  },
  {
   "cell_type": "code",
   "execution_count": 16,
   "id": "75e65cc1-b09c-4da2-ac13-242fc1f74e7e",
   "metadata": {},
   "outputs": [],
   "source": [
    "m.setObjective(2*x1+2*x2,GRB.MAXIMIZE)"
   ]
  },
  {
   "cell_type": "markdown",
   "id": "f872b1c0-d3a1-41d4-9948-ff00b6354961",
   "metadata": {},
   "source": [
    "Nun starten wir den Solver"
   ]
  },
  {
   "cell_type": "code",
   "execution_count": 17,
   "id": "8fab892b-c83d-4856-8330-1ac949a72808",
   "metadata": {
    "tags": []
   },
   "outputs": [
    {
     "name": "stdout",
     "output_type": "stream",
     "text": [
      "Gurobi Optimizer version 9.5.1 build v9.5.1rc2 (win64)\n",
      "Thread count: 4 physical cores, 8 logical processors, using up to 8 threads\n",
      "Optimize a model with 4 rows, 2 columns and 7 nonzeros\n",
      "Model fingerprint: 0xfa36184a\n",
      "Coefficient statistics:\n",
      "  Matrix range     [1e+00, 1e+01]\n",
      "  Objective range  [2e+00, 2e+00]\n",
      "  Bounds range     [0e+00, 0e+00]\n",
      "  RHS range        [2e+01, 7e+01]\n",
      "Presolve removed 2 rows and 0 columns\n",
      "Presolve time: 0.01s\n",
      "Presolved: 2 rows, 2 columns, 4 nonzeros\n",
      "\n",
      "Iteration    Objective       Primal Inf.    Dual Inf.      Time\n",
      "       0    2.0000000e+01   8.000000e+00   0.000000e+00      0s\n",
      "       2    1.4000000e+01   0.000000e+00   0.000000e+00      0s\n",
      "\n",
      "Solved in 2 iterations and 0.02 seconds (0.00 work units)\n",
      "Optimal objective  1.400000000e+01\n"
     ]
    }
   ],
   "source": [
    "m.optimize()"
   ]
  },
  {
   "cell_type": "markdown",
   "id": "f9c3e0df-048f-4f44-a531-4b353cd8d888",
   "metadata": {},
   "source": [
    "Die Lösung können wir wie folgt auslesen:"
   ]
  },
  {
   "cell_type": "code",
   "execution_count": 20,
   "id": "017cf928-97d8-4c48-9c8a-3c92d035e770",
   "metadata": {},
   "outputs": [
    {
     "name": "stdout",
     "output_type": "stream",
     "text": [
      "x1=4.0, x2=3.0\n"
     ]
    }
   ],
   "source": [
    "print(f\"x1={x1.x}, x2={x2.x}\")"
   ]
  },
  {
   "cell_type": "markdown",
   "id": "9ff748f0-a20d-42bd-8fe3-64b8dfcfc462",
   "metadata": {},
   "source": [
    "Bei Bedarf kann man sich das Model über den Befehl display ausgeben lassen."
   ]
  },
  {
   "cell_type": "code",
   "execution_count": 19,
   "id": "dd8ef03b-6f16-441b-8ff0-3825af6f2977",
   "metadata": {},
   "outputs": [
    {
     "name": "stdout",
     "output_type": "stream",
     "text": [
      "Maximize\n",
      "  <gurobi.LinExpr: 2.0 x1 + 2.0 x2>\n",
      "Subject To\n",
      "  R0: <gurobi.LinExpr: 5.0 x1 + 10.0 x2> <= 50\n",
      "  R1: <gurobi.LinExpr: 12.0 x1 + 8.0 x2> <= 72\n",
      "  R2: <gurobi.LinExpr: 4.0 x1> <= 20\n",
      "  R3: <gurobi.LinExpr: x1 + x2> <= 30\n"
     ]
    }
   ],
   "source": [
    "m.display()"
   ]
  },
  {
   "cell_type": "code",
   "execution_count": null,
   "id": "eb65efe0-f4ff-4070-9aa5-eac39a004a92",
   "metadata": {},
   "outputs": [],
   "source": []
  }
 ],
 "metadata": {
  "kernelspec": {
   "display_name": "Python 3 (ipykernel)",
   "language": "python",
   "name": "python3"
  },
  "language_info": {
   "codemirror_mode": {
    "name": "ipython",
    "version": 3
   },
   "file_extension": ".py",
   "mimetype": "text/x-python",
   "name": "python",
   "nbconvert_exporter": "python",
   "pygments_lexer": "ipython3",
   "version": "3.9.18"
  }
 },
 "nbformat": 4,
 "nbformat_minor": 5
}
