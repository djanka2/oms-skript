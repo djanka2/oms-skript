{
 "cells": [
  {
   "cell_type": "markdown",
   "id": "be4e7a6b",
   "metadata": {},
   "source": [
    "# Grundlagen der beschränkten Optimierung\n",
    "\n",
    "\n",
    "## Gleichungsbeschränkte Optimierung\n",
    "\n",
    "## Ungleichungsbeschränkte Optimierung\n",
    "````{prf:example} Aufstellen der KKT-Bedingungen\n",
    ":label: example:KKT\n",
    "\n",
    "Gegeben sei das Optimierungsproblem\n",
    "\n",
    "\\begin{align*}\n",
    "\\min_{x,y \\in \\mathbb{R}} \\quad & \\frac{1}{2}(x-2)^2+\\frac{1}{2}(y-\\frac{1}{2})^2 \\\\\n",
    "\\text{s.t.} \\quad & (x+1)^{-1}-y-\\frac{1}{4}\\geq 0\\\\\n",
    "& x\\geq 0\\\\\n",
    "& y\\geq 0\n",
    "\\end{align*}\n",
    "\n",
    "Wir stellen dafür nun die KKT-Bedingungen auf. Dazu benötigen wir die Lagrange-Funktion, bei der wir für jede Nebenbedingung einen Lagrange-Multiplikator $\\mu_i$ einführen:\n",
    "\n",
    "\\begin{align*}\n",
    "\\mathcal{L}(x,y,\\mu_1,\\mu_2,\\mu_3) = \\frac{1}{2}(x-2)^2+\\frac{1}{2}(y-\\frac{1}{2})^2 - \\mu_1\\left((x+1)^{-1}-y-\\frac{1}{4}\\right) - \\mu_2 x - \\mu_3 y\n",
    "\\end{align*}\n",
    "\n",
    "Nun können wir die KKT-Bedingungen aufstellen. \n",
    "\n",
    "1. Der Gradient der Lagrange-Funktion nach $x$ und $y$ muss $0$ sein (Stationarität):  \n",
    "    \\begin{align*}\n",
    "    \\frac{\\partial \\mathcal{L}}{\\partial x} &= x-2 + \\frac{\\mu_1}{(x+1)^2} - \\mu_2 = 0\\\\\n",
    "    \\frac{\\partial \\mathcal{L}}{\\partial y} &= y-\\frac{1}{2} + \\mu_1 - \\mu_3 = 0\n",
    "    \\end{align*}\n",
    "2. Die Nebenbedingungen müssen erfüllt sein (Zulässigkeit):  \n",
    "    \\begin{align*}\n",
    "    (x+1)^{-1}-y-\\frac{1}{4}&\\geq 0\\\\\n",
    "    x&\\geq 0\\\\\n",
    "    y&\\geq 0\n",
    "    \\end{align*}  \n",
    "3. Die Lagrange-Multiplikatoren müssen nicht-negativ sein (Nicht-Negativität):  \n",
    "    \\begin{align*}\n",
    "    \\mu_1 &\\geq 0\\\\\n",
    "    \\mu_2 &\\geq 0\\\\\n",
    "    \\mu_3 &\\geq 0\n",
    "    \\end{align*}  \n",
    "4. Entweder muss die Ungleichungsnebenbedingung gleich $0$ sein oder der zugehörige Lagrange-Multiplikator (Komplementarität):  \n",
    "    \\begin{align*}\n",
    "    \\mu_1\\left((x+1)^{-1}-y-\\frac{1}{4}\\right) &= 0\\\\\n",
    "    \\mu_2 x &= 0\\\\\n",
    "    \\mu_3 y &= 0\n",
    "    \\end{align*}\n",
    "\n",
    "Die Schwierigkeit, einen KKT-Punkt (also einen Punkt, der alle Bedingungen erfüllt) zu finden, liegt darin, dass wir es mit einem System aus Gleichungen und *Ungleichungen* zu tun haben. Wir können nicht einfach die Gleichungen nach $x, y$ und $\\mu_1,\\mu_2,\\mu_3$ auflösen. Stattdessen müssen wir Fallunterscheidungen machen, je nachdem, ob die Ungleichungsnebenbedingungen aktiv sind (d.h. es gilt $=$) oder nicht (d.h. es gilt $>$).\n",
    "\n",
    "Praktisch müsste man alle $2^3$ Möglichkeiten durchgehen, welche der drei Ungleichungsnebenbedingungen mit Gleichheit erfüllt sind, also *aktiv* sind. Bei den Ungleichungen, die $>0$ sind (die *inaktiven* Ungleichungsnebenbedingungen) muss der zugehörige Lagrange-Multiplikator $0$ sein, damit Komplementarität erfüllt ist. \n",
    "\n",
    "Für die aktiven Ungleichungen muss man nun testweise ein Gleichungssystem lösen. Nach der Lösung muss man das Vorzeichen der $\\mu_1,\\mu_2,\\mu_3$ überprüfen: Nur wenn diese nicht negativ sind, ist die Nicht-Negativitätsbedingung der KKT-Bedingungen erfüllt und der so berechnete Punkt ist ein KKT-Punkt. Ist das nicht der Fall, muss eine andere Kombination von aktiven Ungleichungsnebenbedingungen getestet werden.\n",
    "````\n",
    "\n",
    "\n",
    "\n",
    "%## Anwendung: Support Vector Maschinen"
   ]
  }
 ],
 "metadata": {
  "jupytext": {
   "formats": "md:myst",
   "text_representation": {
    "extension": ".md",
    "format_name": "myst"
   }
  },
  "kernelspec": {
   "display_name": "Python 3",
   "language": "python",
   "name": "python3"
  },
  "language_info": {
   "codemirror_mode": {
    "name": "ipython",
    "version": 3
   },
   "file_extension": ".py",
   "mimetype": "text/x-python",
   "name": "python",
   "nbconvert_exporter": "python",
   "pygments_lexer": "ipython3",
   "version": "3.9.6"
  },
  "source_map": [
   11
  ]
 },
 "nbformat": 4,
 "nbformat_minor": 5
}