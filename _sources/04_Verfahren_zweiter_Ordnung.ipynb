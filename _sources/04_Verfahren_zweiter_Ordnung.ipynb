{
 "cells": [
  {
   "cell_type": "markdown",
   "id": "23c34b32",
   "metadata": {},
   "source": [
    "(sec:newton)=\n",
    "# Verfahren zweiter Ordnung\n",
    "\n",
    "## Motivation \n",
    "\n",
    "## Newton Verfahren\n",
    "\n",
    "### Konvergenzgeschwindigkeit\n",
    "\n",
    "### Regularisierung des Verfahrens\n",
    "\n",
    "\n",
    "## Quasi-Newton Verfahren\n",
    "\n",
    "### DFP \n",
    "\n",
    "### BFGS\n",
    "\n",
    "### Limited-memory BFGS\n",
    "\n",
    "## Zusammenfassung der Verfahren erster und zweiter Ordnung"
   ]
  }
 ],
 "metadata": {
  "jupytext": {
   "formats": "md:myst",
   "text_representation": {
    "extension": ".md",
    "format_name": "myst"
   }
  },
  "kernelspec": {
   "display_name": "Python 3",
   "language": "python",
   "name": "python3"
  },
  "language_info": {
   "codemirror_mode": {
    "name": "ipython",
    "version": 3
   },
   "file_extension": ".py",
   "mimetype": "text/x-python",
   "name": "python",
   "nbconvert_exporter": "python",
   "pygments_lexer": "ipython3",
   "version": "3.9.6"
  },
  "source_map": [
   11
  ]
 },
 "nbformat": 4,
 "nbformat_minor": 5
}