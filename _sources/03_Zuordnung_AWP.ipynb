{
 "cells": [
  {
   "cell_type": "markdown",
   "metadata": {},
   "source": [
    "# Anwendung: Studierende auf Projekte verteilen\n",
    "\n",
    "An der Hochschule Karlsruhe gibt es im 6. Fachsemester die Lehrveranstaltung \"Domänenprojekt 1\" (für Data Scientists) bzw. \"Anwendungsprojekt\" (für WirtschaftsinformatikerInnen). Während des Semesters bearbeiten Studierende in Teams von 4 bis 6 Personen ein umfangreicheres Projekt in Kooperation mit verschiedenen Unternehmen, die dafür in die Rolle des Kunden schlüpfen. Die Veranstaltung ist mit 10 CP dotiert und bietet den Studierenden die Möglichkeit, Erfahrung im praxisnahen Projektgeschäft zu sammeln und zwar nicht nur was die Inhalte angeht, sondern auch im Hinblick auf Projektmanagement, Umgang mit Kunden, Zielen und Deadlines.\n",
    "\n",
    "Traditionell findet am 1. Donnerstag im Semester die Zuordnung von Studierenden zu Projekten statt. Jedes Unternehmen präsentiert sein Projekt und Studierende können anschließend ihre Präferenzen (Wahl 1, Wahl 2, Wahl 3) festlegen. Weiterhin können Sie einen Wunschpartner benennen, mit dem/der sie gerne im Projekt zusammenarbeiten möchten. Idealerweise sollte jeder Studierende seine 1. Projektwahl sowie seinen Wunschpartner bekommen, doch dies ist in der Regel unmöglich.\n",
    "\n",
    "Nach Abgabe aller Wünsche haben die betreuenden Professoren etwa 1 Stunde Zeit, um alle Wünsche unter einen Hut zu bekommen. Dies geschah bisher durch routiniertes Copy&Paste, fehleranfällige Excel-Magie und Einbringen persönlicher Vorlieben. Um diese unhaltbaren Zustände zu beseitigen, soll ein lineares Programm entwickelt werden, das die DozentInnen bei der Zuordnung unterstützt.\n",
    "\n",
    "Dazu schauen wir uns zunächst die Eingabedaten an:"
   ]
  },
  {
   "cell_type": "code",
   "execution_count": 141,
   "metadata": {},
   "outputs": [
    {
     "data": {
      "text/html": [
       "<div>\n",
       "<style scoped>\n",
       "    .dataframe tbody tr th:only-of-type {\n",
       "        vertical-align: middle;\n",
       "    }\n",
       "\n",
       "    .dataframe tbody tr th {\n",
       "        vertical-align: top;\n",
       "    }\n",
       "\n",
       "    .dataframe thead th {\n",
       "        text-align: right;\n",
       "    }\n",
       "</style>\n",
       "<table border=\"1\" class=\"dataframe\">\n",
       "  <thead>\n",
       "    <tr style=\"text-align: right;\">\n",
       "      <th></th>\n",
       "      <th>Name</th>\n",
       "      <th>Wahl 1</th>\n",
       "      <th>Wahl 2</th>\n",
       "      <th>Wahl 3</th>\n",
       "      <th>Partner</th>\n",
       "    </tr>\n",
       "  </thead>\n",
       "  <tbody>\n",
       "    <tr>\n",
       "      <th>0</th>\n",
       "      <td>Nils Dietrich</td>\n",
       "      <td>NaN</td>\n",
       "      <td>NaN</td>\n",
       "      <td>NaN</td>\n",
       "      <td>NaN</td>\n",
       "    </tr>\n",
       "    <tr>\n",
       "      <th>1</th>\n",
       "      <td>Julius Becker</td>\n",
       "      <td>TechWorks GmbH</td>\n",
       "      <td>MegaCorp GmbH</td>\n",
       "      <td>CorporateSolutions GmbH &amp; Co. KG</td>\n",
       "      <td>NaN</td>\n",
       "    </tr>\n",
       "    <tr>\n",
       "      <th>2</th>\n",
       "      <td>Daniel Vogt</td>\n",
       "      <td>InnoTech Solutions AG</td>\n",
       "      <td>UniConsulting AG</td>\n",
       "      <td>DataVision GmbH</td>\n",
       "      <td>Kevin Schmid</td>\n",
       "    </tr>\n",
       "    <tr>\n",
       "      <th>3</th>\n",
       "      <td>Paul Richter</td>\n",
       "      <td>TechWorks GmbH</td>\n",
       "      <td>MegaCorp GmbH</td>\n",
       "      <td>CorporateSolutions GmbH &amp; Co. KG</td>\n",
       "      <td>NaN</td>\n",
       "    </tr>\n",
       "    <tr>\n",
       "      <th>4</th>\n",
       "      <td>Tran Linh</td>\n",
       "      <td>NaN</td>\n",
       "      <td>NaN</td>\n",
       "      <td>NaN</td>\n",
       "      <td>NaN</td>\n",
       "    </tr>\n",
       "    <tr>\n",
       "      <th>...</th>\n",
       "      <td>...</td>\n",
       "      <td>...</td>\n",
       "      <td>...</td>\n",
       "      <td>...</td>\n",
       "      <td>...</td>\n",
       "    </tr>\n",
       "    <tr>\n",
       "      <th>61</th>\n",
       "      <td>Annika Schulz</td>\n",
       "      <td>UniConsulting AG</td>\n",
       "      <td>DataVision GmbH</td>\n",
       "      <td>CityMobil AG</td>\n",
       "      <td>Anna Schneider</td>\n",
       "    </tr>\n",
       "    <tr>\n",
       "      <th>62</th>\n",
       "      <td>Lisa Schulze</td>\n",
       "      <td>CityMobil AG</td>\n",
       "      <td>Stadtverwaltung Hintertupfingen</td>\n",
       "      <td>CorporateSolutions GmbH &amp; Co. KG</td>\n",
       "      <td>NaN</td>\n",
       "    </tr>\n",
       "    <tr>\n",
       "      <th>63</th>\n",
       "      <td>Clara Sommer</td>\n",
       "      <td>InfraTech GmbH</td>\n",
       "      <td>CityTech Services GmbH</td>\n",
       "      <td>Stadtverwaltung Hintertupfingen</td>\n",
       "      <td>Dilara Yıldız</td>\n",
       "    </tr>\n",
       "    <tr>\n",
       "      <th>64</th>\n",
       "      <td>Kevin Schmid</td>\n",
       "      <td>InnoTech Solutions AG</td>\n",
       "      <td>UniConsulting AG</td>\n",
       "      <td>DataVision GmbH</td>\n",
       "      <td>Lena Schäfer</td>\n",
       "    </tr>\n",
       "    <tr>\n",
       "      <th>65</th>\n",
       "      <td>Mara Mayer</td>\n",
       "      <td>DataVision GmbH</td>\n",
       "      <td>SmartTech Solutions GmbH</td>\n",
       "      <td>InfraTech GmbH</td>\n",
       "      <td>NaN</td>\n",
       "    </tr>\n",
       "  </tbody>\n",
       "</table>\n",
       "<p>66 rows × 5 columns</p>\n",
       "</div>"
      ],
      "text/plain": [
       "             Name                 Wahl 1                           Wahl 2  \\\n",
       "0   Nils Dietrich                    NaN                              NaN   \n",
       "1   Julius Becker         TechWorks GmbH                    MegaCorp GmbH   \n",
       "2     Daniel Vogt  InnoTech Solutions AG                 UniConsulting AG   \n",
       "3    Paul Richter         TechWorks GmbH                    MegaCorp GmbH   \n",
       "4       Tran Linh                    NaN                              NaN   \n",
       "..            ...                    ...                              ...   \n",
       "61  Annika Schulz       UniConsulting AG                  DataVision GmbH   \n",
       "62   Lisa Schulze           CityMobil AG  Stadtverwaltung Hintertupfingen   \n",
       "63   Clara Sommer         InfraTech GmbH           CityTech Services GmbH   \n",
       "64   Kevin Schmid  InnoTech Solutions AG                 UniConsulting AG   \n",
       "65     Mara Mayer        DataVision GmbH         SmartTech Solutions GmbH   \n",
       "\n",
       "                              Wahl 3         Partner  \n",
       "0                                NaN             NaN  \n",
       "1   CorporateSolutions GmbH & Co. KG             NaN  \n",
       "2                    DataVision GmbH    Kevin Schmid  \n",
       "3   CorporateSolutions GmbH & Co. KG             NaN  \n",
       "4                                NaN             NaN  \n",
       "..                               ...             ...  \n",
       "61                      CityMobil AG  Anna Schneider  \n",
       "62  CorporateSolutions GmbH & Co. KG             NaN  \n",
       "63   Stadtverwaltung Hintertupfingen   Dilara Yıldız  \n",
       "64                   DataVision GmbH    Lena Schäfer  \n",
       "65                    InfraTech GmbH             NaN  \n",
       "\n",
       "[66 rows x 5 columns]"
      ]
     },
     "execution_count": 141,
     "metadata": {},
     "output_type": "execute_result"
    }
   ],
   "source": [
    "import pandas as pd\n",
    "df = pd.read_excel(\"Teilnehmer_AWP.xlsx\")\n",
    "df"
   ]
  },
  {
   "cell_type": "markdown",
   "metadata": {},
   "source": [
    "## Indexmengen\n",
    "\n",
    "Wir haben insgesamt 66 Studierende aus den Studiengängen WI, IIB und DSCB. Jede/r hat bis zu 3 Projekte gewählt, wobei Wahl 1 das bevorzugte Projekt ist. Weiterhin kann ein Wunschpartner angegeben werden. Sowohl Projektvorlieben als auch Wunschpartner sind optional. Wenn sie nicht gesetzt sind, wird dies durch `NaN` gekennzeichnet.\n",
    "\n",
    "Als nächstes definieren wir geeignete Indexmengen. Diese sind:\n",
    "\n",
    "- $\\text{Studierende}$: Menge aller Studierenden (Vor- und Nachname)\n",
    "- $\\text{Projekte}$: Menge aller Projekte\n",
    "- $\\text{Partner} \\subseteq \\text{Studierende}$: Menge der Studierenden, die von mindestens einem anderen als Wunschpartner genannt wurden\n",
    "- $\\text{Ohne\\_Partner} \\subseteq \\text{Studierende}$: Menge der Studierenden, die keinen Wunschpartner (`NaN`) angegeben haben."
   ]
  },
  {
   "cell_type": "code",
   "execution_count": 142,
   "metadata": {},
   "outputs": [
    {
     "name": "stdout",
     "output_type": "stream",
     "text": [
      "Liste der Studierenden: \n",
      "['Nils Dietrich', 'Julius Becker', 'Daniel Vogt', 'Paul Richter', 'Tran Linh', 'Tom Schuster', 'Jana Zimmermann', 'Jamal Al-Farsi', 'Cem Çetin', 'Lea Fischer', 'Isabella Braun', 'Dilara Yıldız', 'Jonah Wagner', 'Pham Thi', 'Ali Toprak', 'Murat Aktaş', 'Mustafa Öztürk', 'Julian Klein', 'Laura Berger', 'Mia Schulz', 'Maximilian Schuster', 'Lea Huber', 'Robin Scholz', 'Maria Baumann', 'Emilia Wolf', 'Niklas Richter', 'Victoria Zimmer', 'Anna Schneider', 'Carolin Wolf', 'Omar Abdelrahman', 'Emma Wagner', 'Nada Mohamed', 'Pauline Neumann', 'Maximilian Meyer', 'Sophie Becker', 'Leah Becker', 'Omar Al-Saleh', 'Selin Korkmaz', 'Amelie Friedrich', 'Sophia Hoffmann', 'Nguyen Thanh', 'David Hartmann', 'Benjamin Braun', 'Moritz Richter', 'Johannes Keller', 'David Weber', 'Sara Lehmann', 'Youssef Ibrahim', 'Finn Weber', 'Ahmet Yıldırım', 'Marlene Schmidt', 'Le Anh', 'Khaled Mansour', 'Leon Fischer', 'Sebastian Berger', 'Hannah Bauer', 'Fabian Klein', 'Mohammed Hassan', 'Luca Richter', 'Lena Schäfer', 'Maja Schmitt', 'Annika Schulz', 'Lisa Schulze', 'Clara Sommer', 'Kevin Schmid', 'Mara Mayer']\n",
      "\n",
      "-------------------------\n",
      "\n",
      "Anzahl Studierende: 66\n",
      "\n",
      "-------------------------\n",
      "\n",
      "Projekte, die gewählt wurden (insgesamt 15): \n",
      "TechWorks GmbH\n",
      "InnoTech Solutions AG\n",
      "DataVision GmbH\n",
      "CorporateSolutions GmbH & Co. KG\n",
      "MegaCorp GmbH\n",
      "InfraTech GmbH\n",
      "SmartTech Solutions GmbH\n",
      "CityTech Services GmbH\n",
      "MediCare Hospital\n",
      "UniConsulting AG\n",
      "Stadtverwaltung Hintertupfingen\n",
      "HealthCare GmbH\n",
      "CityMobil AG\n",
      "Digital Services GmbH\n",
      "AdvancedTech Solutions GmbH\n",
      "\n",
      "-------------------------\n",
      "\n",
      "Personen, die als Partner gewählt wurden: \n",
      "['Daniel Vogt', 'Tom Schuster', 'Cem Çetin', 'Dilara Yıldız', 'Jonah Wagner', 'Pham Thi', 'Mustafa Öztürk', 'Julian Klein', 'Laura Berger', 'Lea Huber', 'Robin Scholz', 'Maria Baumann', 'Emilia Wolf', 'Victoria Zimmer', 'Anna Schneider', 'Omar Abdelrahman', 'Emma Wagner', 'Nada Mohamed', 'Maximilian Meyer', 'Sophie Becker', 'Amelie Friedrich', 'Sophia Hoffmann', 'Nguyen Thanh', 'Benjamin Braun', 'Moritz Richter', 'David Weber', 'Sara Lehmann', 'Youssef Ibrahim', 'Ahmet Yıldırım', 'Leon Fischer', 'Sebastian Berger', 'Fabian Klein', 'Mohammed Hassan', 'Luca Richter', 'Lena Schäfer', 'Annika Schulz', 'Clara Sommer', 'Kevin Schmid']\n",
      "\n",
      "-------------------------\n",
      "\n",
      "Personen, die keinen Partner gewählt haben: \n",
      "Nils Dietrich\n",
      "Julius Becker\n",
      "Paul Richter\n",
      "Tran Linh\n",
      "Jana Zimmermann\n",
      "Jamal Al-Farsi\n",
      "Lea Fischer\n",
      "Isabella Braun\n",
      "Ali Toprak\n",
      "Murat Aktaş\n",
      "Mia Schulz\n",
      "Maximilian Schuster\n",
      "Niklas Richter\n",
      "Carolin Wolf\n",
      "Pauline Neumann\n",
      "Leah Becker\n",
      "Omar Al-Saleh\n",
      "Selin Korkmaz\n",
      "David Hartmann\n",
      "Johannes Keller\n",
      "Finn Weber\n",
      "Marlene Schmidt\n",
      "Le Anh\n",
      "Khaled Mansour\n",
      "Hannah Bauer\n",
      "Maja Schmitt\n",
      "Lisa Schulze\n",
      "Mara Mayer\n"
     ]
    }
   ],
   "source": [
    "def get_index_sets(df):\n",
    "    # All students (set as DataFrame index)\n",
    "    df.index = df[\"Name\"]\n",
    "    studis = df.index.to_list()\n",
    "\n",
    "    # All projects\n",
    "    projekte = pd.concat( [df[\"Wahl 1\"], df[\"Wahl 2\"], df[\"Wahl 3\"]] )\n",
    "    projekte = projekte[projekte.isna() == False].unique().tolist()\n",
    "    \n",
    "    # Get all students mentioned as partners\n",
    "    studis_partner = df[df[\"Partner\"].isin(studis)].index.tolist()\n",
    "\n",
    "    # Find partners that are not in the list of students\n",
    "    invalid_partners = df[~df[\"Partner\"].isin(studis) & (~df[\"Partner\"].isna())][\"Partner\"]\n",
    "    \n",
    "    # Students that do not name a partner\n",
    "    studis_no_partner = df[df[\"Partner\"].isna()].index.tolist()\n",
    "    \n",
    "    return studis, projekte, studis_partner, invalid_partners, studis_no_partner\n",
    "\n",
    "studis, projekte, studis_partner, invalid_partners, studis_no_partner = get_index_sets(df)\n",
    "df = df.drop(\"Name\", axis=1)\n",
    "\n",
    "sep = \"\\n\" + 25*\"-\" + \"\\n\"\n",
    "print(f\"Liste der Studierenden: \")\n",
    "print(studis)\n",
    "print(sep)\n",
    "print(f\"Anzahl Studierende: {len(studis)}\")\n",
    "\n",
    "print(sep)\n",
    "print(f\"Projekte, die gewählt wurden (insgesamt {len(projekte)}): \")\n",
    "print(*projekte, sep=\"\\n\")\n",
    "\n",
    "print(sep)\n",
    "print(f\"Personen, die als Partner gewählt wurden: \")\n",
    "print(studis_partner)\n",
    "\n",
    "print(sep)\n",
    "print(\"Personen, die keinen Partner gewählt haben: \")\n",
    "print(*studis_no_partner, sep=\"\\n\")"
   ]
  },
  {
   "cell_type": "markdown",
   "metadata": {},
   "source": [
    "## Pre-processing: Punkte\n",
    "\n",
    "Nun kommt der Modellierungsteil: Dass jede/r seinen/ihren Wunschpartner und Wunschprojekt bekommt, ist in der Regel nicht möglich. Es muss also ein Kompromiss gefunden werden. Wir bilden dies über Punkte ab: Jede Zuordnung von Projekten ergibt bei jedem Studierenden eine Anzahl von Punkten, je nachdem, ob er die Erst-/Zweit-/Drittwahl (oder gar keine) und seinen Wunschpartner bekommen hat.\n",
    "\n",
    "Konkret legen wir folgende Punktzahlen fest:\n",
    "- Erstwahl erhalten: $w_1=3$ Punkte\n",
    "- Zweitwahl erhalten: $w_2=2$ Punkte\n",
    "- Drittwahl erhalten: $w_3=1$ Punkt\n",
    "- Keines der drei angegebenen Projekte erhalten: $w_4=-2$ Punkte\n",
    "- Wunschpartner bekommen: $w=3$ Punkte\n",
    "- Hat ein Studierender `NaN` angegeben, so bekommt er/sie bei jedem zugewiesenen Projekt die entsprechenden Punkte (Beispiel: Ein Studierender hat nur eine Erstwahl angegeben aber lässt Zweit- und Drittwahl frei. Wenn er seine Erstwahl bekommt, so erhält er drei Punkte, für jedes andere Projekt erhält er zwei Punkte)\n",
    "\n",
    "Wir ergänzen den DataFrame mit den Punkten für die Projektwahl. Jedes Projekt ist eine Spalte, in der Spalte stehen die Punkte, die man bei der Zuordnung zu diesem Projekt erhalten würden."
   ]
  },
  {
   "cell_type": "code",
   "execution_count": 143,
   "metadata": {},
   "outputs": [
    {
     "data": {
      "text/html": [
       "<div>\n",
       "<style scoped>\n",
       "    .dataframe tbody tr th:only-of-type {\n",
       "        vertical-align: middle;\n",
       "    }\n",
       "\n",
       "    .dataframe tbody tr th {\n",
       "        vertical-align: top;\n",
       "    }\n",
       "\n",
       "    .dataframe thead th {\n",
       "        text-align: right;\n",
       "    }\n",
       "</style>\n",
       "<table border=\"1\" class=\"dataframe\">\n",
       "  <thead>\n",
       "    <tr style=\"text-align: right;\">\n",
       "      <th></th>\n",
       "      <th>Wahl 1</th>\n",
       "      <th>Wahl 2</th>\n",
       "      <th>Wahl 3</th>\n",
       "      <th>Partner</th>\n",
       "      <th>TechWorks GmbH</th>\n",
       "      <th>InnoTech Solutions AG</th>\n",
       "      <th>DataVision GmbH</th>\n",
       "      <th>CorporateSolutions GmbH &amp; Co. KG</th>\n",
       "      <th>MegaCorp GmbH</th>\n",
       "      <th>InfraTech GmbH</th>\n",
       "      <th>SmartTech Solutions GmbH</th>\n",
       "      <th>CityTech Services GmbH</th>\n",
       "      <th>MediCare Hospital</th>\n",
       "      <th>UniConsulting AG</th>\n",
       "      <th>Stadtverwaltung Hintertupfingen</th>\n",
       "      <th>HealthCare GmbH</th>\n",
       "      <th>CityMobil AG</th>\n",
       "      <th>Digital Services GmbH</th>\n",
       "      <th>AdvancedTech Solutions GmbH</th>\n",
       "    </tr>\n",
       "    <tr>\n",
       "      <th>Name</th>\n",
       "      <th></th>\n",
       "      <th></th>\n",
       "      <th></th>\n",
       "      <th></th>\n",
       "      <th></th>\n",
       "      <th></th>\n",
       "      <th></th>\n",
       "      <th></th>\n",
       "      <th></th>\n",
       "      <th></th>\n",
       "      <th></th>\n",
       "      <th></th>\n",
       "      <th></th>\n",
       "      <th></th>\n",
       "      <th></th>\n",
       "      <th></th>\n",
       "      <th></th>\n",
       "      <th></th>\n",
       "      <th></th>\n",
       "    </tr>\n",
       "  </thead>\n",
       "  <tbody>\n",
       "    <tr>\n",
       "      <th>Nils Dietrich</th>\n",
       "      <td>NaN</td>\n",
       "      <td>NaN</td>\n",
       "      <td>NaN</td>\n",
       "      <td>NaN</td>\n",
       "      <td>3</td>\n",
       "      <td>3</td>\n",
       "      <td>3</td>\n",
       "      <td>3</td>\n",
       "      <td>3</td>\n",
       "      <td>3</td>\n",
       "      <td>3</td>\n",
       "      <td>3</td>\n",
       "      <td>3</td>\n",
       "      <td>3</td>\n",
       "      <td>3</td>\n",
       "      <td>3</td>\n",
       "      <td>3</td>\n",
       "      <td>3</td>\n",
       "      <td>3</td>\n",
       "    </tr>\n",
       "    <tr>\n",
       "      <th>Julius Becker</th>\n",
       "      <td>TechWorks GmbH</td>\n",
       "      <td>MegaCorp GmbH</td>\n",
       "      <td>CorporateSolutions GmbH &amp; Co. KG</td>\n",
       "      <td>NaN</td>\n",
       "      <td>3</td>\n",
       "      <td>-2</td>\n",
       "      <td>-2</td>\n",
       "      <td>1</td>\n",
       "      <td>2</td>\n",
       "      <td>-2</td>\n",
       "      <td>-2</td>\n",
       "      <td>-2</td>\n",
       "      <td>-2</td>\n",
       "      <td>-2</td>\n",
       "      <td>-2</td>\n",
       "      <td>-2</td>\n",
       "      <td>-2</td>\n",
       "      <td>-2</td>\n",
       "      <td>-2</td>\n",
       "    </tr>\n",
       "    <tr>\n",
       "      <th>Daniel Vogt</th>\n",
       "      <td>InnoTech Solutions AG</td>\n",
       "      <td>UniConsulting AG</td>\n",
       "      <td>DataVision GmbH</td>\n",
       "      <td>Kevin Schmid</td>\n",
       "      <td>-2</td>\n",
       "      <td>3</td>\n",
       "      <td>1</td>\n",
       "      <td>-2</td>\n",
       "      <td>-2</td>\n",
       "      <td>-2</td>\n",
       "      <td>-2</td>\n",
       "      <td>-2</td>\n",
       "      <td>-2</td>\n",
       "      <td>2</td>\n",
       "      <td>-2</td>\n",
       "      <td>-2</td>\n",
       "      <td>-2</td>\n",
       "      <td>-2</td>\n",
       "      <td>-2</td>\n",
       "    </tr>\n",
       "    <tr>\n",
       "      <th>Paul Richter</th>\n",
       "      <td>TechWorks GmbH</td>\n",
       "      <td>MegaCorp GmbH</td>\n",
       "      <td>CorporateSolutions GmbH &amp; Co. KG</td>\n",
       "      <td>NaN</td>\n",
       "      <td>3</td>\n",
       "      <td>-2</td>\n",
       "      <td>-2</td>\n",
       "      <td>1</td>\n",
       "      <td>2</td>\n",
       "      <td>-2</td>\n",
       "      <td>-2</td>\n",
       "      <td>-2</td>\n",
       "      <td>-2</td>\n",
       "      <td>-2</td>\n",
       "      <td>-2</td>\n",
       "      <td>-2</td>\n",
       "      <td>-2</td>\n",
       "      <td>-2</td>\n",
       "      <td>-2</td>\n",
       "    </tr>\n",
       "    <tr>\n",
       "      <th>Tran Linh</th>\n",
       "      <td>NaN</td>\n",
       "      <td>NaN</td>\n",
       "      <td>NaN</td>\n",
       "      <td>NaN</td>\n",
       "      <td>3</td>\n",
       "      <td>3</td>\n",
       "      <td>3</td>\n",
       "      <td>3</td>\n",
       "      <td>3</td>\n",
       "      <td>3</td>\n",
       "      <td>3</td>\n",
       "      <td>3</td>\n",
       "      <td>3</td>\n",
       "      <td>3</td>\n",
       "      <td>3</td>\n",
       "      <td>3</td>\n",
       "      <td>3</td>\n",
       "      <td>3</td>\n",
       "      <td>3</td>\n",
       "    </tr>\n",
       "  </tbody>\n",
       "</table>\n",
       "</div>"
      ],
      "text/plain": [
       "                              Wahl 1            Wahl 2  \\\n",
       "Name                                                     \n",
       "Nils Dietrich                    NaN               NaN   \n",
       "Julius Becker         TechWorks GmbH     MegaCorp GmbH   \n",
       "Daniel Vogt    InnoTech Solutions AG  UniConsulting AG   \n",
       "Paul Richter          TechWorks GmbH     MegaCorp GmbH   \n",
       "Tran Linh                        NaN               NaN   \n",
       "\n",
       "                                         Wahl 3       Partner  TechWorks GmbH  \\\n",
       "Name                                                                            \n",
       "Nils Dietrich                               NaN           NaN               3   \n",
       "Julius Becker  CorporateSolutions GmbH & Co. KG           NaN               3   \n",
       "Daniel Vogt                     DataVision GmbH  Kevin Schmid              -2   \n",
       "Paul Richter   CorporateSolutions GmbH & Co. KG           NaN               3   \n",
       "Tran Linh                                   NaN           NaN               3   \n",
       "\n",
       "               InnoTech Solutions AG  DataVision GmbH  \\\n",
       "Name                                                    \n",
       "Nils Dietrich                      3                3   \n",
       "Julius Becker                     -2               -2   \n",
       "Daniel Vogt                        3                1   \n",
       "Paul Richter                      -2               -2   \n",
       "Tran Linh                          3                3   \n",
       "\n",
       "               CorporateSolutions GmbH & Co. KG  MegaCorp GmbH  \\\n",
       "Name                                                             \n",
       "Nils Dietrich                                 3              3   \n",
       "Julius Becker                                 1              2   \n",
       "Daniel Vogt                                  -2             -2   \n",
       "Paul Richter                                  1              2   \n",
       "Tran Linh                                     3              3   \n",
       "\n",
       "               InfraTech GmbH  SmartTech Solutions GmbH  \\\n",
       "Name                                                      \n",
       "Nils Dietrich               3                         3   \n",
       "Julius Becker              -2                        -2   \n",
       "Daniel Vogt                -2                        -2   \n",
       "Paul Richter               -2                        -2   \n",
       "Tran Linh                   3                         3   \n",
       "\n",
       "               CityTech Services GmbH  MediCare Hospital  UniConsulting AG  \\\n",
       "Name                                                                         \n",
       "Nils Dietrich                       3                  3                 3   \n",
       "Julius Becker                      -2                 -2                -2   \n",
       "Daniel Vogt                        -2                 -2                 2   \n",
       "Paul Richter                       -2                 -2                -2   \n",
       "Tran Linh                           3                  3                 3   \n",
       "\n",
       "               Stadtverwaltung Hintertupfingen  HealthCare GmbH  CityMobil AG  \\\n",
       "Name                                                                            \n",
       "Nils Dietrich                                3                3             3   \n",
       "Julius Becker                               -2               -2            -2   \n",
       "Daniel Vogt                                 -2               -2            -2   \n",
       "Paul Richter                                -2               -2            -2   \n",
       "Tran Linh                                    3                3             3   \n",
       "\n",
       "               Digital Services GmbH  AdvancedTech Solutions GmbH  \n",
       "Name                                                               \n",
       "Nils Dietrich                      3                            3  \n",
       "Julius Becker                     -2                           -2  \n",
       "Daniel Vogt                       -2                           -2  \n",
       "Paul Richter                      -2                           -2  \n",
       "Tran Linh                          3                            3  "
      ]
     },
     "execution_count": 143,
     "metadata": {},
     "output_type": "execute_result"
    }
   ],
   "source": [
    "# Punkte (Parameter)\n",
    "w1_pkt = 3\n",
    "w2_pkt = 2\n",
    "w3_pkt = 1\n",
    "keine_wahl_pkt = -2\n",
    "partner_pkt = 3\n",
    "\n",
    "# Wer bei Wahl i kein Projekt angegeben hat, bekommt bei allen Projekten die Punktzahl für Wahl i\n",
    "for prj in projekte: \n",
    "    df[prj] = w1_pkt*( (df[\"Wahl 1\"] == prj)                                                  |  df[\"Wahl 1\"].isna()) + \\\n",
    "              w2_pkt*(((df[\"Wahl 2\"] == prj) & (df[\"Wahl 1\"] != prj))                         | (df[\"Wahl 2\"].isna() & ~df[\"Wahl 1\"].isna())) + \\\n",
    "              w3_pkt*(((df[\"Wahl 3\"] == prj) & (df[\"Wahl 1\"] != prj) & (df[\"Wahl 2\"] != prj)) | (df[\"Wahl 3\"].isna() & ~df[\"Wahl 2\"].isna()))\n",
    "    \n",
    "    df.loc[df[prj] == 0, prj] = keine_wahl_pkt\n",
    "\n",
    "df.head()"
   ]
  },
  {
   "cell_type": "markdown",
   "metadata": {},
   "source": [
    "## Modellentwicklung\n",
    "\n",
    "### Problemdaten\n",
    "Wir bezeichnen mit $s_{i,j}$ die Punkte, die Studierender $i$ bei der Zuordnung zu Projekt $j$ erhalten würden.\n",
    "\n",
    "### Variablen\n",
    "\n",
    "\\begin{align*}\n",
    "x_{ij} &= \\left\\{\\begin{array}{rl}1, & \\text{Studi }i\\text{ bekommt Projekt }j\\\\ \n",
    "                            0, & \\text{sonst.}\\end{array}\\right.,\\quad i\\in \\text{Studierende}, j\\in \\text{Projekte}\\\\\n",
    "z_{j} &= \\left\\{\\begin{array}{rl}1, & \\text{Projekt }j\\text{ findet statt.}\\\\ \n",
    "                            0, & \\text{sonst.}\\end{array}\\right.,\\quad j\\in \\text{Projekte}\\\\\n",
    "p_{ij} &= \\left\\{\\begin{array}{rl}1, & \\text{Studi }i\\text{ ist in Projekt }j\\text{ mit dem Wunschpartner zusammen}\\\\ \n",
    "                            0, & \\text{sonst.}\\end{array}\\right.,\\quad i\\in \\text{Studierende}, j\\in \\text{Projekte}\\\\\n",
    "m&\\in\\mathbb{R}: \\text{ minimale Anzahl Punkte (Hilfsvariable für maxmin-Formulierung)}\n",
    "\\end{align*}\n",
    "\n",
    "### Zielfunktion\n",
    "\n",
    "Es soll die Punktzahl des Studierenden mit den wenigsten Punkten maximiert werden (\"dem ärmsten Wicht soll es möglichst gut gehen\").\n",
    "\n",
    "$$\n",
    "\\max_{x_{ij}, z_j, p_{ij}, m} m\n",
    "$$\n",
    "\n",
    "Es ist allerdings davon auszugehen, dass es mehrere Lösungen mit dem gleichen Zielfunktionswert gibt. Wenn es zwei Lösungen gibt, bei denen die minimale Punktzahl gleich ist, soll diejenige bevorzugt werden, bei denen die Summe der Punkte über alle Teilnehmer höher ist (\"maximiere Gesamtwohl\"). Dies können wir erreichen indem wir die Gesamtpunktzahl zur Zielfunktion dazuaddieren, aber mit einem Vorfaktor $\\epsilon$ versehen, der sicherstellt, dass der erste Summand (kleinste Punktzahl über alle Teilnehmer) immer die Summe dominiert, d.h. eine schlechte minimale Punktzahl kann nie durch eine gute Gesamtpunktzahl ausgeglichen werden. $\\epsilon$ muss also nur klein genug sein, ansonsten ist die Wahl unkritisch. Wir setzen $\\epsilon=0.0001$. Insgesamt erhalten wir als Zielfunktion:\n",
    "\n",
    "$$\n",
    "\\max_{x_{ij}, z_j, p_{ij}, m} m + \\epsilon \\sum_{i\\in \\text{Studierende}, j\\in \\text{Projekte}} x_{ij}s_{ij}+p_{ij}w\n",
    "$$\n",
    "\n",
    "Wir implementieren Variablen und Zielfunktion schon einmal in einem Gurobi Modell."
   ]
  },
  {
   "cell_type": "code",
   "execution_count": 144,
   "metadata": {},
   "outputs": [],
   "source": [
    "import gurobipy as gp\n",
    "from gurobipy import GRB\n",
    "\n",
    "m = gp.Model(\"AWPZuordnungSoSe2024\")\n",
    "\n",
    "#\n",
    "# VARIABLES\n",
    "#\n",
    "\n",
    "# Hilfsvariable für max-min Zielfunktion\n",
    "min_pkte = m.addVar()\n",
    "\n",
    "# Bekommt Studi i Projekt j? \n",
    "x = m.addVars(studis, projekte, vtype=GRB.BINARY)\n",
    "\n",
    "# Findet Projekt j statt?\n",
    "z = m.addVars(projekte, vtype=GRB.BINARY)\n",
    "\n",
    "# Ist Studi i in Projekt j mit seinem Wunschpartner zusammen?\n",
    "p = m.addVars(studis, projekte, vtype=GRB.BINARY)\n",
    "\n",
    "#\n",
    "# OBJECTIVE\n",
    "#\n",
    "\n",
    "# Maximiere minimale Punkte über alle Teilnehmer (primäres Ziel). Danach Gesamtpunkte.\n",
    "eps = 1e-4\n",
    "m.setObjective(min_pkte + \\\n",
    "               eps * (gp.quicksum(x[i,j]*df.loc[i,j] for i in studis for j in projekte) + \\\n",
    "                      gp.quicksum(p[i,j]*partner_pkt for i in studis for j in projekte)), \n",
    "               GRB.MAXIMIZE)"
   ]
  },
  {
   "cell_type": "markdown",
   "metadata": {},
   "source": [
    "### Constraints\n",
    "\n",
    "Wir definieren folgende Constraints:\n",
    "\n",
    "1. Jeder Studierende muss genau einem Projekt zugeordnet werden:\n",
    "\n",
    "  $$\\sum_{j\\in\\text{Projekte}}x_{ij}=1,\\quad i\\in\\text{Studierende}$$\n",
    "\n",
    "2. Wer keinen Wunschpartner angibt, bekommt keine Partnerpunkte:\n",
    "\n",
    "  $$ p_{ij}=0, \\quad i\\in\\text{Ohne\\_Partner}, j\\in\\text{Projekte}$$\n",
    "\n",
    "3. Studierender $i$ bekommt Partnerpunkte, wenn er mit dem Wunschpartner im selben Projekt $j$ ist, also wenn $x_{ij}=1$ und $x_{\\text{Partner}(i),j}=1$:\n",
    "\n",
    "  $$x_{ij}+x_{\\text{Partner}(i),j}\\geq 2p_{ij},\\quad i\\in\\text{Partner}$$\n",
    "  \n",
    "   Wir iterieren hier über alle genannten Partner. $\\text{Partner}(i)$ ist derjenige Studierende, der sich $i$ als Partner gewünscht hat.\n",
    "  \n",
    "4. Jedes Projekt wird mit 4 bis 6 Studierenden besetzt oder es findet nicht statt:\n",
    "\n",
    "  $$4z_j\\leq \\sum_{i\\in\\text{Studierende}}x_{ij}\\leq 6z_j,\\quad j\\in\\text{Projekte}$$\n",
    "\n",
    "5. Jeder Studierende muss eine Mindestpunktzahl haben (diese wird optimiert):\n",
    "\n",
    "  $$\\sum_{j\\in\\text{Projekte}}x_{ij}s_{ij}+p_{ij}w\\geq m,\\quad i\\in\\text{Studierende}$$\n",
    "\n",
    "6. Studierende, die keinen Partner gewählt haben, müssen ihre Erstwahl bekommen:\n",
    "\n",
    "  $$\\sum_{j\\in\\text{Projekte}}x_{ij}s_{ij}\\geq w_1,\\quad i\\in\\text{Ohne\\_Partner}$$\n",
    "\n",
    "Anschließend lösen wir das Modell mit Gurobi."
   ]
  },
  {
   "cell_type": "code",
   "execution_count": 145,
   "metadata": {},
   "outputs": [
    {
     "name": "stdout",
     "output_type": "stream",
     "text": [
      "Gurobi Optimizer version 11.0.1 build v11.0.1rc0 (linux64 - \"Linux Mint 21.3\")\n",
      "\n",
      "CPU model: 11th Gen Intel(R) Core(TM) i5-1145G7 @ 2.60GHz, instruction set [SSE2|AVX|AVX2|AVX512]\n",
      "Thread count: 4 physical cores, 8 logical processors, using up to 8 threads\n",
      "\n",
      "Optimize a model with 1180 rows, 1996 columns and 7596 nonzeros\n",
      "Model fingerprint: 0xcad4efd4\n",
      "Variable types: 1 continuous, 1995 integer (1995 binary)\n",
      "Coefficient statistics:\n",
      "  Matrix range     [1e+00, 6e+00]\n",
      "  Objective range  [1e-04, 1e+00]\n",
      "  Bounds range     [1e+00, 1e+00]\n",
      "  RHS range        [1e+00, 3e+00]\n",
      "Presolve removed 937 rows and 1502 columns\n",
      "Presolve time: 0.02s\n",
      "Presolved: 243 rows, 494 columns, 1910 nonzeros\n",
      "Variable types: 0 continuous, 494 integer (493 binary)\n",
      "Found heuristic solution: objective 1.0169000\n",
      "Found heuristic solution: objective 1.0205000\n",
      "\n",
      "Root relaxation: objective 2.947392e+00, 365 iterations, 0.00 seconds (0.00 work units)\n",
      "\n",
      "    Nodes    |    Current Node    |     Objective Bounds      |     Work\n",
      " Expl Unexpl |  Obj  Depth IntInf | Incumbent    BestBd   Gap | It/Node Time\n",
      "\n",
      "     0     0    2.94739    0   43    1.02050    2.94739   189%     -    0s\n",
      "H    0     0                       1.0284000    2.94739   187%     -    0s\n",
      "H    0     0                       2.0295000    2.94739  45.2%     -    0s\n",
      "     0     0    2.03040    0   31    2.02950    2.03040  0.04%     -    0s\n",
      "     0     0    2.03040    0   27    2.02950    2.03040  0.04%     -    0s\n",
      "H    0     0                       2.0297000    2.03030  0.03%     -    0s\n",
      "     0     0    2.03030    0   30    2.02970    2.03030  0.03%     -    0s\n",
      "     0     0    2.03019    0   66    2.02970    2.03019  0.02%     -    0s\n",
      "     0     0    2.03019    0   26    2.02970    2.03019  0.02%     -    0s\n",
      "\n",
      "Cutting planes:\n",
      "  Gomory: 14\n",
      "  Cover: 1\n",
      "  Clique: 5\n",
      "  MIR: 3\n",
      "  GUB cover: 1\n",
      "  Zero half: 2\n",
      "  RLT: 6\n",
      "  Relax-and-lift: 1\n",
      "  PSD: 1\n",
      "\n",
      "Explored 1 nodes (661 simplex iterations) in 0.08 seconds (0.05 work units)\n",
      "Thread count was 8 (of 8 available processors)\n",
      "\n",
      "Solution count 5: 2.0297 2.0295 1.0284 ... 1.0169\n",
      "\n",
      "Optimal solution found (tolerance 1.00e-04)\n",
      "Best objective 2.029700000000e+00, best bound 2.029800000000e+00, gap 0.0049%\n"
     ]
    }
   ],
   "source": [
    "# Jeder genau ein Projekt\n",
    "m.addConstrs(gp.quicksum(x[i,j] for j in projekte) == 1 for i in studis)\n",
    "\n",
    "# Wer keinen Wunschpartner angibt, bekommt keine Partnerpunkte\n",
    "m.addConstrs(p[i,j] == 0 for i in studis_no_partner for j in projekte)\n",
    "\n",
    "# Nur wenn x[wunschpartner von i, j] und x[i,j] beide 1 sind, kann p[i,j]=1 werden.\n",
    "# Wenn jemand keinen Partner angegeben hat ist df.loc[i,\"Partner\"] nan, also ist x[nan,j] ungültig. \n",
    "# Die Constraint wird dann nicht hinzugefügt.\n",
    "m.addConstrs(x[df.loc[i,\"Partner\"],j] + x[i,j] >= 2*p[i,j] for i in studis_partner for j in projekte)\n",
    "\n",
    "# Jedes Projekt zwischen 4 und 6 Personen (oder es findet nicht statt)\n",
    "m.addConstrs(gp.quicksum(x[i,j] for i in studis) >= z[j]*4 for j in projekte)\n",
    "m.addConstrs(gp.quicksum(x[i,j] for i in studis) <= z[j]*6 for j in projekte)\n",
    "\n",
    "# Jeder Studi muss Mindestpunktzahl haben\n",
    "m.addConstrs(gp.quicksum(x[i,j]*df.loc[i,j] for j in projekte) + \\\n",
    "             gp.quicksum(p[i,j]*partner_pkt for j in projekte) >= min_pkte for i in studis )\n",
    "\n",
    "# Studis ohne Partner müssen ihre Erstwahl bekommen\n",
    "m.addConstrs(gp.quicksum(x[i,j]*df.loc[i,j] for j in projekte) >= w1_pkt for i in studis_no_partner )\n",
    "m.optimize()"
   ]
  },
  {
   "cell_type": "markdown",
   "metadata": {},
   "source": [
    "## Auslesen der Lösung\n",
    "\n",
    "Wir lesen folgende Aspekte der Lösung aus:\n",
    "- Welche Projekte finden statt?\n",
    "- Das vorgeschlagene Projekt für jeden Studierenden\n",
    "- Hat der Studierende seinen Wunschpartner bekommen?\n",
    "- Hat der Studierende seine Erst-, Zweit- oder Drittwahl bekommen?\n",
    "\n",
    "Anschließend visualisieren wir die Lösung über die Kohorte in einem Säulendiagramm mit folgender Interpretation:\n",
    "- Den Anteil derjenigen, die ihre Erst-, Zweit- bzw. Drittwahl bekommen haben und diejenigen, die keine Wahl angegeben haben\n",
    "- Farblich unterschieden, ob die Studierenden ihren Wunschpartner bekommen haben oder keine angegeben haben."
   ]
  },
  {
   "cell_type": "code",
   "execution_count": 146,
   "metadata": {},
   "outputs": [
    {
     "name": "stdout",
     "output_type": "stream",
     "text": [
      "TechWorks GmbH                    findet statt.\n",
      "InnoTech Solutions AG             findet statt.\n",
      "DataVision GmbH                   findet statt.\n",
      "CorporateSolutions GmbH & Co. KG  findet statt.\n",
      "MegaCorp GmbH                     findet statt.\n",
      "InfraTech GmbH                    findet statt.\n",
      "SmartTech Solutions GmbH          findet statt.\n",
      "CityTech Services GmbH            findet statt.\n",
      "MediCare Hospital                 findet nicht statt.\n",
      "UniConsulting AG                  findet statt.\n",
      "Stadtverwaltung Hintertupfingen   findet statt.\n",
      "HealthCare GmbH                   findet statt.\n",
      "CityMobil AG                      findet statt.\n",
      "Digital Services GmbH             findet statt.\n",
      "AdvancedTech Solutions GmbH       findet nicht statt.\n"
     ]
    }
   ],
   "source": [
    "for j in projekte:\n",
    "    if z[j].x == 0:\n",
    "        print(f\"{j:33} findet nicht statt.\")\n",
    "    else:\n",
    "        print(f\"{j:33} findet statt.\")\n",
    "    \n",
    "k = 0\n",
    "for i in studis:\n",
    "    for j in projekte:\n",
    "        if x[i,j].x == 1:\n",
    "            #print(f\"{k:2}   {i:25} {j:10} {p[i,j].x}\")\n",
    "            k += 1\n",
    "            df.loc[i,\"Projektzuordnung_Vorschlag\"] = j\n",
    "            \n",
    "            if pd.isna(df.loc[i,\"Partner\"]):\n",
    "                df.loc[i,\"Wunschpartner\"] = \"n/a\"\n",
    "            elif p[i,j].x == 1:\n",
    "                df.loc[i,\"Wunschpartner\"] = \"ja\"\n",
    "            else:\n",
    "                df.loc[i,\"Wunschpartner\"] = \"nein\"\n",
    "            \n",
    "            if j == df.loc[i,\"Wahl 1\"]:\n",
    "                df.loc[i,\"Wahl bekommen\"] = \"Wahl 1\"\n",
    "            elif j == df.loc[i,\"Wahl 2\"]:\n",
    "                df.loc[i,\"Wahl bekommen\"] = \"Wahl 2\"\n",
    "            elif j == df.loc[i,\"Wahl 3\"]:\n",
    "                df.loc[i,\"Wahl bekommen\"] = \"Wahl 3\"\n",
    "            else:\n",
    "                df.loc[i,\"Wahl bekommen\"] = \"Keine\""
   ]
  },
  {
   "cell_type": "code",
   "execution_count": 147,
   "metadata": {},
   "outputs": [
    {
     "data": {
      "text/html": [
       "<div>\n",
       "<style scoped>\n",
       "    .dataframe tbody tr th:only-of-type {\n",
       "        vertical-align: middle;\n",
       "    }\n",
       "\n",
       "    .dataframe tbody tr th {\n",
       "        vertical-align: top;\n",
       "    }\n",
       "\n",
       "    .dataframe thead th {\n",
       "        text-align: right;\n",
       "    }\n",
       "</style>\n",
       "<table border=\"1\" class=\"dataframe\">\n",
       "  <thead>\n",
       "    <tr style=\"text-align: right;\">\n",
       "      <th></th>\n",
       "      <th>Wahl 1</th>\n",
       "      <th>Wahl 2</th>\n",
       "      <th>Wahl 3</th>\n",
       "      <th>Partner</th>\n",
       "      <th>Projektzuordnung_Vorschlag</th>\n",
       "      <th>Wunschpartner</th>\n",
       "      <th>Wahl bekommen</th>\n",
       "    </tr>\n",
       "    <tr>\n",
       "      <th>Name</th>\n",
       "      <th></th>\n",
       "      <th></th>\n",
       "      <th></th>\n",
       "      <th></th>\n",
       "      <th></th>\n",
       "      <th></th>\n",
       "      <th></th>\n",
       "    </tr>\n",
       "  </thead>\n",
       "  <tbody>\n",
       "    <tr>\n",
       "      <th>Nils Dietrich</th>\n",
       "      <td>NaN</td>\n",
       "      <td>NaN</td>\n",
       "      <td>NaN</td>\n",
       "      <td>NaN</td>\n",
       "      <td>MegaCorp GmbH</td>\n",
       "      <td>n/a</td>\n",
       "      <td>Keine</td>\n",
       "    </tr>\n",
       "    <tr>\n",
       "      <th>Julius Becker</th>\n",
       "      <td>TechWorks GmbH</td>\n",
       "      <td>MegaCorp GmbH</td>\n",
       "      <td>CorporateSolutions GmbH &amp; Co. KG</td>\n",
       "      <td>NaN</td>\n",
       "      <td>TechWorks GmbH</td>\n",
       "      <td>n/a</td>\n",
       "      <td>Wahl 1</td>\n",
       "    </tr>\n",
       "    <tr>\n",
       "      <th>Daniel Vogt</th>\n",
       "      <td>InnoTech Solutions AG</td>\n",
       "      <td>UniConsulting AG</td>\n",
       "      <td>DataVision GmbH</td>\n",
       "      <td>Kevin Schmid</td>\n",
       "      <td>InnoTech Solutions AG</td>\n",
       "      <td>ja</td>\n",
       "      <td>Wahl 1</td>\n",
       "    </tr>\n",
       "    <tr>\n",
       "      <th>Paul Richter</th>\n",
       "      <td>TechWorks GmbH</td>\n",
       "      <td>MegaCorp GmbH</td>\n",
       "      <td>CorporateSolutions GmbH &amp; Co. KG</td>\n",
       "      <td>NaN</td>\n",
       "      <td>TechWorks GmbH</td>\n",
       "      <td>n/a</td>\n",
       "      <td>Wahl 1</td>\n",
       "    </tr>\n",
       "    <tr>\n",
       "      <th>Tran Linh</th>\n",
       "      <td>NaN</td>\n",
       "      <td>NaN</td>\n",
       "      <td>NaN</td>\n",
       "      <td>NaN</td>\n",
       "      <td>Digital Services GmbH</td>\n",
       "      <td>n/a</td>\n",
       "      <td>Keine</td>\n",
       "    </tr>\n",
       "    <tr>\n",
       "      <th>...</th>\n",
       "      <td>...</td>\n",
       "      <td>...</td>\n",
       "      <td>...</td>\n",
       "      <td>...</td>\n",
       "      <td>...</td>\n",
       "      <td>...</td>\n",
       "      <td>...</td>\n",
       "    </tr>\n",
       "    <tr>\n",
       "      <th>Annika Schulz</th>\n",
       "      <td>UniConsulting AG</td>\n",
       "      <td>DataVision GmbH</td>\n",
       "      <td>CityMobil AG</td>\n",
       "      <td>Anna Schneider</td>\n",
       "      <td>UniConsulting AG</td>\n",
       "      <td>ja</td>\n",
       "      <td>Wahl 1</td>\n",
       "    </tr>\n",
       "    <tr>\n",
       "      <th>Lisa Schulze</th>\n",
       "      <td>CityMobil AG</td>\n",
       "      <td>Stadtverwaltung Hintertupfingen</td>\n",
       "      <td>CorporateSolutions GmbH &amp; Co. KG</td>\n",
       "      <td>NaN</td>\n",
       "      <td>CityMobil AG</td>\n",
       "      <td>n/a</td>\n",
       "      <td>Wahl 1</td>\n",
       "    </tr>\n",
       "    <tr>\n",
       "      <th>Clara Sommer</th>\n",
       "      <td>InfraTech GmbH</td>\n",
       "      <td>CityTech Services GmbH</td>\n",
       "      <td>Stadtverwaltung Hintertupfingen</td>\n",
       "      <td>Dilara Yıldız</td>\n",
       "      <td>InfraTech GmbH</td>\n",
       "      <td>ja</td>\n",
       "      <td>Wahl 1</td>\n",
       "    </tr>\n",
       "    <tr>\n",
       "      <th>Kevin Schmid</th>\n",
       "      <td>InnoTech Solutions AG</td>\n",
       "      <td>UniConsulting AG</td>\n",
       "      <td>DataVision GmbH</td>\n",
       "      <td>Lena Schäfer</td>\n",
       "      <td>InnoTech Solutions AG</td>\n",
       "      <td>ja</td>\n",
       "      <td>Wahl 1</td>\n",
       "    </tr>\n",
       "    <tr>\n",
       "      <th>Mara Mayer</th>\n",
       "      <td>DataVision GmbH</td>\n",
       "      <td>SmartTech Solutions GmbH</td>\n",
       "      <td>InfraTech GmbH</td>\n",
       "      <td>NaN</td>\n",
       "      <td>DataVision GmbH</td>\n",
       "      <td>n/a</td>\n",
       "      <td>Wahl 1</td>\n",
       "    </tr>\n",
       "  </tbody>\n",
       "</table>\n",
       "<p>66 rows × 7 columns</p>\n",
       "</div>"
      ],
      "text/plain": [
       "                              Wahl 1                           Wahl 2  \\\n",
       "Name                                                                    \n",
       "Nils Dietrich                    NaN                              NaN   \n",
       "Julius Becker         TechWorks GmbH                    MegaCorp GmbH   \n",
       "Daniel Vogt    InnoTech Solutions AG                 UniConsulting AG   \n",
       "Paul Richter          TechWorks GmbH                    MegaCorp GmbH   \n",
       "Tran Linh                        NaN                              NaN   \n",
       "...                              ...                              ...   \n",
       "Annika Schulz       UniConsulting AG                  DataVision GmbH   \n",
       "Lisa Schulze            CityMobil AG  Stadtverwaltung Hintertupfingen   \n",
       "Clara Sommer          InfraTech GmbH           CityTech Services GmbH   \n",
       "Kevin Schmid   InnoTech Solutions AG                 UniConsulting AG   \n",
       "Mara Mayer           DataVision GmbH         SmartTech Solutions GmbH   \n",
       "\n",
       "                                         Wahl 3         Partner  \\\n",
       "Name                                                              \n",
       "Nils Dietrich                               NaN             NaN   \n",
       "Julius Becker  CorporateSolutions GmbH & Co. KG             NaN   \n",
       "Daniel Vogt                     DataVision GmbH    Kevin Schmid   \n",
       "Paul Richter   CorporateSolutions GmbH & Co. KG             NaN   \n",
       "Tran Linh                                   NaN             NaN   \n",
       "...                                         ...             ...   \n",
       "Annika Schulz                      CityMobil AG  Anna Schneider   \n",
       "Lisa Schulze   CorporateSolutions GmbH & Co. KG             NaN   \n",
       "Clara Sommer    Stadtverwaltung Hintertupfingen   Dilara Yıldız   \n",
       "Kevin Schmid                    DataVision GmbH    Lena Schäfer   \n",
       "Mara Mayer                       InfraTech GmbH             NaN   \n",
       "\n",
       "              Projektzuordnung_Vorschlag Wunschpartner Wahl bekommen  \n",
       "Name                                                                  \n",
       "Nils Dietrich              MegaCorp GmbH           n/a         Keine  \n",
       "Julius Becker             TechWorks GmbH           n/a        Wahl 1  \n",
       "Daniel Vogt        InnoTech Solutions AG            ja        Wahl 1  \n",
       "Paul Richter              TechWorks GmbH           n/a        Wahl 1  \n",
       "Tran Linh          Digital Services GmbH           n/a         Keine  \n",
       "...                                  ...           ...           ...  \n",
       "Annika Schulz           UniConsulting AG            ja        Wahl 1  \n",
       "Lisa Schulze                CityMobil AG           n/a        Wahl 1  \n",
       "Clara Sommer              InfraTech GmbH            ja        Wahl 1  \n",
       "Kevin Schmid       InnoTech Solutions AG            ja        Wahl 1  \n",
       "Mara Mayer               DataVision GmbH           n/a        Wahl 1  \n",
       "\n",
       "[66 rows x 7 columns]"
      ]
     },
     "execution_count": 147,
     "metadata": {},
     "output_type": "execute_result"
    }
   ],
   "source": [
    "df = df.drop(columns=projekte)\n",
    "df"
   ]
  },
  {
   "cell_type": "code",
   "execution_count": 148,
   "metadata": {},
   "outputs": [
    {
     "data": {
      "application/vnd.plotly.v1+json": {
       "config": {
        "plotlyServerURL": "https://plot.ly"
       },
       "data": [
        {
         "alignmentgroup": "True",
         "bingroup": "x",
         "hovertemplate": "Wunschpartner=ja<br>Wahl bekommen=%{x}<br>count=%{y}<extra></extra>",
         "legendgroup": "ja",
         "marker": {
          "color": "rgb(76,114,176)",
          "pattern": {
           "shape": ""
          }
         },
         "name": "ja",
         "offsetgroup": "ja",
         "orientation": "v",
         "showlegend": true,
         "type": "histogram",
         "x": [
          "Wahl 1",
          "Wahl 2",
          "Wahl 1",
          "Wahl 1",
          "Wahl 1",
          "Wahl 3",
          "Wahl 1",
          "Wahl 1",
          "Wahl 1",
          "Wahl 2",
          "Wahl 1",
          "Wahl 1",
          "Wahl 1",
          "Wahl 2",
          "Wahl 1",
          "Wahl 1",
          "Wahl 1",
          "Wahl 1",
          "Wahl 3",
          "Wahl 1",
          "Wahl 1",
          "Wahl 1",
          "Wahl 2",
          "Wahl 3",
          "Wahl 1",
          "Wahl 1",
          "Wahl 1",
          "Wahl 1",
          "Wahl 1",
          "Wahl 1",
          "Wahl 1",
          "Wahl 1",
          "Wahl 1",
          "Wahl 1",
          "Wahl 1",
          "Wahl 1"
         ],
         "xaxis": "x",
         "yaxis": "y"
        },
        {
         "alignmentgroup": "True",
         "bingroup": "x",
         "hovertemplate": "Wunschpartner=n/a<br>Wahl bekommen=%{x}<br>count=%{y}<extra></extra>",
         "legendgroup": "n/a",
         "marker": {
          "color": "rgb(221,132,82)",
          "pattern": {
           "shape": ""
          }
         },
         "name": "n/a",
         "offsetgroup": "n/a",
         "orientation": "v",
         "showlegend": true,
         "type": "histogram",
         "x": [
          "Keine",
          "Wahl 1",
          "Wahl 1",
          "Keine",
          "Wahl 1",
          "Wahl 1",
          "Wahl 1",
          "Wahl 1",
          "Keine",
          "Wahl 1",
          "Wahl 1",
          "Wahl 1",
          "Wahl 1",
          "Wahl 1",
          "Wahl 1",
          "Wahl 1",
          "Wahl 1",
          "Keine",
          "Keine",
          "Keine",
          "Wahl 1",
          "Wahl 1",
          "Wahl 1",
          "Wahl 1",
          "Keine",
          "Keine",
          "Wahl 1",
          "Wahl 1"
         ],
         "xaxis": "x",
         "yaxis": "y"
        },
        {
         "alignmentgroup": "True",
         "bingroup": "x",
         "hovertemplate": "Wunschpartner=nein<br>Wahl bekommen=%{x}<br>count=%{y}<extra></extra>",
         "legendgroup": "nein",
         "marker": {
          "color": "rgb(85,168,104)",
          "pattern": {
           "shape": ""
          }
         },
         "name": "nein",
         "offsetgroup": "nein",
         "orientation": "v",
         "showlegend": true,
         "type": "histogram",
         "x": [
          "Wahl 1",
          "Wahl 2"
         ],
         "xaxis": "x",
         "yaxis": "y"
        }
       ],
       "layout": {
        "barmode": "relative",
        "height": 600,
        "legend": {
         "title": {
          "text": "Wunschpartner"
         },
         "tracegroupgap": 0
        },
        "margin": {
         "t": 60
        },
        "template": {
         "data": {
          "bar": [
           {
            "error_x": {
             "color": "rgb(36,36,36)"
            },
            "error_y": {
             "color": "rgb(36,36,36)"
            },
            "marker": {
             "line": {
              "color": "rgb(234,234,242)",
              "width": 0.5
             },
             "pattern": {
              "fillmode": "overlay",
              "size": 10,
              "solidity": 0.2
             }
            },
            "type": "bar"
           }
          ],
          "barpolar": [
           {
            "marker": {
             "line": {
              "color": "rgb(234,234,242)",
              "width": 0.5
             },
             "pattern": {
              "fillmode": "overlay",
              "size": 10,
              "solidity": 0.2
             }
            },
            "type": "barpolar"
           }
          ],
          "carpet": [
           {
            "aaxis": {
             "endlinecolor": "rgb(36,36,36)",
             "gridcolor": "white",
             "linecolor": "white",
             "minorgridcolor": "white",
             "startlinecolor": "rgb(36,36,36)"
            },
            "baxis": {
             "endlinecolor": "rgb(36,36,36)",
             "gridcolor": "white",
             "linecolor": "white",
             "minorgridcolor": "white",
             "startlinecolor": "rgb(36,36,36)"
            },
            "type": "carpet"
           }
          ],
          "choropleth": [
           {
            "colorbar": {
             "outlinewidth": 0,
             "tickcolor": "rgb(36,36,36)",
             "ticklen": 8,
             "ticks": "outside",
             "tickwidth": 2
            },
            "type": "choropleth"
           }
          ],
          "contour": [
           {
            "colorbar": {
             "outlinewidth": 0,
             "tickcolor": "rgb(36,36,36)",
             "ticklen": 8,
             "ticks": "outside",
             "tickwidth": 2
            },
            "colorscale": [
             [
              0,
              "rgb(2,4,25)"
             ],
             [
              0.06274509803921569,
              "rgb(24,15,41)"
             ],
             [
              0.12549019607843137,
              "rgb(47,23,57)"
             ],
             [
              0.18823529411764706,
              "rgb(71,28,72)"
             ],
             [
              0.25098039215686274,
              "rgb(97,30,82)"
             ],
             [
              0.3137254901960784,
              "rgb(123,30,89)"
             ],
             [
              0.3764705882352941,
              "rgb(150,27,91)"
             ],
             [
              0.4392156862745098,
              "rgb(177,22,88)"
             ],
             [
              0.5019607843137255,
              "rgb(203,26,79)"
             ],
             [
              0.5647058823529412,
              "rgb(223,47,67)"
             ],
             [
              0.6274509803921569,
              "rgb(236,76,61)"
             ],
             [
              0.6901960784313725,
              "rgb(242,107,73)"
             ],
             [
              0.7529411764705882,
              "rgb(244,135,95)"
             ],
             [
              0.8156862745098039,
              "rgb(245,162,122)"
             ],
             [
              0.8784313725490196,
              "rgb(246,188,153)"
             ],
             [
              0.9411764705882353,
              "rgb(247,212,187)"
             ],
             [
              1,
              "rgb(250,234,220)"
             ]
            ],
            "type": "contour"
           }
          ],
          "contourcarpet": [
           {
            "colorbar": {
             "outlinewidth": 0,
             "tickcolor": "rgb(36,36,36)",
             "ticklen": 8,
             "ticks": "outside",
             "tickwidth": 2
            },
            "type": "contourcarpet"
           }
          ],
          "heatmap": [
           {
            "colorbar": {
             "outlinewidth": 0,
             "tickcolor": "rgb(36,36,36)",
             "ticklen": 8,
             "ticks": "outside",
             "tickwidth": 2
            },
            "colorscale": [
             [
              0,
              "rgb(2,4,25)"
             ],
             [
              0.06274509803921569,
              "rgb(24,15,41)"
             ],
             [
              0.12549019607843137,
              "rgb(47,23,57)"
             ],
             [
              0.18823529411764706,
              "rgb(71,28,72)"
             ],
             [
              0.25098039215686274,
              "rgb(97,30,82)"
             ],
             [
              0.3137254901960784,
              "rgb(123,30,89)"
             ],
             [
              0.3764705882352941,
              "rgb(150,27,91)"
             ],
             [
              0.4392156862745098,
              "rgb(177,22,88)"
             ],
             [
              0.5019607843137255,
              "rgb(203,26,79)"
             ],
             [
              0.5647058823529412,
              "rgb(223,47,67)"
             ],
             [
              0.6274509803921569,
              "rgb(236,76,61)"
             ],
             [
              0.6901960784313725,
              "rgb(242,107,73)"
             ],
             [
              0.7529411764705882,
              "rgb(244,135,95)"
             ],
             [
              0.8156862745098039,
              "rgb(245,162,122)"
             ],
             [
              0.8784313725490196,
              "rgb(246,188,153)"
             ],
             [
              0.9411764705882353,
              "rgb(247,212,187)"
             ],
             [
              1,
              "rgb(250,234,220)"
             ]
            ],
            "type": "heatmap"
           }
          ],
          "heatmapgl": [
           {
            "colorbar": {
             "outlinewidth": 0,
             "tickcolor": "rgb(36,36,36)",
             "ticklen": 8,
             "ticks": "outside",
             "tickwidth": 2
            },
            "colorscale": [
             [
              0,
              "rgb(2,4,25)"
             ],
             [
              0.06274509803921569,
              "rgb(24,15,41)"
             ],
             [
              0.12549019607843137,
              "rgb(47,23,57)"
             ],
             [
              0.18823529411764706,
              "rgb(71,28,72)"
             ],
             [
              0.25098039215686274,
              "rgb(97,30,82)"
             ],
             [
              0.3137254901960784,
              "rgb(123,30,89)"
             ],
             [
              0.3764705882352941,
              "rgb(150,27,91)"
             ],
             [
              0.4392156862745098,
              "rgb(177,22,88)"
             ],
             [
              0.5019607843137255,
              "rgb(203,26,79)"
             ],
             [
              0.5647058823529412,
              "rgb(223,47,67)"
             ],
             [
              0.6274509803921569,
              "rgb(236,76,61)"
             ],
             [
              0.6901960784313725,
              "rgb(242,107,73)"
             ],
             [
              0.7529411764705882,
              "rgb(244,135,95)"
             ],
             [
              0.8156862745098039,
              "rgb(245,162,122)"
             ],
             [
              0.8784313725490196,
              "rgb(246,188,153)"
             ],
             [
              0.9411764705882353,
              "rgb(247,212,187)"
             ],
             [
              1,
              "rgb(250,234,220)"
             ]
            ],
            "type": "heatmapgl"
           }
          ],
          "histogram": [
           {
            "marker": {
             "pattern": {
              "fillmode": "overlay",
              "size": 10,
              "solidity": 0.2
             }
            },
            "type": "histogram"
           }
          ],
          "histogram2d": [
           {
            "colorbar": {
             "outlinewidth": 0,
             "tickcolor": "rgb(36,36,36)",
             "ticklen": 8,
             "ticks": "outside",
             "tickwidth": 2
            },
            "colorscale": [
             [
              0,
              "rgb(2,4,25)"
             ],
             [
              0.06274509803921569,
              "rgb(24,15,41)"
             ],
             [
              0.12549019607843137,
              "rgb(47,23,57)"
             ],
             [
              0.18823529411764706,
              "rgb(71,28,72)"
             ],
             [
              0.25098039215686274,
              "rgb(97,30,82)"
             ],
             [
              0.3137254901960784,
              "rgb(123,30,89)"
             ],
             [
              0.3764705882352941,
              "rgb(150,27,91)"
             ],
             [
              0.4392156862745098,
              "rgb(177,22,88)"
             ],
             [
              0.5019607843137255,
              "rgb(203,26,79)"
             ],
             [
              0.5647058823529412,
              "rgb(223,47,67)"
             ],
             [
              0.6274509803921569,
              "rgb(236,76,61)"
             ],
             [
              0.6901960784313725,
              "rgb(242,107,73)"
             ],
             [
              0.7529411764705882,
              "rgb(244,135,95)"
             ],
             [
              0.8156862745098039,
              "rgb(245,162,122)"
             ],
             [
              0.8784313725490196,
              "rgb(246,188,153)"
             ],
             [
              0.9411764705882353,
              "rgb(247,212,187)"
             ],
             [
              1,
              "rgb(250,234,220)"
             ]
            ],
            "type": "histogram2d"
           }
          ],
          "histogram2dcontour": [
           {
            "colorbar": {
             "outlinewidth": 0,
             "tickcolor": "rgb(36,36,36)",
             "ticklen": 8,
             "ticks": "outside",
             "tickwidth": 2
            },
            "colorscale": [
             [
              0,
              "rgb(2,4,25)"
             ],
             [
              0.06274509803921569,
              "rgb(24,15,41)"
             ],
             [
              0.12549019607843137,
              "rgb(47,23,57)"
             ],
             [
              0.18823529411764706,
              "rgb(71,28,72)"
             ],
             [
              0.25098039215686274,
              "rgb(97,30,82)"
             ],
             [
              0.3137254901960784,
              "rgb(123,30,89)"
             ],
             [
              0.3764705882352941,
              "rgb(150,27,91)"
             ],
             [
              0.4392156862745098,
              "rgb(177,22,88)"
             ],
             [
              0.5019607843137255,
              "rgb(203,26,79)"
             ],
             [
              0.5647058823529412,
              "rgb(223,47,67)"
             ],
             [
              0.6274509803921569,
              "rgb(236,76,61)"
             ],
             [
              0.6901960784313725,
              "rgb(242,107,73)"
             ],
             [
              0.7529411764705882,
              "rgb(244,135,95)"
             ],
             [
              0.8156862745098039,
              "rgb(245,162,122)"
             ],
             [
              0.8784313725490196,
              "rgb(246,188,153)"
             ],
             [
              0.9411764705882353,
              "rgb(247,212,187)"
             ],
             [
              1,
              "rgb(250,234,220)"
             ]
            ],
            "type": "histogram2dcontour"
           }
          ],
          "mesh3d": [
           {
            "colorbar": {
             "outlinewidth": 0,
             "tickcolor": "rgb(36,36,36)",
             "ticklen": 8,
             "ticks": "outside",
             "tickwidth": 2
            },
            "type": "mesh3d"
           }
          ],
          "parcoords": [
           {
            "line": {
             "colorbar": {
              "outlinewidth": 0,
              "tickcolor": "rgb(36,36,36)",
              "ticklen": 8,
              "ticks": "outside",
              "tickwidth": 2
             }
            },
            "type": "parcoords"
           }
          ],
          "pie": [
           {
            "automargin": true,
            "type": "pie"
           }
          ],
          "scatter": [
           {
            "fillpattern": {
             "fillmode": "overlay",
             "size": 10,
             "solidity": 0.2
            },
            "type": "scatter"
           }
          ],
          "scatter3d": [
           {
            "line": {
             "colorbar": {
              "outlinewidth": 0,
              "tickcolor": "rgb(36,36,36)",
              "ticklen": 8,
              "ticks": "outside",
              "tickwidth": 2
             }
            },
            "marker": {
             "colorbar": {
              "outlinewidth": 0,
              "tickcolor": "rgb(36,36,36)",
              "ticklen": 8,
              "ticks": "outside",
              "tickwidth": 2
             }
            },
            "type": "scatter3d"
           }
          ],
          "scattercarpet": [
           {
            "marker": {
             "colorbar": {
              "outlinewidth": 0,
              "tickcolor": "rgb(36,36,36)",
              "ticklen": 8,
              "ticks": "outside",
              "tickwidth": 2
             }
            },
            "type": "scattercarpet"
           }
          ],
          "scattergeo": [
           {
            "marker": {
             "colorbar": {
              "outlinewidth": 0,
              "tickcolor": "rgb(36,36,36)",
              "ticklen": 8,
              "ticks": "outside",
              "tickwidth": 2
             }
            },
            "type": "scattergeo"
           }
          ],
          "scattergl": [
           {
            "marker": {
             "colorbar": {
              "outlinewidth": 0,
              "tickcolor": "rgb(36,36,36)",
              "ticklen": 8,
              "ticks": "outside",
              "tickwidth": 2
             }
            },
            "type": "scattergl"
           }
          ],
          "scattermapbox": [
           {
            "marker": {
             "colorbar": {
              "outlinewidth": 0,
              "tickcolor": "rgb(36,36,36)",
              "ticklen": 8,
              "ticks": "outside",
              "tickwidth": 2
             }
            },
            "type": "scattermapbox"
           }
          ],
          "scatterpolar": [
           {
            "marker": {
             "colorbar": {
              "outlinewidth": 0,
              "tickcolor": "rgb(36,36,36)",
              "ticklen": 8,
              "ticks": "outside",
              "tickwidth": 2
             }
            },
            "type": "scatterpolar"
           }
          ],
          "scatterpolargl": [
           {
            "marker": {
             "colorbar": {
              "outlinewidth": 0,
              "tickcolor": "rgb(36,36,36)",
              "ticklen": 8,
              "ticks": "outside",
              "tickwidth": 2
             }
            },
            "type": "scatterpolargl"
           }
          ],
          "scatterternary": [
           {
            "marker": {
             "colorbar": {
              "outlinewidth": 0,
              "tickcolor": "rgb(36,36,36)",
              "ticklen": 8,
              "ticks": "outside",
              "tickwidth": 2
             }
            },
            "type": "scatterternary"
           }
          ],
          "surface": [
           {
            "colorbar": {
             "outlinewidth": 0,
             "tickcolor": "rgb(36,36,36)",
             "ticklen": 8,
             "ticks": "outside",
             "tickwidth": 2
            },
            "colorscale": [
             [
              0,
              "rgb(2,4,25)"
             ],
             [
              0.06274509803921569,
              "rgb(24,15,41)"
             ],
             [
              0.12549019607843137,
              "rgb(47,23,57)"
             ],
             [
              0.18823529411764706,
              "rgb(71,28,72)"
             ],
             [
              0.25098039215686274,
              "rgb(97,30,82)"
             ],
             [
              0.3137254901960784,
              "rgb(123,30,89)"
             ],
             [
              0.3764705882352941,
              "rgb(150,27,91)"
             ],
             [
              0.4392156862745098,
              "rgb(177,22,88)"
             ],
             [
              0.5019607843137255,
              "rgb(203,26,79)"
             ],
             [
              0.5647058823529412,
              "rgb(223,47,67)"
             ],
             [
              0.6274509803921569,
              "rgb(236,76,61)"
             ],
             [
              0.6901960784313725,
              "rgb(242,107,73)"
             ],
             [
              0.7529411764705882,
              "rgb(244,135,95)"
             ],
             [
              0.8156862745098039,
              "rgb(245,162,122)"
             ],
             [
              0.8784313725490196,
              "rgb(246,188,153)"
             ],
             [
              0.9411764705882353,
              "rgb(247,212,187)"
             ],
             [
              1,
              "rgb(250,234,220)"
             ]
            ],
            "type": "surface"
           }
          ],
          "table": [
           {
            "cells": {
             "fill": {
              "color": "rgb(231,231,240)"
             },
             "line": {
              "color": "white"
             }
            },
            "header": {
             "fill": {
              "color": "rgb(183,183,191)"
             },
             "line": {
              "color": "white"
             }
            },
            "type": "table"
           }
          ]
         },
         "layout": {
          "annotationdefaults": {
           "arrowcolor": "rgb(67,103,167)"
          },
          "autotypenumbers": "strict",
          "coloraxis": {
           "colorbar": {
            "outlinewidth": 0,
            "tickcolor": "rgb(36,36,36)",
            "ticklen": 8,
            "ticks": "outside",
            "tickwidth": 2
           }
          },
          "colorscale": {
           "sequential": [
            [
             0,
             "rgb(2,4,25)"
            ],
            [
             0.06274509803921569,
             "rgb(24,15,41)"
            ],
            [
             0.12549019607843137,
             "rgb(47,23,57)"
            ],
            [
             0.18823529411764706,
             "rgb(71,28,72)"
            ],
            [
             0.25098039215686274,
             "rgb(97,30,82)"
            ],
            [
             0.3137254901960784,
             "rgb(123,30,89)"
            ],
            [
             0.3764705882352941,
             "rgb(150,27,91)"
            ],
            [
             0.4392156862745098,
             "rgb(177,22,88)"
            ],
            [
             0.5019607843137255,
             "rgb(203,26,79)"
            ],
            [
             0.5647058823529412,
             "rgb(223,47,67)"
            ],
            [
             0.6274509803921569,
             "rgb(236,76,61)"
            ],
            [
             0.6901960784313725,
             "rgb(242,107,73)"
            ],
            [
             0.7529411764705882,
             "rgb(244,135,95)"
            ],
            [
             0.8156862745098039,
             "rgb(245,162,122)"
            ],
            [
             0.8784313725490196,
             "rgb(246,188,153)"
            ],
            [
             0.9411764705882353,
             "rgb(247,212,187)"
            ],
            [
             1,
             "rgb(250,234,220)"
            ]
           ],
           "sequentialminus": [
            [
             0,
             "rgb(2,4,25)"
            ],
            [
             0.06274509803921569,
             "rgb(24,15,41)"
            ],
            [
             0.12549019607843137,
             "rgb(47,23,57)"
            ],
            [
             0.18823529411764706,
             "rgb(71,28,72)"
            ],
            [
             0.25098039215686274,
             "rgb(97,30,82)"
            ],
            [
             0.3137254901960784,
             "rgb(123,30,89)"
            ],
            [
             0.3764705882352941,
             "rgb(150,27,91)"
            ],
            [
             0.4392156862745098,
             "rgb(177,22,88)"
            ],
            [
             0.5019607843137255,
             "rgb(203,26,79)"
            ],
            [
             0.5647058823529412,
             "rgb(223,47,67)"
            ],
            [
             0.6274509803921569,
             "rgb(236,76,61)"
            ],
            [
             0.6901960784313725,
             "rgb(242,107,73)"
            ],
            [
             0.7529411764705882,
             "rgb(244,135,95)"
            ],
            [
             0.8156862745098039,
             "rgb(245,162,122)"
            ],
            [
             0.8784313725490196,
             "rgb(246,188,153)"
            ],
            [
             0.9411764705882353,
             "rgb(247,212,187)"
            ],
            [
             1,
             "rgb(250,234,220)"
            ]
           ]
          },
          "colorway": [
           "rgb(76,114,176)",
           "rgb(221,132,82)",
           "rgb(85,168,104)",
           "rgb(196,78,82)",
           "rgb(129,114,179)",
           "rgb(147,120,96)",
           "rgb(218,139,195)",
           "rgb(140,140,140)",
           "rgb(204,185,116)",
           "rgb(100,181,205)"
          ],
          "font": {
           "color": "rgb(36,36,36)"
          },
          "geo": {
           "bgcolor": "white",
           "lakecolor": "white",
           "landcolor": "rgb(234,234,242)",
           "showlakes": true,
           "showland": true,
           "subunitcolor": "white"
          },
          "hoverlabel": {
           "align": "left"
          },
          "hovermode": "closest",
          "paper_bgcolor": "white",
          "plot_bgcolor": "rgb(234,234,242)",
          "polar": {
           "angularaxis": {
            "gridcolor": "white",
            "linecolor": "white",
            "showgrid": true,
            "ticks": ""
           },
           "bgcolor": "rgb(234,234,242)",
           "radialaxis": {
            "gridcolor": "white",
            "linecolor": "white",
            "showgrid": true,
            "ticks": ""
           }
          },
          "scene": {
           "xaxis": {
            "backgroundcolor": "rgb(234,234,242)",
            "gridcolor": "white",
            "gridwidth": 2,
            "linecolor": "white",
            "showbackground": true,
            "showgrid": true,
            "ticks": "",
            "zerolinecolor": "white"
           },
           "yaxis": {
            "backgroundcolor": "rgb(234,234,242)",
            "gridcolor": "white",
            "gridwidth": 2,
            "linecolor": "white",
            "showbackground": true,
            "showgrid": true,
            "ticks": "",
            "zerolinecolor": "white"
           },
           "zaxis": {
            "backgroundcolor": "rgb(234,234,242)",
            "gridcolor": "white",
            "gridwidth": 2,
            "linecolor": "white",
            "showbackground": true,
            "showgrid": true,
            "ticks": "",
            "zerolinecolor": "white"
           }
          },
          "shapedefaults": {
           "fillcolor": "rgb(67,103,167)",
           "line": {
            "width": 0
           },
           "opacity": 0.5
          },
          "ternary": {
           "aaxis": {
            "gridcolor": "white",
            "linecolor": "white",
            "showgrid": true,
            "ticks": ""
           },
           "baxis": {
            "gridcolor": "white",
            "linecolor": "white",
            "showgrid": true,
            "ticks": ""
           },
           "bgcolor": "rgb(234,234,242)",
           "caxis": {
            "gridcolor": "white",
            "linecolor": "white",
            "showgrid": true,
            "ticks": ""
           }
          },
          "xaxis": {
           "automargin": true,
           "gridcolor": "white",
           "linecolor": "white",
           "showgrid": true,
           "ticks": "",
           "title": {
            "standoff": 15
           },
           "zerolinecolor": "white"
          },
          "yaxis": {
           "automargin": true,
           "gridcolor": "white",
           "linecolor": "white",
           "showgrid": true,
           "ticks": "",
           "title": {
            "standoff": 15
           },
           "zerolinecolor": "white"
          }
         }
        },
        "xaxis": {
         "anchor": "y",
         "categoryarray": [
          "Wahl 1",
          "Wahl 2",
          "Wahl 3",
          "Keine"
         ],
         "categoryorder": "array",
         "domain": [
          0,
          1
         ],
         "title": {
          "text": "Wahl bekommen"
         }
        },
        "yaxis": {
         "anchor": "x",
         "domain": [
          0,
          1
         ],
         "title": {
          "text": "count"
         }
        }
       }
      }
     },
     "metadata": {},
     "output_type": "display_data"
    }
   ],
   "source": [
    "import plotly.io as pio\n",
    "import plotly.express as px\n",
    "pio.templates.default = \"seaborn\"\n",
    "\n",
    "px.histogram(data_frame=df, x=\"Wahl bekommen\", color=\"Wunschpartner\", category_orders={\"Wahl bekommen\": [\"Wahl 1\", \"Wahl 2\", \"Wahl 3\", \"Keine\"],\n",
    "                                                                                       \"Wunschpartner\": [\"ja\", \"n/a\", \"nein\"]}, height=600)"
   ]
  },
  {
   "cell_type": "markdown",
   "metadata": {},
   "source": [
    "## Aufgaben\n",
    "\n",
    "1. Gehen Sie die MILP-Formulierung durch und versuchen Sie, die einzelnen Constraint-Formulierungen nachzuvollziehen.\n",
    "2. Modifizieren Sie das Modell. Versetzen Sie sich dazu in die Situation eines der Teilnehmer. \n",
    "    1. Wie wichtig ist es ihnen, mit ihrem Wunschpartner zusammenzuarbeiten vs. an ihrem Wunschprojekt zu arbeiten? Wie ist dies im Moment im Modell gewichtet?\n",
    "    2. Sollten Teilnehmer, die keinen Partner angeben, immer ihr Wunschprojekt (Wahl 1) bekommen? \n",
    "        1. Ist dies überhaupt immer, d.h. bei allen denkbaren Kombinationen von Wunschprojekten, möglich? (Wenn ja: Begründung, wenn nein: Gegenbeispiel)\n",
    "        2. Entfernen Sie die entsprechende Constraint aus dem Problem. Ändert sich die Lösung?\n",
    "    3. Optimieren Sie die Gesamtpunktzahl anstelle der Punktzahl des Studierenden mit der minimalen Punktzahl. Gibt es nun einen Studierenden mit einer kleineren Punktzahl als vorher?\n",
    "3. Gibt es weitere Aspekte, die sie bei der Optimierung mit einbeziehen würden, ggf. auch durch Erhebung weiterer Daten, zusätzlich zu Wahl 1, Wahl 2, Wahl 3 und Wunschpartner?"
   ]
  }
 ],
 "metadata": {
  "kernelspec": {
   "display_name": "Python 3",
   "language": "python",
   "name": "python3"
  },
  "language_info": {
   "codemirror_mode": {
    "name": "ipython",
    "version": 3
   },
   "file_extension": ".py",
   "mimetype": "text/x-python",
   "name": "python",
   "nbconvert_exporter": "python",
   "pygments_lexer": "ipython3",
   "version": "3.10.12"
  }
 },
 "nbformat": 4,
 "nbformat_minor": 2
}
