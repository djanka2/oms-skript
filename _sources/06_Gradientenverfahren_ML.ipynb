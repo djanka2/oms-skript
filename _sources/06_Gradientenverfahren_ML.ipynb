{
 "cells": [
  {
   "cell_type": "markdown",
   "id": "fb3b7f0b",
   "metadata": {},
   "source": [
    "(sec:ml)=\n",
    "# Gradientenverfahren im maschinellen Lernen\n",
    "\n",
    "## Optimierungsprobleme im maschinellen Lernen\n",
    "\n",
    "## Was ist anders beim Optimieren von Verlustfunktionen?\n",
    "### Wahrscheinlichkeitstheoretische Überlegungen\n",
    "### Overfitting und Regularisierung\n",
    "### Eigenschaften der Verlustfunktion\n",
    "\n",
    "\n",
    "## Stochastischer Gradientenabstieg\n",
    "% MLRefined A.5\n",
    "## Neuronale Netze\n",
    "## Gradientenverfahren revisited: Adaptive Schrittweiten\n",
    "% MLRefined A.4\n",
    "## Backpropagation revisited: Ableitungen neuronaler Netze"
   ]
  }
 ],
 "metadata": {
  "jupytext": {
   "formats": "md:myst",
   "text_representation": {
    "extension": ".md",
    "format_name": "myst"
   }
  },
  "kernelspec": {
   "display_name": "Python 3",
   "language": "python",
   "name": "python3"
  },
  "language_info": {
   "codemirror_mode": {
    "name": "ipython",
    "version": 3
   },
   "file_extension": ".py",
   "mimetype": "text/x-python",
   "name": "python",
   "nbconvert_exporter": "python",
   "pygments_lexer": "ipython3",
   "version": "3.9.6"
  },
  "source_map": [
   11
  ]
 },
 "nbformat": 4,
 "nbformat_minor": 5
}