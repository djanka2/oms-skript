{
 "cells": [
  {
   "cell_type": "markdown",
   "id": "f113b4a8",
   "metadata": {},
   "source": [
    "(sec:ml)=\n",
    "# Optimierung im maschinellen Lernen\n",
    "\n",
    "## Überwachtes Lernen\n",
    "\n",
    "## Besonderheiten beim Optimieren von Verlustfunktionen\n",
    "### Wahrscheinlichkeitstheoretische Überlegungen\n",
    "### Overfitting und Regularisierung\n",
    "### Eigenschaften der Verlustfunktion\n",
    "Summe über Trainingsdaten\n",
    "Man möchte nicht \"zu gut\" werden\n",
    "Dimension(en): N und p=n groß?\n",
    "\n",
    "## Stochastischer Gradientenabstieg\n",
    "% MLRefined A.5\n",
    "\n",
    "## Neuronale Netze\n",
    "\n",
    "## Verschwindende Gradienten\n",
    "\n",
    "## Gradientenverfahren revisited: Adaptive Schrittweiten\n",
    "% MLRefined A.4\n",
    "\n",
    "## Backpropagation revisited: Ableitungen neuronaler Netze"
   ]
  }
 ],
 "metadata": {
  "jupytext": {
   "formats": "md:myst",
   "text_representation": {
    "extension": ".md",
    "format_name": "myst"
   }
  },
  "kernelspec": {
   "display_name": "Python 3",
   "language": "python",
   "name": "python3"
  },
  "language_info": {
   "codemirror_mode": {
    "name": "ipython",
    "version": 3
   },
   "file_extension": ".py",
   "mimetype": "text/x-python",
   "name": "python",
   "nbconvert_exporter": "python",
   "pygments_lexer": "ipython3",
   "version": "3.9.6"
  },
  "source_map": [
   11
  ]
 },
 "nbformat": 4,
 "nbformat_minor": 5
}