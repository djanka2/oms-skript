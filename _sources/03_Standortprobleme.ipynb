{
 "cells": [
  {
   "cell_type": "markdown",
   "metadata": {},
   "source": [
    "# Anwendung: Standortprobleme\n"
   ]
  },
  {
   "cell_type": "markdown",
   "metadata": {},
   "source": [
    "Standortprobleme (*Facility location problems*) sind eine reichhaltige Klasse von Problemen, bei denen gemischt-ganzzahlige lineare Optimierung eingesetzt wird. Es gibt unzählige Varianten von Standortproblemen. Normalerweise werden dabei für mögliche Standorte von Fabriken/Lagern/Stationen/Burrito-Trucks/... folgende binäre Entscheidungen optimiert:\n",
    "\n",
    "*Soll ich eine Fabrik/Lager/Station/Burrito-Truck/... an Position $i$ bauen/öffnen (ja/nein)?*\n",
    "\n",
    "Die Zielfunktion und Nebenbedingungen unterscheiden sich dabei jeweils\n",
    "\n",
    "Wir stellen hier exemplarische einige vor, bei denen wir auf Modellierungstricks der vorherigen Kapitel zurückgreifen können.\n",
    "\n",
    "## Transportproblem mit Fixkosten\n",
    "Wir schauen uns noch einmal das Transportproblem aus Übung 2 an, der eine Brauerei kostenminimal Bier von drei Produktionsstandorten zu fünf\n",
    "Großkunden transportieren möche. In dem Modell fielen nur variable Kosten für den Transport an. Bei dieser Erweiterung des Transportmodells geht es nun darum, auch Fixkosten zu modellieren, die anfallen, sobald eine Fabrik überhaupt produziert.\n",
    "\n",
    "Die maximal lieferbare Menge pro Produktionsstandort sowie die Fixkosten sind wie folgt:\n",
    "\n",
    "| Produktionsstandort   | Kapazität                     | Fixkosten\n",
    "|---                    |---                            |---\n",
    "| Oettingen             | 1000                          | 2000\n",
    "| Mönchengladbach       | 1000                          | 3000\n",
    "| Braunschweig          | 1000                          | 4000\n",
    "\n",
    "Die Bedarfe der Kunden sind gegeben durch\n",
    "| Kunde     | Bedarf    |\n",
    "|---        |---        |\n",
    "| Kunde 1   | 270       |\n",
    "| Kunde 2   | 270       |\n",
    "| Kunde 3   | 250       |\n",
    "| Kunde 4   | 160       |\n",
    "| Kunde 5   | 180       |\n",
    "\n",
    "Es fallen Kosten für den Transport pro Einheit an, abhängig von Start und Ziel. Diese sind\n",
    "|                       | Kunde 1   | Kunde 2   | Kunde 3   | Kunde 4   | Kunde 5   |\n",
    "|---                    |---        |---        |---        |---        |---        |\n",
    "| Oettingen             | 4         | 5         | 6         | 8         | 10        |\n",
    "| Mönchengladbach       | 6         | 4         | 3         | 5         | 8         |\n",
    "| Braunschweig          | 9         | 7         | 4         | 2         | 4         |\n",
    "\n",
    "Wir nehmen unser bewährtes Vorgehen, um das Modell zu lösen:\n",
    "1. Indexmengen und Problemdaten\n",
    "2. Variablen\n",
    "3. Zielfunktion\n",
    "4. Constraints\n",
    "\n",
    "### Indexmengen und Problemdaten\n",
    "Wir definieren zunächst Indexmengen und die Produktionskapazitäten, Fixkosten, Bedarfe und Transportkosten."
   ]
  },
  {
   "cell_type": "code",
   "execution_count": 111,
   "metadata": {},
   "outputs": [],
   "source": [
    "import pandas as pd\n",
    "\n",
    "standorte = [\"Oettingen\",\"Mönchengladbach\",\"Braunschweig\"]\n",
    "kunden = [f\"Kunde {i}\" for i in range(1,6)]\n",
    "\n",
    "produktion = pd.DataFrame({\"Kapazität\":[1000.,1000,1000], \n",
    "                           \"Fixkosten\":[2000.,3000,4000]}, \n",
    "                           index=standorte)\n",
    "\n",
    "bedarfe = pd.DataFrame({\"Bedarf\":[270.,270,250,160,180]},\n",
    "                       index=kunden)\n",
    "\n",
    "kosten = pd.DataFrame.from_records([(4.,5.,6.,8.,10.),(6,4,3,5,8),(9,7,4,2,4)], \n",
    "                          index=standorte, columns=kunden)"
   ]
  },
  {
   "cell_type": "markdown",
   "metadata": {},
   "source": [
    "### Entscheidungsvariablen\n",
    "Als Entscheidungsvariablen definieren wir\n",
    "1. Entscheidung, ob an einem Standort produziert werden soll:\n",
    "\n",
    "    $$\n",
    "    x_i=\\left\\{\\begin{array}{rl}\n",
    "        1 & \\text{, produziere an Standort }i \\\\\n",
    "        0 & \\text{, produziere nicht an Standort }i\n",
    "        \\end{array}\\right.,\\quad \\forall i \\in \\text{Standorte}\n",
    "    $$\n",
    "\n",
    "2. Menge an Bier, das von Standort $i$ zu Kunde $j$ transportiert wird:\n",
    "\n",
    "    $$\n",
    "    flow_{i,j}\\in\\R, \\quad \\forall i\\in \\text{Standorte}, \\forall j\\in \\text{Kunden}\n",
    "    $$"
   ]
  },
  {
   "cell_type": "code",
   "execution_count": 112,
   "metadata": {},
   "outputs": [],
   "source": [
    "import gurobipy as gp\n",
    "from gurobipy import GRB\n",
    "\n",
    "m = gp.Model(\"Transportproblem mit Fixkosten\")\n",
    "\n",
    "x = m.addVars(standorte, vtype=GRB.BINARY)\n",
    "flow = m.addVars(standorte, kunden, vtype=GRB.CONTINUOUS)\n"
   ]
  },
  {
   "cell_type": "markdown",
   "metadata": {},
   "source": [
    "### Zielfunktion\n",
    "Ziel ist es, die Kosten zu minimieren. Diese setzen sich zusammen auf den Fixkosten, die anfallen, wenn der Standort produziert, also $x_i=1$ ist und den variablen Kosten, die je nach Menge anfallen."
   ]
  },
  {
   "cell_type": "code",
   "execution_count": 113,
   "metadata": {},
   "outputs": [],
   "source": [
    "m.setObjective(gp.quicksum(x[i]*produktion.loc[i,\"Fixkosten\"] for i in standorte) + \n",
    "               gp.quicksum(flow[i,j]*kosten.loc[i,j] for i in standorte for j in kunden), GRB.MINIMIZE)"
   ]
  },
  {
   "cell_type": "markdown",
   "metadata": {},
   "source": [
    "### Constraints\n",
    "\n",
    "Wir haben folgende Constraints:\n",
    "1. Die Produktionskapazitäten müssen eingehalten werden. Wenn $x_i=0$, darf nichts produziert werden.\n",
    "\n",
    "    $$\n",
    "    \\sum_{j\\in\\text{Kunden}} flow_{i,j}\\leq x_i\\cdot \\text{Kapazität}_i,\\quad \\forall i\\in\\text{Standorte}\n",
    "    $$\n",
    "\n",
    "2. Die Bedarfe müssen gedeckt sein:\n",
    "\n",
    "    $$\n",
    "    \\sum_{i\\in\\text{Standorte}} flow_{i,j}= \\text{Bedarf}_j,\\quad \\forall j\\in\\text{Kunden}\n",
    "    $$\n",
    "\n",
    "Danach lösen wir das Modell."
   ]
  },
  {
   "cell_type": "code",
   "execution_count": 114,
   "metadata": {},
   "outputs": [
    {
     "name": "stderr",
     "output_type": "stream",
     "text": [
      "/tmp/ipykernel_185811/1360454537.py:2: FutureWarning:\n",
      "\n",
      "Calling float on a single element Series is deprecated and will raise a TypeError in the future. Use float(ser.iloc[0]) instead\n",
      "\n"
     ]
    }
   ],
   "source": [
    "kapa_constr = m.addConstrs((gp.quicksum(flow[i,j] for j in kunden) <= x[i]*produktion.loc[i,\"Kapazität\"] for i in standorte))\n",
    "bedarf_constr = m.addConstrs((gp.quicksum(flow[i,j] for i in standorte) == bedarfe.loc[j] for j in kunden))"
   ]
  },
  {
   "cell_type": "code",
   "execution_count": 115,
   "metadata": {},
   "outputs": [
    {
     "name": "stdout",
     "output_type": "stream",
     "text": [
      "Gurobi Optimizer version 11.0.1 build v11.0.1rc0 (linux64 - \"Linux Mint 21.3\")\n",
      "\n",
      "CPU model: 11th Gen Intel(R) Core(TM) i5-1145G7 @ 2.60GHz, instruction set [SSE2|AVX|AVX2|AVX512]\n",
      "Thread count: 4 physical cores, 8 logical processors, using up to 8 threads\n",
      "\n",
      "Optimize a model with 8 rows, 18 columns and 33 nonzeros\n",
      "Model fingerprint: 0x449f6b05\n",
      "Variable types: 15 continuous, 3 integer (3 binary)\n",
      "Coefficient statistics:\n",
      "  Matrix range     [1e+00, 1e+03]\n",
      "  Objective range  [2e+00, 4e+03]\n",
      "  Bounds range     [1e+00, 1e+00]\n",
      "  RHS range        [2e+02, 3e+02]\n",
      "Presolve time: 0.00s\n",
      "Presolved: 8 rows, 18 columns, 33 nonzeros\n",
      "Variable types: 15 continuous, 3 integer (3 binary)\n",
      "Found heuristic solution: objective 12950.000000\n",
      "\n",
      "Root relaxation: objective 7.410000e+03, 4 iterations, 0.00 seconds (0.00 work units)\n",
      "\n",
      "    Nodes    |    Current Node    |     Objective Bounds      |     Work\n",
      " Expl Unexpl |  Obj  Depth IntInf | Incumbent    BestBd   Gap | It/Node Time\n",
      "\n",
      "     0     0 7410.00000    0    3 12950.0000 7410.00000  42.8%     -    0s\n",
      "H    0     0                    11490.000000 7410.00000  35.5%     -    0s\n",
      "H    0     0                    10150.000000 7410.00000  27.0%     -    0s\n",
      "     0     0 10150.0000    0    2 10150.0000 10150.0000  0.00%     -    0s\n",
      "\n",
      "Cutting planes:\n",
      "  Gomory: 2\n",
      "  Implied bound: 1\n",
      "\n",
      "Explored 1 nodes (7 simplex iterations) in 0.01 seconds (0.00 work units)\n",
      "Thread count was 8 (of 8 available processors)\n",
      "\n",
      "Solution count 3: 10150 11490 12950 \n",
      "\n",
      "Optimal solution found (tolerance 1.00e-04)\n",
      "Best objective 1.015000000000e+04, best bound 1.015000000000e+04, gap 0.0000%\n"
     ]
    }
   ],
   "source": [
    "m.optimize()"
   ]
  },
  {
   "cell_type": "code",
   "execution_count": 116,
   "metadata": {},
   "outputs": [
    {
     "data": {
      "text/html": [
       "<div>\n",
       "<style scoped>\n",
       "    .dataframe tbody tr th:only-of-type {\n",
       "        vertical-align: middle;\n",
       "    }\n",
       "\n",
       "    .dataframe tbody tr th {\n",
       "        vertical-align: top;\n",
       "    }\n",
       "\n",
       "    .dataframe thead th {\n",
       "        text-align: right;\n",
       "    }\n",
       "</style>\n",
       "<table border=\"1\" class=\"dataframe\">\n",
       "  <thead>\n",
       "    <tr style=\"text-align: right;\">\n",
       "      <th></th>\n",
       "      <th>From</th>\n",
       "      <th>To</th>\n",
       "      <th>Flow</th>\n",
       "    </tr>\n",
       "  </thead>\n",
       "  <tbody>\n",
       "    <tr>\n",
       "      <th>0</th>\n",
       "      <td>Oettingen</td>\n",
       "      <td>Kunde 1</td>\n",
       "      <td>270.0</td>\n",
       "    </tr>\n",
       "    <tr>\n",
       "      <th>1</th>\n",
       "      <td>Mönchengladbach</td>\n",
       "      <td>Kunde 2</td>\n",
       "      <td>270.0</td>\n",
       "    </tr>\n",
       "    <tr>\n",
       "      <th>2</th>\n",
       "      <td>Mönchengladbach</td>\n",
       "      <td>Kunde 3</td>\n",
       "      <td>250.0</td>\n",
       "    </tr>\n",
       "    <tr>\n",
       "      <th>3</th>\n",
       "      <td>Mönchengladbach</td>\n",
       "      <td>Kunde 4</td>\n",
       "      <td>160.0</td>\n",
       "    </tr>\n",
       "    <tr>\n",
       "      <th>4</th>\n",
       "      <td>Mönchengladbach</td>\n",
       "      <td>Kunde 5</td>\n",
       "      <td>180.0</td>\n",
       "    </tr>\n",
       "  </tbody>\n",
       "</table>\n",
       "</div>"
      ],
      "text/plain": [
       "              From       To   Flow\n",
       "0        Oettingen  Kunde 1  270.0\n",
       "1  Mönchengladbach  Kunde 2  270.0\n",
       "2  Mönchengladbach  Kunde 3  250.0\n",
       "3  Mönchengladbach  Kunde 4  160.0\n",
       "4  Mönchengladbach  Kunde 5  180.0"
      ]
     },
     "execution_count": 116,
     "metadata": {},
     "output_type": "execute_result"
    }
   ],
   "source": [
    "product_flow = []\n",
    "for i in standorte:\n",
    "    for j in kunden:\n",
    "        if flow[i,j].x > 1e-6:\n",
    "            product_flow.append({\"From\": i, \"To\": j, \"Flow\": flow[i,j].x})\n",
    "product_flow = pd.DataFrame(product_flow)\n",
    "product_flow"
   ]
  },
  {
   "cell_type": "markdown",
   "metadata": {},
   "source": [
    "Wir sehen, dass es insgesamt günstiger ist, einen Produktionsstandort (Braunschweig) nicht zu verwenden, um die Fixkosten zu sparen."
   ]
  },
  {
   "cell_type": "markdown",
   "metadata": {},
   "source": [
    "## Möglichst weit verteilte Standorte ($p$-Dispersionsproblem)\n",
    "Ein Unternehmen plant, 5 Geschäfte in einer Region zu eröffnen. Um die Selbstkonkurrenz zu minimieren, möchte es unter gegebenen möglichen Standorten diejenigen auswählen, bei denen die kleinste Distanz zwischen zwei beliebigen Geschäften maximal wird. Es handelt sich also um ein $\\max \\min$ Problem, allerdings ist die Menge, über die das Minimum gebildet wird -- die Standortpaare -- noch nicht bekannt.\n",
    "\n",
    "### Indexmengen und Problemdaten\n",
    "Wir erzeugen und zufällig 25 Standorte von denen der Optimierer 5 auswählen soll, so dass die kleinste Distanz möglichst groß ist (die also möglichst \"weit verteilt\" sind). Die Distanzen zu den Koordinaten erzeugen wir automatisch mit dem Befehl `distance_matrix` aus dem `scipy.spatial` Paket. Die Distanz zwischen Standort $i$ und Standort $j$ bezeichnen wir mit $d_{ij}$. Die Indexmenge $\\text{Standorte}$ enthält hier einfach die Indizes der Standorte."
   ]
  },
  {
   "cell_type": "code",
   "execution_count": 173,
   "metadata": {},
   "outputs": [
    {
     "data": {
      "application/vnd.plotly.v1+json": {
       "config": {
        "plotlyServerURL": "https://plot.ly"
       },
       "data": [
        {
         "hovertemplate": "x=%{x}<br>y=%{y}<extra></extra>",
         "legendgroup": "",
         "marker": {
          "color": "#636efa",
          "symbol": "circle"
         },
         "mode": "markers",
         "name": "",
         "orientation": "v",
         "showlegend": false,
         "type": "scatter",
         "x": [
          0.3745401188473625,
          0.7319939418114051,
          0.15601864044243652,
          0.05808361216819946,
          0.6011150117432088,
          0.020584494295802447,
          0.8324426408004217,
          0.18182496720710062,
          0.3042422429595377,
          0.43194501864211576,
          0.6118528947223795,
          0.29214464853521815,
          0.45606998421703593,
          0.19967378215835974,
          0.5924145688620425,
          0.6075448519014384,
          0.06505159298527952,
          0.9656320330745594,
          0.3046137691733707,
          0.6842330265121569,
          0.12203823484477883,
          0.034388521115218396,
          0.2587799816000169,
          0.31171107608941095,
          0.5467102793432796
         ],
         "xaxis": "x",
         "y": [
          0.9507143064099162,
          0.5986584841970366,
          0.15599452033620265,
          0.8661761457749352,
          0.7080725777960455,
          0.9699098521619943,
          0.21233911067827616,
          0.18340450985343382,
          0.5247564316322378,
          0.2912291401980419,
          0.13949386065204183,
          0.3663618432936917,
          0.7851759613930136,
          0.5142344384136116,
          0.046450412719997725,
          0.17052412368729153,
          0.9488855372533332,
          0.8083973481164611,
          0.09767211400638387,
          0.4401524937396013,
          0.4951769101112702,
          0.9093204020787821,
          0.662522284353982,
          0.5200680211778108,
          0.18485445552552704
         ],
         "yaxis": "y"
        }
       ],
       "layout": {
        "height": 700,
        "legend": {
         "tracegroupgap": 0
        },
        "margin": {
         "t": 60
        },
        "template": {
         "data": {
          "bar": [
           {
            "error_x": {
             "color": "#2a3f5f"
            },
            "error_y": {
             "color": "#2a3f5f"
            },
            "marker": {
             "line": {
              "color": "#E5ECF6",
              "width": 0.5
             },
             "pattern": {
              "fillmode": "overlay",
              "size": 10,
              "solidity": 0.2
             }
            },
            "type": "bar"
           }
          ],
          "barpolar": [
           {
            "marker": {
             "line": {
              "color": "#E5ECF6",
              "width": 0.5
             },
             "pattern": {
              "fillmode": "overlay",
              "size": 10,
              "solidity": 0.2
             }
            },
            "type": "barpolar"
           }
          ],
          "carpet": [
           {
            "aaxis": {
             "endlinecolor": "#2a3f5f",
             "gridcolor": "white",
             "linecolor": "white",
             "minorgridcolor": "white",
             "startlinecolor": "#2a3f5f"
            },
            "baxis": {
             "endlinecolor": "#2a3f5f",
             "gridcolor": "white",
             "linecolor": "white",
             "minorgridcolor": "white",
             "startlinecolor": "#2a3f5f"
            },
            "type": "carpet"
           }
          ],
          "choropleth": [
           {
            "colorbar": {
             "outlinewidth": 0,
             "ticks": ""
            },
            "type": "choropleth"
           }
          ],
          "contour": [
           {
            "colorbar": {
             "outlinewidth": 0,
             "ticks": ""
            },
            "colorscale": [
             [
              0,
              "#0d0887"
             ],
             [
              0.1111111111111111,
              "#46039f"
             ],
             [
              0.2222222222222222,
              "#7201a8"
             ],
             [
              0.3333333333333333,
              "#9c179e"
             ],
             [
              0.4444444444444444,
              "#bd3786"
             ],
             [
              0.5555555555555556,
              "#d8576b"
             ],
             [
              0.6666666666666666,
              "#ed7953"
             ],
             [
              0.7777777777777778,
              "#fb9f3a"
             ],
             [
              0.8888888888888888,
              "#fdca26"
             ],
             [
              1,
              "#f0f921"
             ]
            ],
            "type": "contour"
           }
          ],
          "contourcarpet": [
           {
            "colorbar": {
             "outlinewidth": 0,
             "ticks": ""
            },
            "type": "contourcarpet"
           }
          ],
          "heatmap": [
           {
            "colorbar": {
             "outlinewidth": 0,
             "ticks": ""
            },
            "colorscale": [
             [
              0,
              "#0d0887"
             ],
             [
              0.1111111111111111,
              "#46039f"
             ],
             [
              0.2222222222222222,
              "#7201a8"
             ],
             [
              0.3333333333333333,
              "#9c179e"
             ],
             [
              0.4444444444444444,
              "#bd3786"
             ],
             [
              0.5555555555555556,
              "#d8576b"
             ],
             [
              0.6666666666666666,
              "#ed7953"
             ],
             [
              0.7777777777777778,
              "#fb9f3a"
             ],
             [
              0.8888888888888888,
              "#fdca26"
             ],
             [
              1,
              "#f0f921"
             ]
            ],
            "type": "heatmap"
           }
          ],
          "heatmapgl": [
           {
            "colorbar": {
             "outlinewidth": 0,
             "ticks": ""
            },
            "colorscale": [
             [
              0,
              "#0d0887"
             ],
             [
              0.1111111111111111,
              "#46039f"
             ],
             [
              0.2222222222222222,
              "#7201a8"
             ],
             [
              0.3333333333333333,
              "#9c179e"
             ],
             [
              0.4444444444444444,
              "#bd3786"
             ],
             [
              0.5555555555555556,
              "#d8576b"
             ],
             [
              0.6666666666666666,
              "#ed7953"
             ],
             [
              0.7777777777777778,
              "#fb9f3a"
             ],
             [
              0.8888888888888888,
              "#fdca26"
             ],
             [
              1,
              "#f0f921"
             ]
            ],
            "type": "heatmapgl"
           }
          ],
          "histogram": [
           {
            "marker": {
             "pattern": {
              "fillmode": "overlay",
              "size": 10,
              "solidity": 0.2
             }
            },
            "type": "histogram"
           }
          ],
          "histogram2d": [
           {
            "colorbar": {
             "outlinewidth": 0,
             "ticks": ""
            },
            "colorscale": [
             [
              0,
              "#0d0887"
             ],
             [
              0.1111111111111111,
              "#46039f"
             ],
             [
              0.2222222222222222,
              "#7201a8"
             ],
             [
              0.3333333333333333,
              "#9c179e"
             ],
             [
              0.4444444444444444,
              "#bd3786"
             ],
             [
              0.5555555555555556,
              "#d8576b"
             ],
             [
              0.6666666666666666,
              "#ed7953"
             ],
             [
              0.7777777777777778,
              "#fb9f3a"
             ],
             [
              0.8888888888888888,
              "#fdca26"
             ],
             [
              1,
              "#f0f921"
             ]
            ],
            "type": "histogram2d"
           }
          ],
          "histogram2dcontour": [
           {
            "colorbar": {
             "outlinewidth": 0,
             "ticks": ""
            },
            "colorscale": [
             [
              0,
              "#0d0887"
             ],
             [
              0.1111111111111111,
              "#46039f"
             ],
             [
              0.2222222222222222,
              "#7201a8"
             ],
             [
              0.3333333333333333,
              "#9c179e"
             ],
             [
              0.4444444444444444,
              "#bd3786"
             ],
             [
              0.5555555555555556,
              "#d8576b"
             ],
             [
              0.6666666666666666,
              "#ed7953"
             ],
             [
              0.7777777777777778,
              "#fb9f3a"
             ],
             [
              0.8888888888888888,
              "#fdca26"
             ],
             [
              1,
              "#f0f921"
             ]
            ],
            "type": "histogram2dcontour"
           }
          ],
          "mesh3d": [
           {
            "colorbar": {
             "outlinewidth": 0,
             "ticks": ""
            },
            "type": "mesh3d"
           }
          ],
          "parcoords": [
           {
            "line": {
             "colorbar": {
              "outlinewidth": 0,
              "ticks": ""
             }
            },
            "type": "parcoords"
           }
          ],
          "pie": [
           {
            "automargin": true,
            "type": "pie"
           }
          ],
          "scatter": [
           {
            "fillpattern": {
             "fillmode": "overlay",
             "size": 10,
             "solidity": 0.2
            },
            "type": "scatter"
           }
          ],
          "scatter3d": [
           {
            "line": {
             "colorbar": {
              "outlinewidth": 0,
              "ticks": ""
             }
            },
            "marker": {
             "colorbar": {
              "outlinewidth": 0,
              "ticks": ""
             }
            },
            "type": "scatter3d"
           }
          ],
          "scattercarpet": [
           {
            "marker": {
             "colorbar": {
              "outlinewidth": 0,
              "ticks": ""
             }
            },
            "type": "scattercarpet"
           }
          ],
          "scattergeo": [
           {
            "marker": {
             "colorbar": {
              "outlinewidth": 0,
              "ticks": ""
             }
            },
            "type": "scattergeo"
           }
          ],
          "scattergl": [
           {
            "marker": {
             "colorbar": {
              "outlinewidth": 0,
              "ticks": ""
             }
            },
            "type": "scattergl"
           }
          ],
          "scattermapbox": [
           {
            "marker": {
             "colorbar": {
              "outlinewidth": 0,
              "ticks": ""
             }
            },
            "type": "scattermapbox"
           }
          ],
          "scatterpolar": [
           {
            "marker": {
             "colorbar": {
              "outlinewidth": 0,
              "ticks": ""
             }
            },
            "type": "scatterpolar"
           }
          ],
          "scatterpolargl": [
           {
            "marker": {
             "colorbar": {
              "outlinewidth": 0,
              "ticks": ""
             }
            },
            "type": "scatterpolargl"
           }
          ],
          "scatterternary": [
           {
            "marker": {
             "colorbar": {
              "outlinewidth": 0,
              "ticks": ""
             }
            },
            "type": "scatterternary"
           }
          ],
          "surface": [
           {
            "colorbar": {
             "outlinewidth": 0,
             "ticks": ""
            },
            "colorscale": [
             [
              0,
              "#0d0887"
             ],
             [
              0.1111111111111111,
              "#46039f"
             ],
             [
              0.2222222222222222,
              "#7201a8"
             ],
             [
              0.3333333333333333,
              "#9c179e"
             ],
             [
              0.4444444444444444,
              "#bd3786"
             ],
             [
              0.5555555555555556,
              "#d8576b"
             ],
             [
              0.6666666666666666,
              "#ed7953"
             ],
             [
              0.7777777777777778,
              "#fb9f3a"
             ],
             [
              0.8888888888888888,
              "#fdca26"
             ],
             [
              1,
              "#f0f921"
             ]
            ],
            "type": "surface"
           }
          ],
          "table": [
           {
            "cells": {
             "fill": {
              "color": "#EBF0F8"
             },
             "line": {
              "color": "white"
             }
            },
            "header": {
             "fill": {
              "color": "#C8D4E3"
             },
             "line": {
              "color": "white"
             }
            },
            "type": "table"
           }
          ]
         },
         "layout": {
          "annotationdefaults": {
           "arrowcolor": "#2a3f5f",
           "arrowhead": 0,
           "arrowwidth": 1
          },
          "autotypenumbers": "strict",
          "coloraxis": {
           "colorbar": {
            "outlinewidth": 0,
            "ticks": ""
           }
          },
          "colorscale": {
           "diverging": [
            [
             0,
             "#8e0152"
            ],
            [
             0.1,
             "#c51b7d"
            ],
            [
             0.2,
             "#de77ae"
            ],
            [
             0.3,
             "#f1b6da"
            ],
            [
             0.4,
             "#fde0ef"
            ],
            [
             0.5,
             "#f7f7f7"
            ],
            [
             0.6,
             "#e6f5d0"
            ],
            [
             0.7,
             "#b8e186"
            ],
            [
             0.8,
             "#7fbc41"
            ],
            [
             0.9,
             "#4d9221"
            ],
            [
             1,
             "#276419"
            ]
           ],
           "sequential": [
            [
             0,
             "#0d0887"
            ],
            [
             0.1111111111111111,
             "#46039f"
            ],
            [
             0.2222222222222222,
             "#7201a8"
            ],
            [
             0.3333333333333333,
             "#9c179e"
            ],
            [
             0.4444444444444444,
             "#bd3786"
            ],
            [
             0.5555555555555556,
             "#d8576b"
            ],
            [
             0.6666666666666666,
             "#ed7953"
            ],
            [
             0.7777777777777778,
             "#fb9f3a"
            ],
            [
             0.8888888888888888,
             "#fdca26"
            ],
            [
             1,
             "#f0f921"
            ]
           ],
           "sequentialminus": [
            [
             0,
             "#0d0887"
            ],
            [
             0.1111111111111111,
             "#46039f"
            ],
            [
             0.2222222222222222,
             "#7201a8"
            ],
            [
             0.3333333333333333,
             "#9c179e"
            ],
            [
             0.4444444444444444,
             "#bd3786"
            ],
            [
             0.5555555555555556,
             "#d8576b"
            ],
            [
             0.6666666666666666,
             "#ed7953"
            ],
            [
             0.7777777777777778,
             "#fb9f3a"
            ],
            [
             0.8888888888888888,
             "#fdca26"
            ],
            [
             1,
             "#f0f921"
            ]
           ]
          },
          "colorway": [
           "#636efa",
           "#EF553B",
           "#00cc96",
           "#ab63fa",
           "#FFA15A",
           "#19d3f3",
           "#FF6692",
           "#B6E880",
           "#FF97FF",
           "#FECB52"
          ],
          "font": {
           "color": "#2a3f5f"
          },
          "geo": {
           "bgcolor": "white",
           "lakecolor": "white",
           "landcolor": "#E5ECF6",
           "showlakes": true,
           "showland": true,
           "subunitcolor": "white"
          },
          "hoverlabel": {
           "align": "left"
          },
          "hovermode": "closest",
          "mapbox": {
           "style": "light"
          },
          "paper_bgcolor": "white",
          "plot_bgcolor": "#E5ECF6",
          "polar": {
           "angularaxis": {
            "gridcolor": "white",
            "linecolor": "white",
            "ticks": ""
           },
           "bgcolor": "#E5ECF6",
           "radialaxis": {
            "gridcolor": "white",
            "linecolor": "white",
            "ticks": ""
           }
          },
          "scene": {
           "xaxis": {
            "backgroundcolor": "#E5ECF6",
            "gridcolor": "white",
            "gridwidth": 2,
            "linecolor": "white",
            "showbackground": true,
            "ticks": "",
            "zerolinecolor": "white"
           },
           "yaxis": {
            "backgroundcolor": "#E5ECF6",
            "gridcolor": "white",
            "gridwidth": 2,
            "linecolor": "white",
            "showbackground": true,
            "ticks": "",
            "zerolinecolor": "white"
           },
           "zaxis": {
            "backgroundcolor": "#E5ECF6",
            "gridcolor": "white",
            "gridwidth": 2,
            "linecolor": "white",
            "showbackground": true,
            "ticks": "",
            "zerolinecolor": "white"
           }
          },
          "shapedefaults": {
           "line": {
            "color": "#2a3f5f"
           }
          },
          "ternary": {
           "aaxis": {
            "gridcolor": "white",
            "linecolor": "white",
            "ticks": ""
           },
           "baxis": {
            "gridcolor": "white",
            "linecolor": "white",
            "ticks": ""
           },
           "bgcolor": "#E5ECF6",
           "caxis": {
            "gridcolor": "white",
            "linecolor": "white",
            "ticks": ""
           }
          },
          "title": {
           "x": 0.05
          },
          "xaxis": {
           "automargin": true,
           "gridcolor": "white",
           "linecolor": "white",
           "ticks": "",
           "title": {
            "standoff": 15
           },
           "zerolinecolor": "white",
           "zerolinewidth": 2
          },
          "yaxis": {
           "automargin": true,
           "gridcolor": "white",
           "linecolor": "white",
           "ticks": "",
           "title": {
            "standoff": 15
           },
           "zerolinecolor": "white",
           "zerolinewidth": 2
          }
         }
        },
        "width": 700,
        "xaxis": {
         "anchor": "y",
         "domain": [
          0,
          1
         ],
         "title": {
          "text": "x"
         }
        },
        "yaxis": {
         "anchor": "x",
         "domain": [
          0,
          1
         ],
         "title": {
          "text": "y"
         }
        }
       }
      }
     },
     "metadata": {},
     "output_type": "display_data"
    }
   ],
   "source": [
    "import numpy as np\n",
    "from scipy.spatial import distance_matrix\n",
    "import plotly.express as px\n",
    "\n",
    "np.random.seed(42)\n",
    "\n",
    "# Anzahl möglicher Standorte\n",
    "N = 25\n",
    "p = 5\n",
    "\n",
    "# Zufällige Koordinaten und euklidische Distanzen\n",
    "koordinaten = pd.DataFrame(np.random.random((N, 2)), columns=[\"x\",\"y\"])\n",
    "distanzen = pd.DataFrame(distance_matrix(koordinaten, koordinaten))\n",
    "standorte = range(N)\n",
    "\n",
    "# Visualisieren der möglichen Standorte\n",
    "px.scatter(data_frame=koordinaten, x=\"x\", y=\"y\", width=700, height=700)"
   ]
  },
  {
   "cell_type": "markdown",
   "metadata": {},
   "source": [
    "### Entscheidungen\n",
    "Wie oben soll die Entscheidung optimiert werden, ob an einem Standort ein Geschäft eröffnet werden soll:\n",
    "\n",
    "$$\n",
    "    x_i=\\left\\{\\begin{array}{rl}\n",
    "        1 & \\text{, eröffne Geschäft an Standort }i \\\\\n",
    "        0 & \\text{, sonst.}\n",
    "        \\end{array}\\right.,\\quad \\forall i \\in \\text{Standorte}\n",
    "$$"
   ]
  },
  {
   "cell_type": "code",
   "execution_count": 169,
   "metadata": {},
   "outputs": [],
   "source": [
    "m = gp.Model(\"p-Dispersion Problem\")\n",
    "x = m.addVars(standorte, vtype=GRB.BINARY)\n",
    "D = m.addVar(vtype=GRB.CONTINUOUS)"
   ]
  },
  {
   "cell_type": "markdown",
   "metadata": {},
   "source": [
    "### Zielfunktion\n",
    "Es soll die kleinste Distanz zwischen den Geschäften maximiert werden. Diese bezeichnen wir mit $D$."
   ]
  },
  {
   "cell_type": "code",
   "execution_count": 170,
   "metadata": {},
   "outputs": [],
   "source": [
    "m.setObjective(D, GRB.MAXIMIZE)"
   ]
  },
  {
   "cell_type": "markdown",
   "metadata": {},
   "source": [
    "### Constraints\n",
    "1. Es sollen genau $p=5$ Geschäfte gebaut werden: $\\sum_{i\\in\\text{Standorte}}x_i=5$.\n",
    "2. Wir müssen sicherstellen, dass $D$ auch wirklich die kleinste Distanz zwischen den Geschäften darstellt. Dazu erstellen wir eine Constraint für jedes Paar von möglichen Standorten, so dass $D$ kleiner ist als die Distanz zwischen Standort $i$ und Standort $j$.  Diese Constraints sollen aber nur gelten, wenn an den zwei betreffenden Standorten auch wirklich Geschäfte gebaut werden. Wir schalten dazu alle anderen Constraints mittels einem großen $M$ ab. $M$ kann hier als der maximale Eintrag der Distanzmatrix gewählt werden. Formal:\n",
    "\n",
    "    $$\n",
    "    D\\leq d_{ij} + M(1-x_i)+M(1-x_j),\\quad \\forall i\\in\\text{Standorte}, j\\in\\text{Standorte}, i<j\n",
    "    $$\n",
    "    \n",
    "   Sobald entweder Standort $i$ oder $j$ nicht bebaut sind, spielt die Distanz $d_{ij}$ für unser Problem keine Rolle. $D$ wird dann durch das Paar $i,j$ nicht eingeschränkt."
   ]
  },
  {
   "cell_type": "code",
   "execution_count": 171,
   "metadata": {},
   "outputs": [
    {
     "name": "stdout",
     "output_type": "stream",
     "text": [
      "Gurobi Optimizer version 11.0.1 build v11.0.1rc0 (linux64 - \"Linux Mint 21.3\")\n",
      "\n",
      "CPU model: 11th Gen Intel(R) Core(TM) i5-1145G7 @ 2.60GHz, instruction set [SSE2|AVX|AVX2|AVX512]\n",
      "Thread count: 4 physical cores, 8 logical processors, using up to 8 threads\n",
      "\n",
      "Optimize a model with 301 rows, 26 columns and 925 nonzeros\n",
      "Model fingerprint: 0x3099525b\n",
      "Variable types: 1 continuous, 25 integer (25 binary)\n",
      "Coefficient statistics:\n",
      "  Matrix range     [1e+00, 1e+00]\n",
      "  Objective range  [1e+00, 1e+00]\n",
      "  Bounds range     [1e+00, 1e+00]\n",
      "  RHS range        [2e+00, 5e+00]\n",
      "Found heuristic solution: objective 0.1845266\n",
      "Presolve time: 0.00s\n",
      "Presolved: 301 rows, 26 columns, 925 nonzeros\n",
      "Variable types: 1 continuous, 25 integer (25 binary)\n",
      "\n",
      "Root relaxation: objective 1.913363e+00, 58 iterations, 0.00 seconds (0.00 work units)\n",
      "\n",
      "    Nodes    |    Current Node    |     Objective Bounds      |     Work\n",
      " Expl Unexpl |  Obj  Depth IntInf | Incumbent    BestBd   Gap | It/Node Time\n",
      "\n",
      "     0     0    1.91336    0   25    0.18453    1.91336   937%     -    0s\n",
      "H    0     0                       0.2316842    1.91336   726%     -    0s\n",
      "H    0     0                       0.3453521    1.91336   454%     -    0s\n",
      "H    0     0                       0.3453521    1.91336   454%     -    0s\n",
      "     0     0    1.76214    0   23    0.34535    1.76214   410%     -    0s\n",
      "H    0     0                       0.3626391    1.71956   374%     -    0s\n",
      "H    0     0                       0.3709945    1.63580   341%     -    0s\n",
      "H    0     0                       0.4042672    1.63580   305%     -    0s\n",
      "     0     0    1.63580    0   18    0.40427    1.63580   305%     -    0s\n",
      "H    0     0                       0.4042672    1.63580   305%     -    0s\n",
      "H    0     0                       0.4499348    1.38062   207%     -    0s\n",
      "     0     0    1.38062    0   18    0.44993    1.38062   207%     -    0s\n",
      "H    0     0                       0.4730478    1.27468   169%     -    0s\n",
      "     0     0    1.27468    0   15    0.47305    1.27468   169%     -    0s\n",
      "H    0     0                       0.4730478    1.26017   166%     -    0s\n",
      "     0     0    1.19148    0   12    0.47305    1.19148   152%     -    0s\n",
      "     0     0    1.12805    0   14    0.47305    1.12805   138%     -    0s\n",
      "     0     0    1.12805    0   13    0.47305    1.12805   138%     -    0s\n",
      "     0     0    1.12805    0   14    0.47305    1.12805   138%     -    0s\n",
      "     0     0    1.12805    0   14    0.47305    1.12805   138%     -    0s\n",
      "     0     0    1.12805    0   14    0.47305    1.12805   138%     -    0s\n",
      "     0     0    0.86164    0    6    0.47305    0.86164  82.1%     -    0s\n",
      "     0     0    0.63492    0    7    0.47305    0.63492  34.2%     -    0s\n",
      "     0     0     cutoff    0         0.47305    0.47305  0.00%     -    0s\n",
      "\n",
      "Cutting planes:\n",
      "  Cover: 1\n",
      "  Clique: 9\n",
      "  MIR: 7\n",
      "  Relax-and-lift: 1\n",
      "\n",
      "Explored 1 nodes (245 simplex iterations) in 0.06 seconds (0.03 work units)\n",
      "Thread count was 8 (of 8 available processors)\n",
      "\n",
      "Solution count 9: 0.473048 0.449935 0.404267 ... 0.184527\n",
      "No other solutions better than 0.473048\n",
      "\n",
      "Optimal solution found (tolerance 1.00e-04)\n",
      "Best objective 4.730478014640e-01, best bound 4.730478014640e-01, gap 0.0000%\n"
     ]
    }
   ],
   "source": [
    "m.addConstr(gp.quicksum(x[i] for i in standorte) == p)\n",
    "\n",
    "M = distanzen.max().max()\n",
    "for i in standorte:\n",
    "    for j in standorte:\n",
    "        if j > i:\n",
    "            m.addConstr(D <= distanzen.loc[i,j] + M*(1-x[i]) + M*(1-x[j]))    \n",
    "            \n",
    "m.optimize()"
   ]
  },
  {
   "cell_type": "code",
   "execution_count": 172,
   "metadata": {},
   "outputs": [
    {
     "data": {
      "application/vnd.plotly.v1+json": {
       "config": {
        "plotlyServerURL": "https://plot.ly"
       },
       "data": [
        {
         "hovertemplate": "Geschäft=nein<br>x=%{x}<br>y=%{y}<extra></extra>",
         "legendgroup": "nein",
         "marker": {
          "color": "#636efa",
          "symbol": "circle"
         },
         "mode": "markers",
         "name": "nein",
         "orientation": "v",
         "showlegend": true,
         "type": "scatter",
         "x": [
          0.3745401188473625,
          0.7319939418114051,
          0.15601864044243652,
          0.05808361216819946,
          0.6011150117432088,
          0.3042422429595377,
          0.43194501864211576,
          0.6118528947223795,
          0.29214464853521815,
          0.19967378215835974,
          0.5924145688620425,
          0.6075448519014384,
          0.06505159298527952,
          0.3046137691733707,
          0.6842330265121569,
          0.12203823484477883,
          0.034388521115218396,
          0.2587799816000169,
          0.31171107608941095,
          0.5467102793432796
         ],
         "xaxis": "x",
         "y": [
          0.9507143064099162,
          0.5986584841970366,
          0.15599452033620265,
          0.8661761457749352,
          0.7080725777960455,
          0.5247564316322378,
          0.2912291401980419,
          0.13949386065204183,
          0.3663618432936917,
          0.5142344384136116,
          0.046450412719997725,
          0.17052412368729153,
          0.9488855372533332,
          0.09767211400638387,
          0.4401524937396013,
          0.4951769101112702,
          0.9093204020787821,
          0.662522284353982,
          0.5200680211778108,
          0.18485445552552704
         ],
         "yaxis": "y"
        },
        {
         "hovertemplate": "Geschäft=ja<br>x=%{x}<br>y=%{y}<extra></extra>",
         "legendgroup": "ja",
         "marker": {
          "color": "#EF553B",
          "symbol": "circle"
         },
         "mode": "markers",
         "name": "ja",
         "orientation": "v",
         "showlegend": true,
         "type": "scatter",
         "x": [
          0.020584494295802447,
          0.8324426408004217,
          0.18182496720710062,
          0.45606998421703593,
          0.9656320330745594
         ],
         "xaxis": "x",
         "y": [
          0.9699098521619943,
          0.21233911067827616,
          0.18340450985343382,
          0.7851759613930136,
          0.8083973481164611
         ],
         "yaxis": "y"
        }
       ],
       "layout": {
        "height": 700,
        "legend": {
         "title": {
          "text": "Geschäft"
         },
         "tracegroupgap": 0
        },
        "margin": {
         "t": 60
        },
        "template": {
         "data": {
          "bar": [
           {
            "error_x": {
             "color": "#2a3f5f"
            },
            "error_y": {
             "color": "#2a3f5f"
            },
            "marker": {
             "line": {
              "color": "#E5ECF6",
              "width": 0.5
             },
             "pattern": {
              "fillmode": "overlay",
              "size": 10,
              "solidity": 0.2
             }
            },
            "type": "bar"
           }
          ],
          "barpolar": [
           {
            "marker": {
             "line": {
              "color": "#E5ECF6",
              "width": 0.5
             },
             "pattern": {
              "fillmode": "overlay",
              "size": 10,
              "solidity": 0.2
             }
            },
            "type": "barpolar"
           }
          ],
          "carpet": [
           {
            "aaxis": {
             "endlinecolor": "#2a3f5f",
             "gridcolor": "white",
             "linecolor": "white",
             "minorgridcolor": "white",
             "startlinecolor": "#2a3f5f"
            },
            "baxis": {
             "endlinecolor": "#2a3f5f",
             "gridcolor": "white",
             "linecolor": "white",
             "minorgridcolor": "white",
             "startlinecolor": "#2a3f5f"
            },
            "type": "carpet"
           }
          ],
          "choropleth": [
           {
            "colorbar": {
             "outlinewidth": 0,
             "ticks": ""
            },
            "type": "choropleth"
           }
          ],
          "contour": [
           {
            "colorbar": {
             "outlinewidth": 0,
             "ticks": ""
            },
            "colorscale": [
             [
              0,
              "#0d0887"
             ],
             [
              0.1111111111111111,
              "#46039f"
             ],
             [
              0.2222222222222222,
              "#7201a8"
             ],
             [
              0.3333333333333333,
              "#9c179e"
             ],
             [
              0.4444444444444444,
              "#bd3786"
             ],
             [
              0.5555555555555556,
              "#d8576b"
             ],
             [
              0.6666666666666666,
              "#ed7953"
             ],
             [
              0.7777777777777778,
              "#fb9f3a"
             ],
             [
              0.8888888888888888,
              "#fdca26"
             ],
             [
              1,
              "#f0f921"
             ]
            ],
            "type": "contour"
           }
          ],
          "contourcarpet": [
           {
            "colorbar": {
             "outlinewidth": 0,
             "ticks": ""
            },
            "type": "contourcarpet"
           }
          ],
          "heatmap": [
           {
            "colorbar": {
             "outlinewidth": 0,
             "ticks": ""
            },
            "colorscale": [
             [
              0,
              "#0d0887"
             ],
             [
              0.1111111111111111,
              "#46039f"
             ],
             [
              0.2222222222222222,
              "#7201a8"
             ],
             [
              0.3333333333333333,
              "#9c179e"
             ],
             [
              0.4444444444444444,
              "#bd3786"
             ],
             [
              0.5555555555555556,
              "#d8576b"
             ],
             [
              0.6666666666666666,
              "#ed7953"
             ],
             [
              0.7777777777777778,
              "#fb9f3a"
             ],
             [
              0.8888888888888888,
              "#fdca26"
             ],
             [
              1,
              "#f0f921"
             ]
            ],
            "type": "heatmap"
           }
          ],
          "heatmapgl": [
           {
            "colorbar": {
             "outlinewidth": 0,
             "ticks": ""
            },
            "colorscale": [
             [
              0,
              "#0d0887"
             ],
             [
              0.1111111111111111,
              "#46039f"
             ],
             [
              0.2222222222222222,
              "#7201a8"
             ],
             [
              0.3333333333333333,
              "#9c179e"
             ],
             [
              0.4444444444444444,
              "#bd3786"
             ],
             [
              0.5555555555555556,
              "#d8576b"
             ],
             [
              0.6666666666666666,
              "#ed7953"
             ],
             [
              0.7777777777777778,
              "#fb9f3a"
             ],
             [
              0.8888888888888888,
              "#fdca26"
             ],
             [
              1,
              "#f0f921"
             ]
            ],
            "type": "heatmapgl"
           }
          ],
          "histogram": [
           {
            "marker": {
             "pattern": {
              "fillmode": "overlay",
              "size": 10,
              "solidity": 0.2
             }
            },
            "type": "histogram"
           }
          ],
          "histogram2d": [
           {
            "colorbar": {
             "outlinewidth": 0,
             "ticks": ""
            },
            "colorscale": [
             [
              0,
              "#0d0887"
             ],
             [
              0.1111111111111111,
              "#46039f"
             ],
             [
              0.2222222222222222,
              "#7201a8"
             ],
             [
              0.3333333333333333,
              "#9c179e"
             ],
             [
              0.4444444444444444,
              "#bd3786"
             ],
             [
              0.5555555555555556,
              "#d8576b"
             ],
             [
              0.6666666666666666,
              "#ed7953"
             ],
             [
              0.7777777777777778,
              "#fb9f3a"
             ],
             [
              0.8888888888888888,
              "#fdca26"
             ],
             [
              1,
              "#f0f921"
             ]
            ],
            "type": "histogram2d"
           }
          ],
          "histogram2dcontour": [
           {
            "colorbar": {
             "outlinewidth": 0,
             "ticks": ""
            },
            "colorscale": [
             [
              0,
              "#0d0887"
             ],
             [
              0.1111111111111111,
              "#46039f"
             ],
             [
              0.2222222222222222,
              "#7201a8"
             ],
             [
              0.3333333333333333,
              "#9c179e"
             ],
             [
              0.4444444444444444,
              "#bd3786"
             ],
             [
              0.5555555555555556,
              "#d8576b"
             ],
             [
              0.6666666666666666,
              "#ed7953"
             ],
             [
              0.7777777777777778,
              "#fb9f3a"
             ],
             [
              0.8888888888888888,
              "#fdca26"
             ],
             [
              1,
              "#f0f921"
             ]
            ],
            "type": "histogram2dcontour"
           }
          ],
          "mesh3d": [
           {
            "colorbar": {
             "outlinewidth": 0,
             "ticks": ""
            },
            "type": "mesh3d"
           }
          ],
          "parcoords": [
           {
            "line": {
             "colorbar": {
              "outlinewidth": 0,
              "ticks": ""
             }
            },
            "type": "parcoords"
           }
          ],
          "pie": [
           {
            "automargin": true,
            "type": "pie"
           }
          ],
          "scatter": [
           {
            "fillpattern": {
             "fillmode": "overlay",
             "size": 10,
             "solidity": 0.2
            },
            "type": "scatter"
           }
          ],
          "scatter3d": [
           {
            "line": {
             "colorbar": {
              "outlinewidth": 0,
              "ticks": ""
             }
            },
            "marker": {
             "colorbar": {
              "outlinewidth": 0,
              "ticks": ""
             }
            },
            "type": "scatter3d"
           }
          ],
          "scattercarpet": [
           {
            "marker": {
             "colorbar": {
              "outlinewidth": 0,
              "ticks": ""
             }
            },
            "type": "scattercarpet"
           }
          ],
          "scattergeo": [
           {
            "marker": {
             "colorbar": {
              "outlinewidth": 0,
              "ticks": ""
             }
            },
            "type": "scattergeo"
           }
          ],
          "scattergl": [
           {
            "marker": {
             "colorbar": {
              "outlinewidth": 0,
              "ticks": ""
             }
            },
            "type": "scattergl"
           }
          ],
          "scattermapbox": [
           {
            "marker": {
             "colorbar": {
              "outlinewidth": 0,
              "ticks": ""
             }
            },
            "type": "scattermapbox"
           }
          ],
          "scatterpolar": [
           {
            "marker": {
             "colorbar": {
              "outlinewidth": 0,
              "ticks": ""
             }
            },
            "type": "scatterpolar"
           }
          ],
          "scatterpolargl": [
           {
            "marker": {
             "colorbar": {
              "outlinewidth": 0,
              "ticks": ""
             }
            },
            "type": "scatterpolargl"
           }
          ],
          "scatterternary": [
           {
            "marker": {
             "colorbar": {
              "outlinewidth": 0,
              "ticks": ""
             }
            },
            "type": "scatterternary"
           }
          ],
          "surface": [
           {
            "colorbar": {
             "outlinewidth": 0,
             "ticks": ""
            },
            "colorscale": [
             [
              0,
              "#0d0887"
             ],
             [
              0.1111111111111111,
              "#46039f"
             ],
             [
              0.2222222222222222,
              "#7201a8"
             ],
             [
              0.3333333333333333,
              "#9c179e"
             ],
             [
              0.4444444444444444,
              "#bd3786"
             ],
             [
              0.5555555555555556,
              "#d8576b"
             ],
             [
              0.6666666666666666,
              "#ed7953"
             ],
             [
              0.7777777777777778,
              "#fb9f3a"
             ],
             [
              0.8888888888888888,
              "#fdca26"
             ],
             [
              1,
              "#f0f921"
             ]
            ],
            "type": "surface"
           }
          ],
          "table": [
           {
            "cells": {
             "fill": {
              "color": "#EBF0F8"
             },
             "line": {
              "color": "white"
             }
            },
            "header": {
             "fill": {
              "color": "#C8D4E3"
             },
             "line": {
              "color": "white"
             }
            },
            "type": "table"
           }
          ]
         },
         "layout": {
          "annotationdefaults": {
           "arrowcolor": "#2a3f5f",
           "arrowhead": 0,
           "arrowwidth": 1
          },
          "autotypenumbers": "strict",
          "coloraxis": {
           "colorbar": {
            "outlinewidth": 0,
            "ticks": ""
           }
          },
          "colorscale": {
           "diverging": [
            [
             0,
             "#8e0152"
            ],
            [
             0.1,
             "#c51b7d"
            ],
            [
             0.2,
             "#de77ae"
            ],
            [
             0.3,
             "#f1b6da"
            ],
            [
             0.4,
             "#fde0ef"
            ],
            [
             0.5,
             "#f7f7f7"
            ],
            [
             0.6,
             "#e6f5d0"
            ],
            [
             0.7,
             "#b8e186"
            ],
            [
             0.8,
             "#7fbc41"
            ],
            [
             0.9,
             "#4d9221"
            ],
            [
             1,
             "#276419"
            ]
           ],
           "sequential": [
            [
             0,
             "#0d0887"
            ],
            [
             0.1111111111111111,
             "#46039f"
            ],
            [
             0.2222222222222222,
             "#7201a8"
            ],
            [
             0.3333333333333333,
             "#9c179e"
            ],
            [
             0.4444444444444444,
             "#bd3786"
            ],
            [
             0.5555555555555556,
             "#d8576b"
            ],
            [
             0.6666666666666666,
             "#ed7953"
            ],
            [
             0.7777777777777778,
             "#fb9f3a"
            ],
            [
             0.8888888888888888,
             "#fdca26"
            ],
            [
             1,
             "#f0f921"
            ]
           ],
           "sequentialminus": [
            [
             0,
             "#0d0887"
            ],
            [
             0.1111111111111111,
             "#46039f"
            ],
            [
             0.2222222222222222,
             "#7201a8"
            ],
            [
             0.3333333333333333,
             "#9c179e"
            ],
            [
             0.4444444444444444,
             "#bd3786"
            ],
            [
             0.5555555555555556,
             "#d8576b"
            ],
            [
             0.6666666666666666,
             "#ed7953"
            ],
            [
             0.7777777777777778,
             "#fb9f3a"
            ],
            [
             0.8888888888888888,
             "#fdca26"
            ],
            [
             1,
             "#f0f921"
            ]
           ]
          },
          "colorway": [
           "#636efa",
           "#EF553B",
           "#00cc96",
           "#ab63fa",
           "#FFA15A",
           "#19d3f3",
           "#FF6692",
           "#B6E880",
           "#FF97FF",
           "#FECB52"
          ],
          "font": {
           "color": "#2a3f5f"
          },
          "geo": {
           "bgcolor": "white",
           "lakecolor": "white",
           "landcolor": "#E5ECF6",
           "showlakes": true,
           "showland": true,
           "subunitcolor": "white"
          },
          "hoverlabel": {
           "align": "left"
          },
          "hovermode": "closest",
          "mapbox": {
           "style": "light"
          },
          "paper_bgcolor": "white",
          "plot_bgcolor": "#E5ECF6",
          "polar": {
           "angularaxis": {
            "gridcolor": "white",
            "linecolor": "white",
            "ticks": ""
           },
           "bgcolor": "#E5ECF6",
           "radialaxis": {
            "gridcolor": "white",
            "linecolor": "white",
            "ticks": ""
           }
          },
          "scene": {
           "xaxis": {
            "backgroundcolor": "#E5ECF6",
            "gridcolor": "white",
            "gridwidth": 2,
            "linecolor": "white",
            "showbackground": true,
            "ticks": "",
            "zerolinecolor": "white"
           },
           "yaxis": {
            "backgroundcolor": "#E5ECF6",
            "gridcolor": "white",
            "gridwidth": 2,
            "linecolor": "white",
            "showbackground": true,
            "ticks": "",
            "zerolinecolor": "white"
           },
           "zaxis": {
            "backgroundcolor": "#E5ECF6",
            "gridcolor": "white",
            "gridwidth": 2,
            "linecolor": "white",
            "showbackground": true,
            "ticks": "",
            "zerolinecolor": "white"
           }
          },
          "shapedefaults": {
           "line": {
            "color": "#2a3f5f"
           }
          },
          "ternary": {
           "aaxis": {
            "gridcolor": "white",
            "linecolor": "white",
            "ticks": ""
           },
           "baxis": {
            "gridcolor": "white",
            "linecolor": "white",
            "ticks": ""
           },
           "bgcolor": "#E5ECF6",
           "caxis": {
            "gridcolor": "white",
            "linecolor": "white",
            "ticks": ""
           }
          },
          "title": {
           "x": 0.05
          },
          "xaxis": {
           "automargin": true,
           "gridcolor": "white",
           "linecolor": "white",
           "ticks": "",
           "title": {
            "standoff": 15
           },
           "zerolinecolor": "white",
           "zerolinewidth": 2
          },
          "yaxis": {
           "automargin": true,
           "gridcolor": "white",
           "linecolor": "white",
           "ticks": "",
           "title": {
            "standoff": 15
           },
           "zerolinecolor": "white",
           "zerolinewidth": 2
          }
         }
        },
        "width": 700,
        "xaxis": {
         "anchor": "y",
         "domain": [
          0,
          1
         ],
         "title": {
          "text": "x"
         }
        },
        "yaxis": {
         "anchor": "x",
         "domain": [
          0,
          1
         ],
         "title": {
          "text": "y"
         }
        }
       }
      }
     },
     "metadata": {},
     "output_type": "display_data"
    }
   ],
   "source": [
    "koordinaten[\"Geschäft\"] = \"ja\"\n",
    "for i in standorte:\n",
    "    if x[i].x < 1e-6:\n",
    "        koordinaten.loc[i, \"Geschäft\"] = \"nein\"\n",
    "px.scatter(data_frame=koordinaten, x=\"x\", y=\"y\", color=\"Geschäft\", width=700, height=700)"
   ]
  },
  {
   "cell_type": "markdown",
   "metadata": {},
   "source": [
    "## Burrito Optimization Game\n",
    "Das [Gurobi Burrito Optimization Game](https://burrito.gurobi.com/) ist unter der Haube ein Standortproblem, genauer gesagt eine Variante des [Uncapacitated Facility Location Problems](https://en.wikipedia.org/wiki/Optimal_facility_location#Uncapacitated_facility_location), einem klassischen Problem der linearen Optimierung. Im folgenden beschreiben wir die mathematische Formulierung des Problems.\n",
    "\n",
    "### Problemdaten und Indexmengen\n",
    "- $j\\in J$: Mögliche Standorte der Trucks\n",
    "- $i\\in I$: Standorte der potentiellen Kunden\n",
    "- $d_i$: Bedarf der Kunden\n",
    "- $\\alpha_{ij}\\in [0,1]$: Anteil des Bedarfs von Kunde $i$, der durch einen Truck am Standort $j$ gedeckt werden kann. Diese Zahl ist abhängig von der Entfernung zwischen $i$ und $j$. Wenn $i$ und $j$ nahe beieinander liegen, ist der Wert nahe 1, es kann also der gesamte Bedarf gedeckt werden. Wenn $i$ und $j$ weit voneinander entfernt liegen, ist der Wert $0$, d.h. der Truck an Standort $j$ wird von den Kunden an Standort $i$ nicht genutzt.\n",
    "- $r:$ Umsatz pro Burrito\n",
    "- $k:$ Kosten für die Zutaten\n",
    "- $f:$ Kosten für den Truck \n",
    "\n",
    "### Entscheidungen\n",
    "\n",
    "$$\n",
    "    x_j=\\left\\{\\begin{array}{rl}\n",
    "        1 & \\text{, eröffne Truck an Standort }j \\\\\n",
    "        0 & \\text{, sonst.}\n",
    "        \\end{array}\\right.,\\quad \\forall j \\in J\n",
    "$$\n",
    "\n",
    "$$\n",
    "    y_{ij}=\\left\\{\\begin{array}{rl}\n",
    "        1 & \\text{, Kunde }i\\text{ wird von Truck }j\\text{ bedient.} \\\\\n",
    "        0 & \\text{, sonst.}\n",
    "        \\end{array}\\right.,\\quad \\forall i\\in  I, j \\in J\n",
    "$$\n",
    "\n",
    "### Zielfunktion\n",
    "Der Profit soll maximiert werden. Dieser ist gegeben durch den erzielten Gewinn pro Burrito (Umsatz minus Kosten für Zutaten) multipliziert mit dem gedeckten Bedarf der Kunden. Weiterhin müssen die Fixkosten für jeden eröffneten Truck abgezogen werden:\n",
    "\n",
    "$$\n",
    "\\min \\sum_{i\\in I,j\\in J}(r-k)\\alpha_{ij}d_iy_{ij}-\\sum_{j\\in J}fx_j\n",
    "$$"
   ]
  },
  {
   "cell_type": "markdown",
   "metadata": {},
   "source": [
    "### Constraints\n",
    "1. Jeder Kunde wird von höchstens einem Truck versorgt.\n",
    "\n",
    "    $$\n",
    "    \\sum_{j\\in J}y_{ij} \\leq  1 \\quad \\forall i\\in I\n",
    "    $$\n",
    "\n",
    "2. Wenn ein Kunde an Standort $i$ durch einen Truck an Standort $j$ versorgt wird, so muss der Truck auch an Standort $j$ eröffnet werden.\n",
    "\n",
    "    $$\n",
    "    y_{ij}\\leq x_j,\\quad \\forall i\\in I, j\\in J\n",
    "    $$"
   ]
  },
  {
   "cell_type": "markdown",
   "metadata": {},
   "source": [
    "### Aufgabe\n",
    "\n",
    "Öffnen Sie das [Spiel]((https://burrito.gurobi.com/)) und versuchen sie die jeweiligen \"Problemdaten\" im Spiel zu finden. Wo im Spiel kann man $d_i$, $\\alpha_{ij}$, $r$, $k$ und $f$ ablesen?"
   ]
  }
 ],
 "metadata": {
  "kernelspec": {
   "display_name": "Python 3",
   "language": "python",
   "name": "python3"
  },
  "language_info": {
   "codemirror_mode": {
    "name": "ipython",
    "version": 3
   },
   "file_extension": ".py",
   "mimetype": "text/x-python",
   "name": "python",
   "nbconvert_exporter": "python",
   "pygments_lexer": "ipython3",
   "version": "3.10.12"
  }
 },
 "nbformat": 4,
 "nbformat_minor": 2
}
