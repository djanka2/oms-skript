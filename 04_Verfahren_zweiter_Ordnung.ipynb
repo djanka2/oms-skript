{
 "cells": [
  {
   "cell_type": "markdown",
   "id": "d81c8064-6b39-420b-8994-d6d55dd1a53a",
   "metadata": {
    "tags": []
   },
   "source": [
    "# Verfahren zweiter Ordnung"
   ]
  },
  {
   "cell_type": "code",
   "execution_count": null,
   "id": "127e6238-9696-4233-88cb-24ef0ca7342e",
   "metadata": {},
   "outputs": [],
   "source": []
  }
 ],
 "metadata": {
  "kernelspec": {
   "display_name": "Python 3 (ipykernel)",
   "language": "python",
   "name": "python3"
  },
  "language_info": {
   "codemirror_mode": {
    "name": "ipython",
    "version": 3
   },
   "file_extension": ".py",
   "mimetype": "text/x-python",
   "name": "python",
   "nbconvert_exporter": "python",
   "pygments_lexer": "ipython3",
   "version": "3.9.6"
  }
 },
 "nbformat": 4,
 "nbformat_minor": 5
}
